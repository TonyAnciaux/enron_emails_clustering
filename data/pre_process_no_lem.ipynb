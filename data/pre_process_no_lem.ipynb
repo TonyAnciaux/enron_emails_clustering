{
 "cells": [
  {
   "cell_type": "code",
   "execution_count": 1,
   "metadata": {},
   "outputs": [],
   "source": [
    "import pandas as pd\n",
    "import nltk\n",
    "from nltk.tokenize import word_tokenize, sent_tokenize\n",
    "from nltk.corpus import stopwords\n",
    "import re\n",
    "import csv"
   ]
  },
  {
   "cell_type": "code",
   "execution_count": 2,
   "metadata": {},
   "outputs": [],
   "source": [
    "df = pd.read_csv(\"enron_email.csv\")"
   ]
  },
  {
   "cell_type": "code",
   "execution_count": 3,
   "metadata": {},
   "outputs": [
    {
     "data": {
      "text/plain": [
       "11        \\n\\n\\n---------------------- Forwarded by Yola...\n",
       "32        Jim --\\n\\nPlease see attached from EPSA on the...\n",
       "64        Since I am Chairman of the NERC Interchange Su...\n",
       "66        fyi\\n---------------------- Forwarded by Linda...\n",
       "81        This document, although lengthy, contains insi...\n",
       "                                ...                        \n",
       "517386    Please respond to The Motley Fool \\n==========...\n",
       "517389    Please respond to The Motley Fool \\n==========...\n",
       "517391    Please respond to The Motley Fool \\n==========...\n",
       "517392    Please respond to The Motley Fool \\n==========...\n",
       "517398    \\n=3D=3D=3D=3D=3D=3D=3D=3D=3D=3D=3D=3D=3D=3D=3...\n",
       "Name: message, Length: 97360, dtype: object"
      ]
     },
     "execution_count": 3,
     "metadata": {},
     "output_type": "execute_result"
    }
   ],
   "source": [
    "df.loc[df[\"message\"].str.contains(\"-------------\"), \"message\"]"
   ]
  },
  {
   "cell_type": "code",
   "execution_count": 4,
   "metadata": {},
   "outputs": [],
   "source": [
    "messages = df[\"message\"]\n"
   ]
  },
  {
   "cell_type": "code",
   "execution_count": 5,
   "metadata": {},
   "outputs": [],
   "source": [
    "stop_words = set(stopwords.words('english'))\n",
    "def token_of_email(email):\n",
    "    tokens = word_tokenize(email)\n",
    "    return [w for w in tokens if not w.lower() in stop_words and w.isalpha()]"
   ]
  },
  {
   "cell_type": "code",
   "execution_count": 7,
   "metadata": {},
   "outputs": [],
   "source": [
    "df[\"token\"] = df['message'].map(token_of_email)"
   ]
  }
 ],
 "metadata": {
  "interpreter": {
   "hash": "0db4365f837a7f3dbe2e1d1aa541185f47ba353260c2b18bc4c83605f5af4b47"
  },
  "kernelspec": {
   "display_name": "Python 3.8.10 ('nlpenv')",
   "language": "python",
   "name": "python3"
  },
  "language_info": {
   "codemirror_mode": {
    "name": "ipython",
    "version": 3
   },
   "file_extension": ".py",
   "mimetype": "text/x-python",
   "name": "python",
   "nbconvert_exporter": "python",
   "pygments_lexer": "ipython3",
   "version": "3.8.10"
  },
  "orig_nbformat": 4
 },
 "nbformat": 4,
 "nbformat_minor": 2
}
