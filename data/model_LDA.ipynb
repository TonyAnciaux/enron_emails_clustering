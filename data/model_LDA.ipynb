{
 "cells": [
  {
   "cell_type": "code",
   "execution_count": 1,
   "id": "00c4b7e7-be91-4247-93e4-12d2648d796e",
   "metadata": {},
   "outputs": [],
   "source": [
    "from gensim.models.ldamulticore import LdaMulticore\n",
    "import pandas as pd\n"
   ]
  },
  {
   "cell_type": "code",
   "execution_count": 2,
   "id": "20ab274e-5b7d-4ab8-a027-059944abdb02",
   "metadata": {},
   "outputs": [],
   "source": [
    "from gensim import corpora"
   ]
  },
  {
   "cell_type": "code",
   "execution_count": 3,
   "id": "8089bfdb-0040-42ae-8e50-45770a4080c2",
   "metadata": {},
   "outputs": [],
   "source": [
    "import nltk\n",
    "from nltk.tokenize import word_tokenize, sent_tokenize\n",
    "from nltk.corpus import stopwords\n",
    "import re\n",
    "import spacy\n",
    "import csv\n",
    "import email\n",
    "nlp = spacy.load(\"en_core_web_sm\")\n"
   ]
  },
  {
   "cell_type": "code",
   "execution_count": 4,
   "id": "9df7a122-9a49-4baf-9e01-13a61bf20896",
   "metadata": {},
   "outputs": [],
   "source": [
    "stop_words = set(stopwords.words('english'))\n",
    "def token_of_email(email):\n",
    "    lemmas = nlp(email)\n",
    "    # add NER\n",
    "    return [w.lemma_ for w in lemmas if not w.lemma_.lower() in stop_words and w.lemma_.isalpha()]\n"
   ]
  },
  {
   "cell_type": "code",
   "execution_count": 5,
   "id": "7d5bcb1e-07f8-448e-99c0-9d6af73a807f",
   "metadata": {},
   "outputs": [],
   "source": [
    "import pickle"
   ]
  },
  {
   "cell_type": "code",
   "execution_count": 6,
   "id": "a4dd1bdb-838e-4547-800d-02a54f78a360",
   "metadata": {},
   "outputs": [],
   "source": [
    "with open(\"pickled_dict_all\", \"rb\") as pick:\n",
    "    dictionary = pickle.load(pick) "
   ]
  },
  {
   "cell_type": "code",
   "execution_count": 7,
   "id": "ccbb0d1f-49d5-464c-bb5a-7a3cef693992",
   "metadata": {},
   "outputs": [],
   "source": [
    "id2word = corpora.Dictionary([dictionary])"
   ]
  },
  {
   "cell_type": "code",
   "execution_count": 8,
   "id": "dbb34ba9-f657-460c-a04e-1ef9897dbcb7",
   "metadata": {},
   "outputs": [],
   "source": [
    "paths = pd.read_csv(\"paths.csv\")[\"path\"].to_list()"
   ]
  },
  {
   "cell_type": "code",
   "execution_count": 9,
   "id": "2cc52174-24a9-4d3c-bcfd-496caf64fb9c",
   "metadata": {},
   "outputs": [],
   "source": [
    "import time"
   ]
  },
  {
   "cell_type": "code",
   "execution_count": 10,
   "id": "6ebbb4ad-d644-4ffb-92e0-ef24d45c9a31",
   "metadata": {},
   "outputs": [],
   "source": [
    "class MyCorpus():\n",
    "    def __iter__(self):\n",
    "        for path in paths:\n",
    "            with open(path, \"r\", encoding=\"windows-1252\") as file:\n",
    "                sample = email.message_from_file(file)\n",
    "            message = sample._payload\n",
    "            token = token_of_email(message)\n",
    "            yield id2word.doc2bow(token)"
   ]
  },
  {
   "cell_type": "code",
   "execution_count": 11,
   "id": "18859d33-d2c8-431f-8f8f-c8360cb2e73e",
   "metadata": {},
   "outputs": [],
   "source": [
    "corpus = MyCorpus()"
   ]
  },
  {
   "cell_type": "code",
   "execution_count": 12,
   "id": "db96ebe6-e602-4ced-9959-a64d78ecebd5",
   "metadata": {},
   "outputs": [],
   "source": [
    "nlp.max_length = 2*1e7"
   ]
  },
  {
   "cell_type": "code",
   "execution_count": null,
   "id": "c52f1fb4-32fb-4409-9163-68d4b4d63f85",
   "metadata": {},
   "outputs": [],
   "source": [
    "tic = time.perf_counter()\n",
    "lda = LdaMulticore(corpus, id2word=id2word, num_topics=250, workers=11)\n",
    "toc = time.per_counter\n",
    "print(f\"time {toc-tic}\")"
   ]
  },
  {
   "cell_type": "code",
   "execution_count": null,
   "id": "d3fa1fcc-afa1-4c28-8b4f-37875f01ef2a",
   "metadata": {},
   "outputs": [],
   "source": []
  },
  {
   "cell_type": "code",
   "execution_count": null,
   "id": "c650451f-6115-4257-863d-a34dd874aa1e",
   "metadata": {},
   "outputs": [],
   "source": [
    "with open(\"model_lda_full\", \"ab\") as pick:\n",
    "    pickle.dump(lda, pick) "
   ]
  },
  {
   "cell_type": "code",
   "execution_count": null,
   "id": "dbb3c769-b99f-4edf-b4af-69aa38fb0bde",
   "metadata": {},
   "outputs": [],
   "source": []
  }
 ],
 "metadata": {
  "kernelspec": {
   "display_name": "Python 3 (ipykernel)",
   "language": "python",
   "name": "python3"
  },
  "language_info": {
   "codemirror_mode": {
    "name": "ipython",
    "version": 3
   },
   "file_extension": ".py",
   "mimetype": "text/x-python",
   "name": "python",
   "nbconvert_exporter": "python",
   "pygments_lexer": "ipython3",
   "version": "3.10.4"
  }
 },
 "nbformat": 4,
 "nbformat_minor": 5
}
