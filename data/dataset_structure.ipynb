{
 "cells": [
  {
   "cell_type": "markdown",
   "id": "97a81389-4a1e-413d-809b-c167e11a27db",
   "metadata": {},
   "source": [
    "# Dataset structure notebook"
   ]
  },
  {
   "cell_type": "markdown",
   "id": "5aa8de24-b94a-4c34-b7d4-ed98d84d0cb4",
   "metadata": {},
   "source": [
    "This notebook collects information about the dataset and its structure. This is not a deep exploration of the dataset, just a preliminary step in order to have a clear idea of how to process the emails."
   ]
  },
  {
   "cell_type": "markdown",
   "id": "85d33e9d-298a-4674-b73b-bab5a2e257d8",
   "metadata": {},
   "source": [
    "## Folder structure"
   ]
  },
  {
   "cell_type": "markdown",
   "id": "63b93adf-59b0-4f35-b5dd-f0c185addc27",
   "metadata": {},
   "source": [
    "We work inside the [github directory](https://github.com/qlambotte/enron_emails_clusturing) of the project. The data is stored i `./data/` but is **not** pushed remotely on github. \n",
    "\n",
    "The data is stored in `./data/maildir`, which is extracted from the website [https://www.cs.cmu.edu/~enron/], using\n",
    "```bash\n",
    "wget https://www.cs.cmu.edu/~enron/enron_mail_20150507.tar.gz\n",
    "```\n",
    "\n",
    "Inside `./data/maildir`, there are 150 folders, each named after a person of interest in the ENRON scandal. This number can be retrived using the command (inside `./data/maildir`)\n",
    "```bash\n",
    "ls | wc -l\n",
    "```"
   ]
  },
  {
   "cell_type": "markdown",
   "id": "725e3874-95f3-4ddf-8f6a-a4f7e08c7cc9",
   "metadata": {},
   "source": [
    "Each of the first level folders corresponds to a mailbox of someone. Inside each such folders are several subfolders whose names are like `Inbox`, `Sent`, etc. Let's have a closer look the the structure.\n",
    "\n",
    "The command\n",
    "```bash\n",
    "cd ./data/maildir\n",
    "tree . -L 2\n",
    "```\n",
    "gives the tree structure of the folder `maildir` with depth 2. The result is printed in sdtout, but we can store it inside a json file:\n",
    "```bash\n",
    "tree . -J -L 2 > ../depth_2_tree.json\n",
    "```\n",
    "(the `../depth_2_tree.json` tells that I want to store the result in `./data` and not in `maildir`.\n"
   ]
  },
  {
   "cell_type": "code",
   "execution_count": 5,
   "id": "73fc8a0b-fc33-4add-8e1e-9fb148b8f2e3",
   "metadata": {},
   "outputs": [],
   "source": [
    "import json"
   ]
  },
  {
   "cell_type": "code",
   "execution_count": 7,
   "id": "02cf28bb-ccc7-489b-a69f-ec69635fd126",
   "metadata": {},
   "outputs": [],
   "source": [
    "with open(\"depth_2_tree.json\", \"r\") as file:\n",
    "    data = json.load(file)"
   ]
  },
  {
   "cell_type": "markdown",
   "id": "9e500689-fcbd-4c93-9d0d-63570a95a61c",
   "metadata": {},
   "source": [
    "The `data` object is a list that contains two dict. The second element is a report of the structure."
   ]
  },
  {
   "cell_type": "code",
   "execution_count": 12,
   "id": "9bb90c5b-412e-43f2-9fb4-1c1906a3bb73",
   "metadata": {},
   "outputs": [
    {
     "data": {
      "text/plain": [
       "{'type': 'report', 'directories': 2949, 'files': 7}"
      ]
     },
     "execution_count": 12,
     "metadata": {},
     "output_type": "execute_result"
    }
   ],
   "source": [
    "data[1]"
   ]
  },
  {
   "cell_type": "markdown",
   "id": "c8a28705-cf93-4582-9fa4-d76b779db8a0",
   "metadata": {},
   "source": [
    "The first is the tree structure of depth 2. The label `\"contents\"` is of interest to us. It is a list of subdirectories, those of level 1."
   ]
  },
  {
   "cell_type": "code",
   "execution_count": 16,
   "id": "3412023c-45d1-41bc-9d43-e557c4d94100",
   "metadata": {},
   "outputs": [
    {
     "data": {
      "text/plain": [
       "150"
      ]
     },
     "execution_count": 16,
     "metadata": {},
     "output_type": "execute_result"
    }
   ],
   "source": [
    "len(data[0][\"contents\"])"
   ]
  },
  {
   "cell_type": "markdown",
   "id": "cb459ce9-ae2c-405b-8c88-a6d22a9d9130",
   "metadata": {},
   "source": [
    "I want to extract the names of the directories of level 2, to have a rough idea of what is available. I will use the set data structure in order to quickly deal with duplicates."
   ]
  },
  {
   "cell_type": "code",
   "execution_count": 29,
   "id": "a6b58ceb-91d4-43f3-a6ba-8088c8e7f1ce",
   "metadata": {},
   "outputs": [],
   "source": [
    "level_2_names = set()\n",
    "level_2_files = set()"
   ]
  },
  {
   "cell_type": "code",
   "execution_count": 30,
   "id": "3b600393-1c30-4656-b4d8-a004fc3c2fac",
   "metadata": {},
   "outputs": [],
   "source": [
    "level_1 = data[0][\"contents\"]"
   ]
  },
  {
   "cell_type": "markdown",
   "id": "d46654a5-08a5-4fda-a54f-2a4b232545c9",
   "metadata": {},
   "source": [
    "Here is a sample of a level 1 dir"
   ]
  },
  {
   "cell_type": "code",
   "execution_count": 31,
   "id": "e8e53dc1-d50e-441c-bcdf-164b8b21fee7",
   "metadata": {},
   "outputs": [
    {
     "data": {
      "text/plain": [
       "{'type': 'directory',\n",
       " 'name': 'allen-p',\n",
       " 'contents': [{'type': 'directory', 'name': 'all_documents'},\n",
       "  {'type': 'directory', 'name': 'contacts'},\n",
       "  {'type': 'directory', 'name': 'deleted_items'},\n",
       "  {'type': 'directory', 'name': 'discussion_threads'},\n",
       "  {'type': 'directory', 'name': 'inbox'},\n",
       "  {'type': 'directory', 'name': 'notes_inbox'},\n",
       "  {'type': 'directory', 'name': 'sent'},\n",
       "  {'type': 'directory', 'name': 'sent_items'},\n",
       "  {'type': 'directory', 'name': '_sent_mail'},\n",
       "  {'type': 'directory', 'name': 'straw'}]}"
      ]
     },
     "execution_count": 31,
     "metadata": {},
     "output_type": "execute_result"
    }
   ],
   "source": [
    "level_1[0]"
   ]
  },
  {
   "cell_type": "code",
   "execution_count": 32,
   "id": "e26c29d0-ab51-4b74-8421-05334f3f86fc",
   "metadata": {},
   "outputs": [],
   "source": [
    "for folder in level_1:\n",
    "    sub = folder[\"contents\"]\n",
    "    for subsub in sub:\n",
    "        if subsub[\"type\"] == \"directory\":\n",
    "            level_2_names.add(subsub[\"name\"])\n",
    "        else:\n",
    "            level_2_files.add((folder[\"name\"],subsub[\"name\"]))\n"
   ]
  },
  {
   "cell_type": "markdown",
   "id": "1916f5b3-b257-430c-895d-b47c8c7e2ca6",
   "metadata": {},
   "source": [
    "The files in `level_2_files` are mails that are not classified."
   ]
  },
  {
   "cell_type": "code",
   "execution_count": 34,
   "id": "24864e65-75d5-40fe-b2c3-de61365b14ab",
   "metadata": {},
   "outputs": [
    {
     "data": {
      "text/plain": [
       "{('baughman-d', '1.'),\n",
       " ('corman-s', '1.'),\n",
       " ('lokay-m', '1.'),\n",
       " ('richey-c', '1.'),\n",
       " ('scholtes-d', '1.'),\n",
       " ('shively-h', '1.'),\n",
       " ('shively-h', '2.')}"
      ]
     },
     "execution_count": 34,
     "metadata": {},
     "output_type": "execute_result"
    }
   ],
   "source": [
    "level_2_files"
   ]
  },
  {
   "cell_type": "markdown",
   "id": "a0fd0666-9165-4309-9623-eebf42a2d271",
   "metadata": {},
   "source": [
    "I went trough these emails. Some of them look like spams but others are relevant emails (from enron to enron employees). So we should keep them. I would think that these email weren't processed in time."
   ]
  },
  {
   "cell_type": "markdown",
   "id": "b9986221-9f75-4dfb-a4f3-4cf59c113ed3",
   "metadata": {},
   "source": [
    "The set `level_2_names` contains the names of level 2 folders"
   ]
  },
  {
   "cell_type": "code",
   "execution_count": 36,
   "id": "f2582573-b5d5-4a3d-b3cb-4a04fc06db26",
   "metadata": {},
   "outputs": [
    {
     "data": {
      "text/plain": [
       "1425"
      ]
     },
     "execution_count": 36,
     "metadata": {},
     "output_type": "execute_result"
    }
   ],
   "source": [
    "len(level_2_names)"
   ]
  },
  {
   "cell_type": "markdown",
   "id": "c7f1f9ee-3b76-4c91-9782-c4cf92e49c28",
   "metadata": {},
   "source": [
    "It is quite a long set and I feel that it may be untreatable by hand. Do we need to include it in the data? Or is this info already present in the email files?"
   ]
  },
  {
   "cell_type": "markdown",
   "id": "83e11238-ad05-408f-bdbf-a995540347f7",
   "metadata": {},
   "source": [
    "Yes it is in the header under the field `X-Folder`"
   ]
  },
  {
   "cell_type": "markdown",
   "id": "e097922f-45c7-4376-9cbb-9763e2912d27",
   "metadata": {},
   "source": [
    "NOTE: when you open a mail in some app, you may find the char `^M` at the end of lines. This is the symbol used by windows to indicate the return character."
   ]
  },
  {
   "cell_type": "markdown",
   "id": "47bacbf2-015a-452b-8947-2e9236c4f3e6",
   "metadata": {},
   "source": [
    "Emails are encoded using the [MIME standard](https://en.wikipedia.org/wiki/MIME). This will allow a uniform treatment of the mails."
   ]
  },
  {
   "cell_type": "markdown",
   "id": "265a70f9-fb65-4a92-8ed4-3e26a022a3ad",
   "metadata": {},
   "source": [
    "Python provides a lib [`email`](https://docs.python.org/3/library/email.html#module-email) to deal with emails, in complience with the MIME standard."
   ]
  },
  {
   "cell_type": "code",
   "execution_count": null,
   "id": "b4d0b677-1a5b-40a4-b93f-0003db94a991",
   "metadata": {},
   "outputs": [],
   "source": [
    "import email\n",
    "with open(\"./maildir/baughman-d/ubsw_energy/enron_to_ubs_trans/4.\", \"r\") as file:\n",
    "    sample = email.message_from_file(file)"
   ]
  },
  {
   "cell_type": "markdown",
   "id": "b88a732b-5fbc-496b-93a0-6c6b0fb96aa1",
   "metadata": {},
   "source": [
    "`sample` is a Message object. A message object is dict generator. We can therefore iterate over it."
   ]
  },
  {
   "cell_type": "code",
   "execution_count": null,
   "id": "d4b422fa-88ec-4194-84bf-2916a19c9442",
   "metadata": {},
   "outputs": [
    {
     "name": "stdout",
     "output_type": "stream",
     "text": [
      "Message-ID: <2098599.1075857099003.JavaMail.evans@thyme>\n",
      "Date: Mon, 11 Dec 2000 00:01:00 -0800 (PST)\n",
      "From: alerts@equityalert.com\n",
      "To: alewis@ect.enron.com\n",
      "Subject: Your News Alert for QCOM\n",
      "Mime-Version: 1.0\n",
      "Content-Type: text/plain; charset=ANSI_X3.4-1968\n",
      "Content-Transfer-Encoding: quoted-printable\n",
      "X-From: \"Equity Alert Center\" <alerts@equityalert.com>\n",
      "X-To: \"Andrew Lewis\" <alewis@ect.enron.com>\n",
      "X-cc: \n",
      "X-bcc: \n",
      "X-Folder: \\Andrew_Lewis_Dec2000\\Notes Folders\\All documents\n",
      "X-Origin: Lewis-A\n",
      "X-FileName: alewis.nsf\n",
      "\n",
      "=3D=3D=3D=3D=3D=3D=3D=3D=3D=3D=3D=3D=3D=3D=3D=3D=3D=3D=3D=3D=3D=3D=3D=3D=3D=\n",
      "=3D=3D=3D=3D=3D=3D=3D=3D=3D=3D=3D=3D=3D=3D=3D=3D=3D=3D=3D=3D=3D=3D=3D=3D=3D=\n",
      "=3D=3D=3D=3D=3D=3D=3D=3D=3D=3D=3D=3D=3D=3D\n",
      "As requested, your News Alert for QCOM\n",
      "follows from EquityAlert.com.\n",
      "To edit/discontinue your alerts please refer to end of message.\n",
      "PLEASE REVIEW THE NOTICE AND DISCLAIMER BELOW\n",
      "=3D=3D=3D=3D=3D=3D=3D=3D=3D=3D=3D=3D=3D=3D=3D=3D=3D=3D=3D=3D=3D=3D=3D=3D=3D=\n",
      "=3D=3D=3D=3D=3D=3D=3D=3D=3D=3D=3D=3D=3D=3D=3D=3D=3D=3D=3D=3D=3D=3D=3D=3D=3D=\n",
      "=3D=3D=3D=3D=3D=3D=3D=3D=3D=3D=3D=3D=3D=3D\n",
      "\n",
      "\n",
      "=3D-=3D-=3D-=3D-=3D-=3D-=3D-=3D-=3D-=3D-=3D-=3D-=3D-=3D-=3D-=3D-=3D-=3D-=3D=\n",
      "-=3D-=3D-=3D-=3D-=3D-=3D-=3D-=3D-=3D-=3D-=3D-=3D-=3D-=3D-=3D\n",
      "=3D-=3D-=3D-=3D-=3D-=3D-=3D-=3D=3D-=3D-=3D-=3D-=3D Paid Advertisement -=3D-=\n",
      "=3D-=3D-=3D-=3D-=3D-=3D-=3D-=3D-=3D-=3D-\n",
      "=3D-=3D-=3D-=3D-=3D-=3D-=3D-=3D-=3D-=3D-=3D-=3D-=3D-=3D-=3D-=3D-=3D-=3D-=3D=\n",
      "-=3D-=3D-=3D-=3D-=3D-=3D-=3D-=3D-=3D-=3D-=3D-=3D-=3D-=3D-=3D\n",
      "\n",
      "Looking for an emerging growth company in an exciting, burgeoning\n",
      "industry.\n",
      "\n",
      "Search no more. Xraymedia.Com (OTC BB: XRMD) is currently assembling\n",
      "partners to undertake the business of selling conventional\n",
      "advertising space and online advertising in an industry that broke\n",
      "the $2billion dollar mark in the second quarter of 2000. For more\n",
      "compelling information on this exciting investment opportunity,\n",
      "\n",
      "click here: http://205.210.134.51/a1.asp?ID=3D1249aa\n",
      "\n",
      "\n",
      "\n",
      "AOL USERS: copy & paste the link above into your browser.\n",
      "=3D-=3D-=3D-=3D-=3D-=3D-=3D-=3D-=3D-=3D-=3D-=3D-=3D-=3D-=3D-=3D-=3D-=3D-=3D=\n",
      "-=3D-=3D-=3D-=3D-=3D-=3D-=3D-=3D-=3D-=3D-=3D-=3D-=3D-=3D-=3D\n",
      "=3D-=3D-=3D-=3D-=3D-=3D-=3D-=3D-=3D-=3D-=3D-=3D-=3D-=3D-=3D-=3D-=3D-=3D-=3D=\n",
      "-=3D-=3D-=3D-=3D-=3D-=3D-=3D-=3D-=3D-=3D-=3D-=3D-=3D-=3D-=3D\n",
      "\n",
      "\n",
      "QUALCOMM and Tektronix Expand CDMA License Agreement; 3G Amendment\n",
      "Enables Tektronix to Further Develop and Manufacture Test Solutions for the\n",
      "Wireless Industry\n",
      "\n",
      "SAN DIEGO, Dec 11, 2000 (BUSINESS WIRE) -- QUALCOMM Incorporated (Nasdaq:=\n",
      "=20\n",
      "QCOM)\n",
      "and Tektronix, Inc. (NYSE: TEK) today announced that they have entered into=\n",
      " an\n",
      "amended license agreement expanding Tektronix' existing Code Division Multi=\n",
      "ple\n",
      "Access (CDMA) license agreement with QUALCOMM. Tektronix will use the licen=\n",
      "se=20\n",
      "to\n",
      "develop and manufacture third-generation (3G) test solutions for the wirele=\n",
      "ss\n",
      "industry. These next-generation products will operate on higher-capacity\n",
      "wireless networks, deployed to meet the growing demands for high-speed=20\n",
      "wireless\n",
      "data applications and Internet access.\n",
      "\n",
      "\"This 3G license agreement amendment for QUALCOMM's essential patent portfo=\n",
      "lio\n",
      "at industry-standard royalty rates will allow Tektronix to expand its abili=\n",
      "ty=20\n",
      "to\n",
      "develop and manufacture advanced next-generation test solutions for the 3G=\n",
      "=20\n",
      "CDMA\n",
      "market, including cdma2000, WCDMA and 1xEV,\" said Marvin Blecker, senior vi=\n",
      "ce\n",
      "president of technology transfer for QUALCOMM. \"We are pleased that Tektron=\n",
      "ix\n",
      "has chosen to expand its license to help meet the growing demand for CDMA\n",
      "wireless solutions.\"\n",
      "\n",
      "\"The wireless industry needs measurement tools that are capable of meeting =\n",
      "the\n",
      "immediate development needs of 3G applications,\" said Scott Bausback, vice\n",
      "president, Communications Business Unit, Tektronix. \"Access to QUALCOMM's\n",
      "world-class technology enables Tektronix to create state-of-the-art 3G test\n",
      "solutions -- and in turn, enable designers and manufacturers to successfull=\n",
      "y\n",
      "develop and install the infrastructure needed to meet the growing demands o=\n",
      "f\n",
      "today's wireless customers.\"\n",
      "\n",
      "Tektronix, Inc. is a test, measurement and monitoring company providing\n",
      "measurement solutions to the telecommunications, computer and semiconductor\n",
      "industries worldwide. With over 50 years of experience, Tektronix enables i=\n",
      "ts\n",
      "customers to design, build, deploy and manage next-generation global\n",
      "communications networks and Internet technologies. Headquartered in Beavert=\n",
      "on,\n",
      "Ore., Tektronix has operations in 26 countries worldwide. Tektronix' Web=20\n",
      "address\n",
      "is www.tektronix.com.\n",
      "\n",
      "QUALCOMM Incorporated (www.qualcomm.com) is a leader in developing and\n",
      "delivering innovative digital wireless communications products and services\n",
      "based on the Company's CDMA digital technology. The Company's business area=\n",
      "s\n",
      "include integrated CDMA chipsets and system software; technology licensing;\n",
      "Eudora(R) email software for Windows(R) and Macintosh(R) computing platform=\n",
      "s;\n",
      "digital cinema systems; and satellite-based systems including portions of t=\n",
      "he\n",
      "Globalstar(TM) system and wireless fleet management systems, OmniTRACS(R) a=\n",
      "nd\n",
      "OmniExpress(TM). QUALCOMM owns patents that are essential to all of the CDM=\n",
      "A\n",
      "wireless telecommunications standards that have been adopted or proposed fo=\n",
      "r\n",
      "adoption by standards-setting bodies worldwide. QUALCOMM has licensed its\n",
      "essential CDMA patent portfolio to more than 90 telecommunications equipmen=\n",
      "t\n",
      "manufacturers worldwide. Headquartered in San Diego, Calif., QUALCOMM is\n",
      "included in the S&P 500 Index and is a 2000 FORTUNE 500(R) company traded o=\n",
      "n=20\n",
      "The\n",
      "Nasdaq Stock Market(R) under the ticker symbol QCOM.\n",
      "\n",
      "Except for the historical information contained herein, this news release\n",
      "contains forward-looking statements that are subject to risks and=20\n",
      "uncertainties,\n",
      "including the Company's ability to successfully design and have manufacture=\n",
      "d\n",
      "significant quantities of CDMA components on a timely and profitable basis,=\n",
      "=20\n",
      "the\n",
      "extent and speed to which CDMA is deployed, change in economic conditions o=\n",
      "f=20\n",
      "the\n",
      "various markets the Company serves, as well as the other risks detailed fro=\n",
      "m\n",
      "time to time in the Company's SEC reports, including the report on Form 10-=\n",
      "K=20\n",
      "for\n",
      "the year ended September 24, 2000, and most recent Form 10-Q.\n",
      "\n",
      "\n",
      "\n",
      "QUALCOMM, OmniTRACS and Eudora are registered trademarks and OmniExpress is=\n",
      " a\n",
      "trademark of QUALCOMM Incorporated. Globalstar is a trademark of Loral=20\n",
      "QUALCOMM\n",
      "Satellite Services, Incorporated. Windows is a registered trademark of=20\n",
      "Microsoft\n",
      "Corp. Macintosh is a registered trademark of Apple Computer Inc. All other\n",
      "trademarks are the property of their respective owners.\n",
      "\n",
      "\n",
      "CONTACT:          QUALCOMM Incorporated\n",
      "Christine Trimble, Corporate Public Relations\n",
      "858/651-3628, Fax 858/651-2590\n",
      "ctrimble@qualcomm.com\n",
      "or\n",
      "Julie Cunningham, Investor Relations\n",
      "858/658-4224, Fax 858/651-9303\n",
      "jcunningham@qualcomm.com\n",
      "or\n",
      "Tektronix\n",
      "Steve Kuyatt, Worldwide Public Relations\n",
      "503/627-2001, Fax 503/627-4873\n",
      "steven.j.kuyatt@tektronix.com\n",
      "or\n",
      "Heather Wyse, Investor Relations\n",
      "503/627-1121, Fax 503/627-1161\n",
      "heather.l.wyse@tektronix.com\n",
      "\n",
      "URL:              http://www.businesswire.com\n",
      "Today's News On The Net - Business Wire's full file on the Internet\n",
      "with Hyperlinks to your home page.\n",
      "\n",
      "Copyright (C) 2000 Business Wire.  All rights reserved.\n",
      "\n",
      "-0-\n",
      "\n",
      "\n",
      "KEYWORD:          CALIFORNIA\n",
      "INDUSTRY KEYWORD: COMPUTERS/ELECTRONICS\n",
      "HARDWARE\n",
      "INTERNET\n",
      "SOFTWARE\n",
      "TELECOMMUNICATIONS\n",
      "MARKETING\n",
      "AGREEMENTS\n",
      "\n",
      "\n",
      "\n",
      "****************** TO EDIT YOUR EQUITY ALERTS ********************\n",
      "To unsubscribe or edit your alerts, visit\n",
      "http://www.equityalert.com/alerts.asp?uid=3Dalewis34&xid=3D40352\n",
      "******************************************************************\n",
      "\n",
      "***IMPORTANT NOTICE AND DISCLAIMER REGARDING THIS COURTESY EMAIL**\n",
      "At your request, as a subscriber to our service, this email alert\n",
      "is being sent to you as a courtesy and is for information purposes\n",
      "only.  We are a financial news re-distributor.  We are not an\n",
      "investment advisory and do not purport to tell or suggest which\n",
      "companies you should monitor or which securities you should\n",
      "purchase or sell.\n",
      "In addition to the information regarding the company you are\n",
      "monitoring (the =01&Monitored Company=018), this email contains an\n",
      "advertisement describing a product, service or company for which we\n",
      "received a fee, at our normal advertising rates of $55 per 1,000 e-\n",
      "mails (subject to volume and other discounts), from the advertising\n",
      "company.  In addition, not withstanding our policy of prohibiting\n",
      "employees from buying or selling securities of an advertising\n",
      "company for a period of 20 days following dissemination of the\n",
      "advertisement, we may not be able to effectively monitor our\n",
      "employees to ensure compliance with the same. Consequently, there\n",
      "may be sales and/or purchases of such securities by our employees\n",
      "prior to, during and immediately following the dissemination of the\n",
      "advertisement.\n",
      "Please note that (1) this email may not contain the full text of\n",
      "the press release issued by, or the research or other reports\n",
      "regarding, the Monitored Company; and (2) the text of the\n",
      "advertisement, the press release and/or reports were obtained from\n",
      "third party sources and were not written, generated or edited by\n",
      "us; accordingly, we make no representations or give any assurance\n",
      "as to the accuracy or completeness, nor have we conducted any\n",
      "independent investigations of, the disclosures regarding the\n",
      "subject matter of such releases and reports.\n",
      "Please note that links to the advertising company and/or Monitored\n",
      "Company are provided for your convenience.  We assume no obligation\n",
      "for the content of such sites.\n",
      "All information contained herein should be independently verified\n",
      "by you with the advertising company or with Monitored Company or\n",
      "any other sources you prefer.\n",
      "[THIS IS ONLY A SUMMARY OF, AND IS QUALIFIED IN ITS ENTIRETY BY\n",
      "REFERENCE TO, THE =01&EQUITYALERT SUBSCRIBER AGREEMENT AND\n",
      "DISCLAIMER.=018 PLEASE VISIT\n",
      "http://www.equityalert.com/home/disclaim.asp\n",
      "FOR ACCESS TO OUR COMPLETE DISCLAIMER]\n",
      "******************************************************************\n"
     ]
    }
   ],
   "source": [
    "for part in sample.walk():\n",
    "    print(part)"
   ]
  },
  {
   "cell_type": "markdown",
   "id": "e96eea14-5c26-4774-ad65-604eaf926e3c",
   "metadata": {},
   "source": [
    "As you can see the field `X-folder` contains the path to the mail. It is however in a weird format and should be cleaned."
   ]
  },
  {
   "cell_type": "code",
   "execution_count": 74,
   "id": "f3a05c31-b501-477f-9af5-395207c8ce4f",
   "metadata": {},
   "outputs": [
    {
     "name": "stdout",
     "output_type": "stream",
     "text": [
      "text/plain\n"
     ]
    }
   ],
   "source": [
    "email.iterators._structure(sample)"
   ]
  },
  {
   "cell_type": "markdown",
   "id": "330b3ee5-8d02-47e3-bfb7-804751e0abb9",
   "metadata": {},
   "source": [
    "The content of a mail is in the attribute `_payload`."
   ]
  },
  {
   "cell_type": "code",
   "execution_count": 59,
   "id": "44360fe7-bd88-4315-8724-39ede55b5219",
   "metadata": {},
   "outputs": [
    {
     "data": {
      "text/plain": [
       "['__bytes__',\n",
       " '__class__',\n",
       " '__contains__',\n",
       " '__delattr__',\n",
       " '__delitem__',\n",
       " '__dict__',\n",
       " '__dir__',\n",
       " '__doc__',\n",
       " '__eq__',\n",
       " '__format__',\n",
       " '__ge__',\n",
       " '__getattribute__',\n",
       " '__getitem__',\n",
       " '__gt__',\n",
       " '__hash__',\n",
       " '__init__',\n",
       " '__init_subclass__',\n",
       " '__iter__',\n",
       " '__le__',\n",
       " '__len__',\n",
       " '__lt__',\n",
       " '__module__',\n",
       " '__ne__',\n",
       " '__new__',\n",
       " '__reduce__',\n",
       " '__reduce_ex__',\n",
       " '__repr__',\n",
       " '__setattr__',\n",
       " '__setitem__',\n",
       " '__sizeof__',\n",
       " '__str__',\n",
       " '__subclasshook__',\n",
       " '__weakref__',\n",
       " '_charset',\n",
       " '_default_type',\n",
       " '_get_params_preserve',\n",
       " '_headers',\n",
       " '_payload',\n",
       " '_unixfrom',\n",
       " 'add_header',\n",
       " 'as_bytes',\n",
       " 'as_string',\n",
       " 'attach',\n",
       " 'defects',\n",
       " 'del_param',\n",
       " 'epilogue',\n",
       " 'get',\n",
       " 'get_all',\n",
       " 'get_boundary',\n",
       " 'get_charset',\n",
       " 'get_charsets',\n",
       " 'get_content_charset',\n",
       " 'get_content_disposition',\n",
       " 'get_content_maintype',\n",
       " 'get_content_subtype',\n",
       " 'get_content_type',\n",
       " 'get_default_type',\n",
       " 'get_filename',\n",
       " 'get_param',\n",
       " 'get_params',\n",
       " 'get_payload',\n",
       " 'get_unixfrom',\n",
       " 'is_multipart',\n",
       " 'items',\n",
       " 'keys',\n",
       " 'policy',\n",
       " 'preamble',\n",
       " 'raw_items',\n",
       " 'replace_header',\n",
       " 'set_boundary',\n",
       " 'set_charset',\n",
       " 'set_default_type',\n",
       " 'set_param',\n",
       " 'set_payload',\n",
       " 'set_raw',\n",
       " 'set_type',\n",
       " 'set_unixfrom',\n",
       " 'values',\n",
       " 'walk']"
      ]
     },
     "execution_count": 59,
     "metadata": {},
     "output_type": "execute_result"
    }
   ],
   "source": [
    "dir(sample)"
   ]
  },
  {
   "cell_type": "code",
   "execution_count": 89,
   "id": "a8c19248-1ddb-4012-820a-8f57ffe55866",
   "metadata": {},
   "outputs": [
    {
     "name": "stdout",
     "output_type": "stream",
     "text": [
      "Room 6106 at 10:00 is reserved \n",
      "\n",
      " -----Original Message-----\n",
      "From: \tBailey, Debra  \n",
      "Sent:\tTuesday, January 29, 2002 8:42 AM\n",
      "To:\tNicolay, Christi L.; Steffes, James D.\n",
      "Cc:\tRust, Bill; Will, Lloyd; Baughman Jr., Don; Bentley, Corry; Donovan, Terry W.; Abler, Bill; Rorschach, Reagan\n",
      "Subject:\tRE: Transmission Agreements Meeting Tues. Jan. 29 10:00 a.m.\n",
      "\n",
      "Jim, Christi,\n",
      "\n",
      "Are you available to attend this meeting today to discuss the going forward plan for transmission agreements in UBS.  \n",
      "\n",
      "Debra\n",
      "\n",
      "Debra Bailey\n",
      "East Power Trading\n",
      "\n",
      " -----Original Message-----\n",
      "From: \tBaughman Jr., Don  \n",
      "Sent:\tMonday, January 28, 2002 4:39 PM\n",
      "To:\tRust, Bill; Bentley, Corry; Bailey, Debra; Donovan, Terry W.; Abler, Bill; Rorschach, Reagan\n",
      "Cc:\tWill, Lloyd\n",
      "Subject:\tTransmission Agreements Meeting Tues. Jan. 29 10:00 a.m.\n",
      "\n",
      "Hey,\n",
      "\n",
      "After speaking with Reagan in origination, we thought it would be a good idea to evaluate the status of New Transmission Agreements project.\n",
      "\n",
      "If it pleases all, let's all get together from 10:00 to 10:30 on Tuesday Jan. 29.\n",
      "\n",
      "If you have any questions or timing conflicts give me a shout.\n",
      "\n",
      "Don Baughman\n",
      "Wk: 3-0392\n",
      "Cell: 281-787-0029\n"
     ]
    }
   ],
   "source": [
    "print(sample._payload)"
   ]
  },
  {
   "cell_type": "markdown",
   "id": "c87c43c5-c8fc-4c7b-b235-d9a9926add94",
   "metadata": {},
   "source": [
    "Likewise, we can isolate the header by reading the `_headers` attribute."
   ]
  },
  {
   "cell_type": "code",
   "execution_count": 93,
   "id": "8df9df2f-4992-4f2e-8b6b-6b2b1ddb1257",
   "metadata": {},
   "outputs": [
    {
     "data": {
      "text/plain": [
       "[('Message-ID', '<13886924.1075840348227.JavaMail.evans@thyme>'),\n",
       " ('Date', 'Tue, 29 Jan 2002 06:55:31 -0800 (PST)'),\n",
       " ('From', 'debra.bailey@enron.com'),\n",
       " ('To',\n",
       "  'debra.bailey@enron.com, l..nicolay@enron.com, d..steffes@enron.com, \\n\\tbill.rust@enron.com, lloyd.will@enron.com, don.baughman@enron.com, \\n\\tcorry.bentley@enron.com, w..donovan@enron.com, bill.abler@enron.com, \\n\\treagan.rorschach@enron.com'),\n",
       " ('Subject',\n",
       "  'Room ECS: 06106,   RE: Transmission Agreements Meeting Tues. Jan.\\n 29 10:00 a.m.'),\n",
       " ('Mime-Version', '1.0'),\n",
       " ('Content-Type', 'text/plain; charset=us-ascii'),\n",
       " ('Content-Transfer-Encoding', '7bit'),\n",
       " ('X-From', 'Bailey, Debra </O=ENRON/OU=NA/CN=RECIPIENTS/CN=DBAILEY2>'),\n",
       " ('X-To',\n",
       "  'Bailey, Debra </O=ENRON/OU=NA/CN=RECIPIENTS/CN=Dbailey2>, Nicolay, Christi L. </O=ENRON/OU=NA/CN=RECIPIENTS/CN=Cnicola>, Steffes, James D. </O=ENRON/OU=NA/CN=RECIPIENTS/CN=Jsteffe>, Rust, Bill </O=ENRON/OU=NA/CN=RECIPIENTS/CN=Brust>, Will, Lloyd </O=ENRON/OU=NA/CN=RECIPIENTS/CN=Lwill>, Baughman Jr., Don </O=ENRON/OU=NA/CN=RECIPIENTS/CN=Dbaughm>, Bentley, Corry </O=ENRON/OU=NA/CN=RECIPIENTS/CN=Cbentle>, Donovan, Terry W. </O=ENRON/OU=NA/CN=RECIPIENTS/CN=Tdonova>, Abler, Bill </O=ENRON/OU=NA/CN=RECIPIENTS/CN=Wabler>, Rorschach, Reagan </O=ENRON/OU=NA/CN=RECIPIENTS/CN=Rrorscha>'),\n",
       " ('X-cc', ''),\n",
       " ('X-bcc', ''),\n",
       " ('X-Folder',\n",
       "  '\\\\ExMerge - Baughman Jr., Don\\\\UBSW Energy\\\\Enron to UBS trans'),\n",
       " ('X-Origin', 'BAUGHMAN-D'),\n",
       " ('X-FileName', 'don baughman 6-25-02.PST')]"
      ]
     },
     "execution_count": 93,
     "metadata": {},
     "output_type": "execute_result"
    }
   ],
   "source": [
    "sample._headers"
   ]
  },
  {
   "cell_type": "markdown",
   "id": "772bc364-ae7c-4725-aafd-d3e21d9116f3",
   "metadata": {},
   "source": [
    "Therefore, it would be relatively easy to agregate the data in a dataframe (or a dataframe generator?). I would include the path to the file in the data frame instead of using `X-Folder`. In any case, this info will be used by the webapp."
   ]
  },
  {
   "cell_type": "markdown",
   "id": "3f2ddd22-0224-401a-820c-6ef97752e449",
   "metadata": {},
   "source": [
    "The following script creates a df from the dataset. Each row corresponds to an email. The features are the headers, the body of the message and the path to the email file."
   ]
  },
  {
   "cell_type": "code",
   "execution_count": 112,
   "id": "451335cd-f04a-4940-9bc2-ba1c19b6ebe5",
   "metadata": {},
   "outputs": [],
   "source": [
    "import os\n",
    "list_of_mails = []\n",
    "for subdir, dirs, mails in os.walk(\"./maildir\"):\n",
    "    for mail in mails:\n",
    "        dict_of_email = {}\n",
    "        path = os.path.join(subdir, mail)\n",
    "        with open(path, \"r\", encoding=\"windows-1252\") as file:\n",
    "            sample = email.message_from_file(file)\n",
    "        for head in sample.keys():\n",
    "            dict_of_email[head] = sample[head]\n",
    "        dict_of_email[\"message\"] = sample._payload\n",
    "        dict_of_email[\"path\"] = path\n",
    "        list_of_mails.append(dict_of_email)\n",
    "        "
   ]
  },
  {
   "cell_type": "code",
   "execution_count": 103,
   "id": "6dfadc7f-2500-4aa8-816f-04eb1e6de48c",
   "metadata": {},
   "outputs": [
    {
     "data": {
      "text/plain": [
       "517401"
      ]
     },
     "execution_count": 103,
     "metadata": {},
     "output_type": "execute_result"
    }
   ],
   "source": [
    "len(list_of_mails)"
   ]
  },
  {
   "cell_type": "code",
   "execution_count": 107,
   "id": "1e08d116-1536-4008-8ff6-df1133679dca",
   "metadata": {},
   "outputs": [
    {
     "data": {
      "text/plain": [
       "{'Message-ID': '<2098599.1075857099003.JavaMail.evans@thyme>',\n",
       " 'Date': 'Mon, 11 Dec 2000 00:01:00 -0800 (PST)',\n",
       " 'From': 'alerts@equityalert.com',\n",
       " 'To': 'alewis@ect.enron.com',\n",
       " 'Subject': 'Your News Alert for QCOM',\n",
       " 'Mime-Version': '1.0',\n",
       " 'Content-Type': 'text/plain; charset=ANSI_X3.4-1968',\n",
       " 'Content-Transfer-Encoding': 'quoted-printable',\n",
       " 'X-From': '\"Equity Alert Center\" <alerts@equityalert.com>',\n",
       " 'X-To': '\"Andrew Lewis\" <alewis@ect.enron.com>',\n",
       " 'X-cc': '',\n",
       " 'X-bcc': '',\n",
       " 'X-Folder': '\\\\Andrew_Lewis_Dec2000\\\\Notes Folders\\\\All documents',\n",
       " 'X-Origin': 'Lewis-A',\n",
       " 'X-FileName': 'alewis.nsf',\n",
       " 'message': '=3D=3D=3D=3D=3D=3D=3D=3D=3D=3D=3D=3D=3D=3D=3D=3D=3D=3D=3D=3D=3D=3D=3D=3D=3D=\\n=3D=3D=3D=3D=3D=3D=3D=3D=3D=3D=3D=3D=3D=3D=3D=3D=3D=3D=3D=3D=3D=3D=3D=3D=3D=\\n=3D=3D=3D=3D=3D=3D=3D=3D=3D=3D=3D=3D=3D=3D\\nAs requested, your News Alert for QCOM\\nfollows from EquityAlert.com.\\nTo edit/discontinue your alerts please refer to end of message.\\nPLEASE REVIEW THE NOTICE AND DISCLAIMER BELOW\\n=3D=3D=3D=3D=3D=3D=3D=3D=3D=3D=3D=3D=3D=3D=3D=3D=3D=3D=3D=3D=3D=3D=3D=3D=3D=\\n=3D=3D=3D=3D=3D=3D=3D=3D=3D=3D=3D=3D=3D=3D=3D=3D=3D=3D=3D=3D=3D=3D=3D=3D=3D=\\n=3D=3D=3D=3D=3D=3D=3D=3D=3D=3D=3D=3D=3D=3D\\n\\n\\n=3D-=3D-=3D-=3D-=3D-=3D-=3D-=3D-=3D-=3D-=3D-=3D-=3D-=3D-=3D-=3D-=3D-=3D-=3D=\\n-=3D-=3D-=3D-=3D-=3D-=3D-=3D-=3D-=3D-=3D-=3D-=3D-=3D-=3D-=3D\\n=3D-=3D-=3D-=3D-=3D-=3D-=3D-=3D=3D-=3D-=3D-=3D-=3D Paid Advertisement -=3D-=\\n=3D-=3D-=3D-=3D-=3D-=3D-=3D-=3D-=3D-=3D-\\n=3D-=3D-=3D-=3D-=3D-=3D-=3D-=3D-=3D-=3D-=3D-=3D-=3D-=3D-=3D-=3D-=3D-=3D-=3D=\\n-=3D-=3D-=3D-=3D-=3D-=3D-=3D-=3D-=3D-=3D-=3D-=3D-=3D-=3D-=3D\\n\\nLooking for an emerging growth company in an exciting, burgeoning\\nindustry.\\n\\nSearch no more. Xraymedia.Com (OTC BB: XRMD) is currently assembling\\npartners to undertake the business of selling conventional\\nadvertising space and online advertising in an industry that broke\\nthe $2billion dollar mark in the second quarter of 2000. For more\\ncompelling information on this exciting investment opportunity,\\n\\nclick here: http://205.210.134.51/a1.asp?ID=3D1249aa\\n\\n\\n\\nAOL USERS: copy & paste the link above into your browser.\\n=3D-=3D-=3D-=3D-=3D-=3D-=3D-=3D-=3D-=3D-=3D-=3D-=3D-=3D-=3D-=3D-=3D-=3D-=3D=\\n-=3D-=3D-=3D-=3D-=3D-=3D-=3D-=3D-=3D-=3D-=3D-=3D-=3D-=3D-=3D\\n=3D-=3D-=3D-=3D-=3D-=3D-=3D-=3D-=3D-=3D-=3D-=3D-=3D-=3D-=3D-=3D-=3D-=3D-=3D=\\n-=3D-=3D-=3D-=3D-=3D-=3D-=3D-=3D-=3D-=3D-=3D-=3D-=3D-=3D-=3D\\n\\n\\nQUALCOMM and Tektronix Expand CDMA License Agreement; 3G Amendment\\nEnables Tektronix to Further Develop and Manufacture Test Solutions for the\\nWireless Industry\\n\\nSAN DIEGO, Dec 11, 2000 (BUSINESS WIRE) -- QUALCOMM Incorporated (Nasdaq:=\\n=20\\nQCOM)\\nand Tektronix, Inc. (NYSE: TEK) today announced that they have entered into=\\n an\\namended license agreement expanding Tektronix\\' existing Code Division Multi=\\nple\\nAccess (CDMA) license agreement with QUALCOMM. Tektronix will use the licen=\\nse=20\\nto\\ndevelop and manufacture third-generation (3G) test solutions for the wirele=\\nss\\nindustry. These next-generation products will operate on higher-capacity\\nwireless networks, deployed to meet the growing demands for high-speed=20\\nwireless\\ndata applications and Internet access.\\n\\n\"This 3G license agreement amendment for QUALCOMM\\'s essential patent portfo=\\nlio\\nat industry-standard royalty rates will allow Tektronix to expand its abili=\\nty=20\\nto\\ndevelop and manufacture advanced next-generation test solutions for the 3G=\\n=20\\nCDMA\\nmarket, including cdma2000, WCDMA and 1xEV,\" said Marvin Blecker, senior vi=\\nce\\npresident of technology transfer for QUALCOMM. \"We are pleased that Tektron=\\nix\\nhas chosen to expand its license to help meet the growing demand for CDMA\\nwireless solutions.\"\\n\\n\"The wireless industry needs measurement tools that are capable of meeting =\\nthe\\nimmediate development needs of 3G applications,\" said Scott Bausback, vice\\npresident, Communications Business Unit, Tektronix. \"Access to QUALCOMM\\'s\\nworld-class technology enables Tektronix to create state-of-the-art 3G test\\nsolutions -- and in turn, enable designers and manufacturers to successfull=\\ny\\ndevelop and install the infrastructure needed to meet the growing demands o=\\nf\\ntoday\\'s wireless customers.\"\\n\\nTektronix, Inc. is a test, measurement and monitoring company providing\\nmeasurement solutions to the telecommunications, computer and semiconductor\\nindustries worldwide. With over 50 years of experience, Tektronix enables i=\\nts\\ncustomers to design, build, deploy and manage next-generation global\\ncommunications networks and Internet technologies. Headquartered in Beavert=\\non,\\nOre., Tektronix has operations in 26 countries worldwide. Tektronix\\' Web=20\\naddress\\nis www.tektronix.com.\\n\\nQUALCOMM Incorporated (www.qualcomm.com) is a leader in developing and\\ndelivering innovative digital wireless communications products and services\\nbased on the Company\\'s CDMA digital technology. The Company\\'s business area=\\ns\\ninclude integrated CDMA chipsets and system software; technology licensing;\\nEudora(R) email software for Windows(R) and Macintosh(R) computing platform=\\ns;\\ndigital cinema systems; and satellite-based systems including portions of t=\\nhe\\nGlobalstar(TM) system and wireless fleet management systems, OmniTRACS(R) a=\\nnd\\nOmniExpress(TM). QUALCOMM owns patents that are essential to all of the CDM=\\nA\\nwireless telecommunications standards that have been adopted or proposed fo=\\nr\\nadoption by standards-setting bodies worldwide. QUALCOMM has licensed its\\nessential CDMA patent portfolio to more than 90 telecommunications equipmen=\\nt\\nmanufacturers worldwide. Headquartered in San Diego, Calif., QUALCOMM is\\nincluded in the S&P 500 Index and is a 2000 FORTUNE 500(R) company traded o=\\nn=20\\nThe\\nNasdaq Stock Market(R) under the ticker symbol QCOM.\\n\\nExcept for the historical information contained herein, this news release\\ncontains forward-looking statements that are subject to risks and=20\\nuncertainties,\\nincluding the Company\\'s ability to successfully design and have manufacture=\\nd\\nsignificant quantities of CDMA components on a timely and profitable basis,=\\n=20\\nthe\\nextent and speed to which CDMA is deployed, change in economic conditions o=\\nf=20\\nthe\\nvarious markets the Company serves, as well as the other risks detailed fro=\\nm\\ntime to time in the Company\\'s SEC reports, including the report on Form 10-=\\nK=20\\nfor\\nthe year ended September 24, 2000, and most recent Form 10-Q.\\n\\n\\n\\nQUALCOMM, OmniTRACS and Eudora are registered trademarks and OmniExpress is=\\n a\\ntrademark of QUALCOMM Incorporated. Globalstar is a trademark of Loral=20\\nQUALCOMM\\nSatellite Services, Incorporated. Windows is a registered trademark of=20\\nMicrosoft\\nCorp. Macintosh is a registered trademark of Apple Computer Inc. All other\\ntrademarks are the property of their respective owners.\\n\\n\\nCONTACT:          QUALCOMM Incorporated\\nChristine Trimble, Corporate Public Relations\\n858/651-3628, Fax 858/651-2590\\nctrimble@qualcomm.com\\nor\\nJulie Cunningham, Investor Relations\\n858/658-4224, Fax 858/651-9303\\njcunningham@qualcomm.com\\nor\\nTektronix\\nSteve Kuyatt, Worldwide Public Relations\\n503/627-2001, Fax 503/627-4873\\nsteven.j.kuyatt@tektronix.com\\nor\\nHeather Wyse, Investor Relations\\n503/627-1121, Fax 503/627-1161\\nheather.l.wyse@tektronix.com\\n\\nURL:              http://www.businesswire.com\\nToday\\'s News On The Net - Business Wire\\'s full file on the Internet\\nwith Hyperlinks to your home page.\\n\\nCopyright (C) 2000 Business Wire.  All rights reserved.\\n\\n-0-\\n\\n\\nKEYWORD:          CALIFORNIA\\nINDUSTRY KEYWORD: COMPUTERS/ELECTRONICS\\nHARDWARE\\nINTERNET\\nSOFTWARE\\nTELECOMMUNICATIONS\\nMARKETING\\nAGREEMENTS\\n\\n\\n\\n****************** TO EDIT YOUR EQUITY ALERTS ********************\\nTo unsubscribe or edit your alerts, visit\\nhttp://www.equityalert.com/alerts.asp?uid=3Dalewis34&xid=3D40352\\n******************************************************************\\n\\n***IMPORTANT NOTICE AND DISCLAIMER REGARDING THIS COURTESY EMAIL**\\nAt your request, as a subscriber to our service, this email alert\\nis being sent to you as a courtesy and is for information purposes\\nonly.  We are a financial news re-distributor.  We are not an\\ninvestment advisory and do not purport to tell or suggest which\\ncompanies you should monitor or which securities you should\\npurchase or sell.\\nIn addition to the information regarding the company you are\\nmonitoring (the =01&Monitored Company=018), this email contains an\\nadvertisement describing a product, service or company for which we\\nreceived a fee, at our normal advertising rates of $55 per 1,000 e-\\nmails (subject to volume and other discounts), from the advertising\\ncompany.  In addition, not withstanding our policy of prohibiting\\nemployees from buying or selling securities of an advertising\\ncompany for a period of 20 days following dissemination of the\\nadvertisement, we may not be able to effectively monitor our\\nemployees to ensure compliance with the same. Consequently, there\\nmay be sales and/or purchases of such securities by our employees\\nprior to, during and immediately following the dissemination of the\\nadvertisement.\\nPlease note that (1) this email may not contain the full text of\\nthe press release issued by, or the research or other reports\\nregarding, the Monitored Company; and (2) the text of the\\nadvertisement, the press release and/or reports were obtained from\\nthird party sources and were not written, generated or edited by\\nus; accordingly, we make no representations or give any assurance\\nas to the accuracy or completeness, nor have we conducted any\\nindependent investigations of, the disclosures regarding the\\nsubject matter of such releases and reports.\\nPlease note that links to the advertising company and/or Monitored\\nCompany are provided for your convenience.  We assume no obligation\\nfor the content of such sites.\\nAll information contained herein should be independently verified\\nby you with the advertising company or with Monitored Company or\\nany other sources you prefer.\\n[THIS IS ONLY A SUMMARY OF, AND IS QUALIFIED IN ITS ENTIRETY BY\\nREFERENCE TO, THE =01&EQUITYALERT SUBSCRIBER AGREEMENT AND\\nDISCLAIMER.=018 PLEASE VISIT\\nhttp://www.equityalert.com/home/disclaim.asp\\nFOR ACCESS TO OUR COMPLETE DISCLAIMER]\\n******************************************************************',\n",
       " 'path': './maildir/lewis-a/all_documents/119.'}"
      ]
     },
     "execution_count": 109,
     "metadata": {},
     "output_type": "execute_result"
    }
   ],
   "source": [
    "print(list_of_mails[0][\"message\"])"
   ]
  },
  {
   "cell_type": "code",
   "execution_count": 113,
   "id": "27a7ca6c-cbcb-47ed-b683-02635054dd23",
   "metadata": {},
   "outputs": [],
   "source": [
    "import pandas as pd"
   ]
  },
  {
   "cell_type": "code",
   "execution_count": 114,
   "id": "b55b9a73-e9f9-46d6-b9c2-97fe6666df5e",
   "metadata": {},
   "outputs": [],
   "source": [
    "df = pd.DataFrame(list_of_mails)"
   ]
  },
  {
   "cell_type": "code",
   "execution_count": 115,
   "id": "6546b9cd-f198-4787-b7eb-115cd19aab6d",
   "metadata": {},
   "outputs": [
    {
     "data": {
      "text/html": [
       "<div>\n",
       "<style scoped>\n",
       "    .dataframe tbody tr th:only-of-type {\n",
       "        vertical-align: middle;\n",
       "    }\n",
       "\n",
       "    .dataframe tbody tr th {\n",
       "        vertical-align: top;\n",
       "    }\n",
       "\n",
       "    .dataframe thead th {\n",
       "        text-align: right;\n",
       "    }\n",
       "</style>\n",
       "<table border=\"1\" class=\"dataframe\">\n",
       "  <thead>\n",
       "    <tr style=\"text-align: right;\">\n",
       "      <th></th>\n",
       "      <th>Message-ID</th>\n",
       "      <th>Date</th>\n",
       "      <th>From</th>\n",
       "      <th>To</th>\n",
       "      <th>Subject</th>\n",
       "      <th>Mime-Version</th>\n",
       "      <th>Content-Type</th>\n",
       "      <th>Content-Transfer-Encoding</th>\n",
       "      <th>X-From</th>\n",
       "      <th>X-To</th>\n",
       "      <th>...</th>\n",
       "      <th>X-Folder</th>\n",
       "      <th>X-Origin</th>\n",
       "      <th>X-FileName</th>\n",
       "      <th>message</th>\n",
       "      <th>path</th>\n",
       "      <th>Cc</th>\n",
       "      <th>Bcc</th>\n",
       "      <th>Attendees</th>\n",
       "      <th>Re</th>\n",
       "      <th>Time</th>\n",
       "    </tr>\n",
       "  </thead>\n",
       "  <tbody>\n",
       "    <tr>\n",
       "      <th>0</th>\n",
       "      <td>&lt;2098599.1075857099003.JavaMail.evans@thyme&gt;</td>\n",
       "      <td>Mon, 11 Dec 2000 00:01:00 -0800 (PST)</td>\n",
       "      <td>alerts@equityalert.com</td>\n",
       "      <td>alewis@ect.enron.com</td>\n",
       "      <td>Your News Alert for QCOM</td>\n",
       "      <td>1.0</td>\n",
       "      <td>text/plain; charset=ANSI_X3.4-1968</td>\n",
       "      <td>quoted-printable</td>\n",
       "      <td>\"Equity Alert Center\" &lt;alerts@equityalert.com&gt;</td>\n",
       "      <td>\"Andrew Lewis\" &lt;alewis@ect.enron.com&gt;</td>\n",
       "      <td>...</td>\n",
       "      <td>\\Andrew_Lewis_Dec2000\\Notes Folders\\All documents</td>\n",
       "      <td>Lewis-A</td>\n",
       "      <td>alewis.nsf</td>\n",
       "      <td>=3D=3D=3D=3D=3D=3D=3D=3D=3D=3D=3D=3D=3D=3D=3D=...</td>\n",
       "      <td>./maildir/lewis-a/all_documents/119.</td>\n",
       "      <td>NaN</td>\n",
       "      <td>NaN</td>\n",
       "      <td>NaN</td>\n",
       "      <td>NaN</td>\n",
       "      <td>NaN</td>\n",
       "    </tr>\n",
       "    <tr>\n",
       "      <th>1</th>\n",
       "      <td>&lt;11799771.1075857119010.JavaMail.evans@thyme&gt;</td>\n",
       "      <td>Wed, 18 Apr 2001 04:06:00 -0700 (PDT)</td>\n",
       "      <td>faretracker_018751@expedia.customer-email.com</td>\n",
       "      <td>alewis@ect.enron.com</td>\n",
       "      <td>Incredible low fares, wherever you're traveling!</td>\n",
       "      <td>1.0</td>\n",
       "      <td>text/plain; charset=ANSI_X3.4-1968</td>\n",
       "      <td>quoted-printable</td>\n",
       "      <td>\"Fare Tracker\" &lt;FareTracker_018751@expedia.cus...</td>\n",
       "      <td>&lt;alewis@ect.enron.com&gt;</td>\n",
       "      <td>...</td>\n",
       "      <td>\\Andrew_Lewis_Jun2001\\Notes Folders\\All documents</td>\n",
       "      <td>Lewis-A</td>\n",
       "      <td>alewis.nsf</td>\n",
       "      <td>[IMAGE]\\n\\n=09homeflightshotelscarspackagescru...</td>\n",
       "      <td>./maildir/lewis-a/all_documents/186.</td>\n",
       "      <td>NaN</td>\n",
       "      <td>NaN</td>\n",
       "      <td>NaN</td>\n",
       "      <td>NaN</td>\n",
       "      <td>NaN</td>\n",
       "    </tr>\n",
       "    <tr>\n",
       "      <th>2</th>\n",
       "      <td>&lt;24059220.1075857100396.JavaMail.evans@thyme&gt;</td>\n",
       "      <td>Thu, 9 Nov 2000 09:44:00 -0800 (PST)</td>\n",
       "      <td>suzanne.brown@enron.com</td>\n",
       "      <td>andrew.lewis@enron.com</td>\n",
       "      <td>ClickAtHome Pilot 2 Program - An Invitation</td>\n",
       "      <td>1.0</td>\n",
       "      <td>text/plain; charset=us-ascii</td>\n",
       "      <td>7bit</td>\n",
       "      <td>Suzanne Brown</td>\n",
       "      <td>Andrew H Lewis</td>\n",
       "      <td>...</td>\n",
       "      <td>\\Andrew_Lewis_Dec2000\\Notes Folders\\All documents</td>\n",
       "      <td>Lewis-A</td>\n",
       "      <td>alewis.nsf</td>\n",
       "      <td>---------------------- Forwarded by Suzanne Br...</td>\n",
       "      <td>./maildir/lewis-a/all_documents/155.</td>\n",
       "      <td>NaN</td>\n",
       "      <td>NaN</td>\n",
       "      <td>NaN</td>\n",
       "      <td>NaN</td>\n",
       "      <td>NaN</td>\n",
       "    </tr>\n",
       "    <tr>\n",
       "      <th>3</th>\n",
       "      <td>&lt;4004009.1075857093933.JavaMail.evans@thyme&gt;</td>\n",
       "      <td>Wed, 13 Dec 2000 00:49:00 -0800 (PST)</td>\n",
       "      <td>alerts@equityalert.com</td>\n",
       "      <td>alewis@ect.enron.com</td>\n",
       "      <td>Your News Alert for YHOO</td>\n",
       "      <td>1.0</td>\n",
       "      <td>text/plain; charset=ANSI_X3.4-1968</td>\n",
       "      <td>quoted-printable</td>\n",
       "      <td>\"Equity Alert Center\" &lt;alerts@equityalert.com&gt;</td>\n",
       "      <td>\"Andrew Lewis\" &lt;alewis@ect.enron.com&gt;</td>\n",
       "      <td>...</td>\n",
       "      <td>\\Andrew_Lewis_Dec2000\\Notes Folders\\All documents</td>\n",
       "      <td>Lewis-A</td>\n",
       "      <td>alewis.nsf</td>\n",
       "      <td>=3D=3D=3D=3D=3D=3D=3D=3D=3D=3D=3D=3D=3D=3D=3D=...</td>\n",
       "      <td>./maildir/lewis-a/all_documents/38.</td>\n",
       "      <td>NaN</td>\n",
       "      <td>NaN</td>\n",
       "      <td>NaN</td>\n",
       "      <td>NaN</td>\n",
       "      <td>NaN</td>\n",
       "    </tr>\n",
       "    <tr>\n",
       "      <th>4</th>\n",
       "      <td>&lt;28870681.1075857095278.JavaMail.evans@thyme&gt;</td>\n",
       "      <td>Tue, 12 Dec 2000 10:50:00 -0800 (PST)</td>\n",
       "      <td>enron.announcements@enron.com</td>\n",
       "      <td>all.states@enron.com</td>\n",
       "      <td>Improved Process for Engaging Temporary Workers</td>\n",
       "      <td>1.0</td>\n",
       "      <td>text/plain; charset=ANSI_X3.4-1968</td>\n",
       "      <td>quoted-printable</td>\n",
       "      <td>Enron Announcements</td>\n",
       "      <td>All Enron Employees United States</td>\n",
       "      <td>...</td>\n",
       "      <td>\\Andrew_Lewis_Dec2000\\Notes Folders\\All documents</td>\n",
       "      <td>Lewis-A</td>\n",
       "      <td>alewis.nsf</td>\n",
       "      <td>As you are aware, Enron utilizes temporary sta...</td>\n",
       "      <td>./maildir/lewis-a/all_documents/54.</td>\n",
       "      <td>NaN</td>\n",
       "      <td>NaN</td>\n",
       "      <td>NaN</td>\n",
       "      <td>NaN</td>\n",
       "      <td>NaN</td>\n",
       "    </tr>\n",
       "  </tbody>\n",
       "</table>\n",
       "<p>5 rows × 22 columns</p>\n",
       "</div>"
      ],
      "text/plain": [
       "                                      Message-ID  \\\n",
       "0   <2098599.1075857099003.JavaMail.evans@thyme>   \n",
       "1  <11799771.1075857119010.JavaMail.evans@thyme>   \n",
       "2  <24059220.1075857100396.JavaMail.evans@thyme>   \n",
       "3   <4004009.1075857093933.JavaMail.evans@thyme>   \n",
       "4  <28870681.1075857095278.JavaMail.evans@thyme>   \n",
       "\n",
       "                                    Date  \\\n",
       "0  Mon, 11 Dec 2000 00:01:00 -0800 (PST)   \n",
       "1  Wed, 18 Apr 2001 04:06:00 -0700 (PDT)   \n",
       "2   Thu, 9 Nov 2000 09:44:00 -0800 (PST)   \n",
       "3  Wed, 13 Dec 2000 00:49:00 -0800 (PST)   \n",
       "4  Tue, 12 Dec 2000 10:50:00 -0800 (PST)   \n",
       "\n",
       "                                            From                      To  \\\n",
       "0                         alerts@equityalert.com    alewis@ect.enron.com   \n",
       "1  faretracker_018751@expedia.customer-email.com    alewis@ect.enron.com   \n",
       "2                        suzanne.brown@enron.com  andrew.lewis@enron.com   \n",
       "3                         alerts@equityalert.com    alewis@ect.enron.com   \n",
       "4                  enron.announcements@enron.com    all.states@enron.com   \n",
       "\n",
       "                                            Subject Mime-Version  \\\n",
       "0                          Your News Alert for QCOM          1.0   \n",
       "1  Incredible low fares, wherever you're traveling!          1.0   \n",
       "2       ClickAtHome Pilot 2 Program - An Invitation          1.0   \n",
       "3                          Your News Alert for YHOO          1.0   \n",
       "4   Improved Process for Engaging Temporary Workers          1.0   \n",
       "\n",
       "                         Content-Type Content-Transfer-Encoding  \\\n",
       "0  text/plain; charset=ANSI_X3.4-1968          quoted-printable   \n",
       "1  text/plain; charset=ANSI_X3.4-1968          quoted-printable   \n",
       "2        text/plain; charset=us-ascii                      7bit   \n",
       "3  text/plain; charset=ANSI_X3.4-1968          quoted-printable   \n",
       "4  text/plain; charset=ANSI_X3.4-1968          quoted-printable   \n",
       "\n",
       "                                              X-From  \\\n",
       "0     \"Equity Alert Center\" <alerts@equityalert.com>   \n",
       "1  \"Fare Tracker\" <FareTracker_018751@expedia.cus...   \n",
       "2                                      Suzanne Brown   \n",
       "3     \"Equity Alert Center\" <alerts@equityalert.com>   \n",
       "4                                Enron Announcements   \n",
       "\n",
       "                                    X-To  ...  \\\n",
       "0  \"Andrew Lewis\" <alewis@ect.enron.com>  ...   \n",
       "1                 <alewis@ect.enron.com>  ...   \n",
       "2                         Andrew H Lewis  ...   \n",
       "3  \"Andrew Lewis\" <alewis@ect.enron.com>  ...   \n",
       "4      All Enron Employees United States  ...   \n",
       "\n",
       "                                            X-Folder X-Origin  X-FileName  \\\n",
       "0  \\Andrew_Lewis_Dec2000\\Notes Folders\\All documents  Lewis-A  alewis.nsf   \n",
       "1  \\Andrew_Lewis_Jun2001\\Notes Folders\\All documents  Lewis-A  alewis.nsf   \n",
       "2  \\Andrew_Lewis_Dec2000\\Notes Folders\\All documents  Lewis-A  alewis.nsf   \n",
       "3  \\Andrew_Lewis_Dec2000\\Notes Folders\\All documents  Lewis-A  alewis.nsf   \n",
       "4  \\Andrew_Lewis_Dec2000\\Notes Folders\\All documents  Lewis-A  alewis.nsf   \n",
       "\n",
       "                                             message  \\\n",
       "0  =3D=3D=3D=3D=3D=3D=3D=3D=3D=3D=3D=3D=3D=3D=3D=...   \n",
       "1  [IMAGE]\\n\\n=09homeflightshotelscarspackagescru...   \n",
       "2  ---------------------- Forwarded by Suzanne Br...   \n",
       "3  =3D=3D=3D=3D=3D=3D=3D=3D=3D=3D=3D=3D=3D=3D=3D=...   \n",
       "4  As you are aware, Enron utilizes temporary sta...   \n",
       "\n",
       "                                   path   Cc  Bcc Attendees   Re Time  \n",
       "0  ./maildir/lewis-a/all_documents/119.  NaN  NaN       NaN  NaN  NaN  \n",
       "1  ./maildir/lewis-a/all_documents/186.  NaN  NaN       NaN  NaN  NaN  \n",
       "2  ./maildir/lewis-a/all_documents/155.  NaN  NaN       NaN  NaN  NaN  \n",
       "3   ./maildir/lewis-a/all_documents/38.  NaN  NaN       NaN  NaN  NaN  \n",
       "4   ./maildir/lewis-a/all_documents/54.  NaN  NaN       NaN  NaN  NaN  \n",
       "\n",
       "[5 rows x 22 columns]"
      ]
     },
     "execution_count": 115,
     "metadata": {},
     "output_type": "execute_result"
    }
   ],
   "source": [
    "df.head()"
   ]
  },
  {
   "cell_type": "code",
   "execution_count": null,
   "id": "42b1b6df-7bb5-4dea-9e92-8a098570780c",
   "metadata": {},
   "outputs": [],
   "source": []
  }
 ],
 "metadata": {
  "kernelspec": {
   "display_name": "Python 3 (ipykernel)",
   "language": "python",
   "name": "python3"
  },
  "language_info": {
   "codemirror_mode": {
    "name": "ipython",
    "version": 3
   },
   "file_extension": ".py",
   "mimetype": "text/x-python",
   "name": "python",
   "nbconvert_exporter": "python",
   "pygments_lexer": "ipython3",
   "version": "3.10.4"
  }
 },
 "nbformat": 4,
 "nbformat_minor": 5
}
