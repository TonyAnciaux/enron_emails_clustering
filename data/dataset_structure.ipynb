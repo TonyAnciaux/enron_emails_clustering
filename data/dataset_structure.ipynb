{
 "cells": [
  {
   "cell_type": "markdown",
   "id": "97a81389-4a1e-413d-809b-c167e11a27db",
   "metadata": {},
   "source": [
    "# Dataset structure notebook"
   ]
  },
  {
   "cell_type": "markdown",
   "id": "5aa8de24-b94a-4c34-b7d4-ed98d84d0cb4",
   "metadata": {},
   "source": [
    "This notebook collects information about the dataset and its structure. This is not a deep exploration of the dataset, just a preliminary step in order to have a clear idea of how to process the emails."
   ]
  },
  {
   "cell_type": "markdown",
   "id": "85d33e9d-298a-4674-b73b-bab5a2e257d8",
   "metadata": {},
   "source": [
    "## Folder structure"
   ]
  },
  {
   "cell_type": "markdown",
   "id": "63b93adf-59b0-4f35-b5dd-f0c185addc27",
   "metadata": {},
   "source": [
    "We work inside the [github directory](https://github.com/qlambotte/enron_emails_clusturing) of the project. The data is stored i `./data/` but is **not** pushed remotely on github. \n",
    "\n",
    "The data is stored in `./data/maildir`, which is extracted from the website [https://www.cs.cmu.edu/~enron/], using\n",
    "```bash\n",
    "wget https://www.cs.cmu.edu/~enron/enron_mail_20150507.tar.gz\n",
    "```\n",
    "\n",
    "Inside `./data/maildir`, there are 150 folders, each named after a person of interest in the ENRON scandal. This number can be retrived using the command (inside `./data/maildir`)\n",
    "```bash\n",
    "ls | wc -l\n",
    "```"
   ]
  },
  {
   "cell_type": "markdown",
   "id": "725e3874-95f3-4ddf-8f6a-a4f7e08c7cc9",
   "metadata": {},
   "source": [
    "Each of the first level folders corresponds to a mailbox of someone. Inside each such folders are several subfolders whose names are like `Inbox`, `Sent`, etc. Let's have a closer look the the structure.\n",
    "\n",
    "The command\n",
    "```bash\n",
    "cd ./data/maildir\n",
    "tree . -L 2\n",
    "```\n",
    "gives the tree structure of the folder `maildir` with depth 2. The result is printed in sdtout, but we can store it inside a json file:\n",
    "```bash\n",
    "tree . -J -L 2 > ../depth_2_tree.json\n",
    "```\n",
    "(the `../depth_2_tree.json` tells that I want to store the result in `./data` and not in `maildir`.\n"
   ]
  },
  {
   "cell_type": "code",
   "execution_count": 5,
   "id": "73fc8a0b-fc33-4add-8e1e-9fb148b8f2e3",
   "metadata": {},
   "outputs": [],
   "source": [
    "import json"
   ]
  },
  {
   "cell_type": "code",
   "execution_count": 7,
   "id": "02cf28bb-ccc7-489b-a69f-ec69635fd126",
   "metadata": {},
   "outputs": [],
   "source": [
    "with open(\"depth_2_tree.json\", \"r\") as file:\n",
    "    data = json.load(file)"
   ]
  },
  {
   "cell_type": "markdown",
   "id": "9e500689-fcbd-4c93-9d0d-63570a95a61c",
   "metadata": {},
   "source": [
    "The `data` object is a list that contains two dict. The second element is a report of the structure."
   ]
  },
  {
   "cell_type": "code",
   "execution_count": 12,
   "id": "9bb90c5b-412e-43f2-9fb4-1c1906a3bb73",
   "metadata": {},
   "outputs": [
    {
     "data": {
      "text/plain": [
       "{'type': 'report', 'directories': 2949, 'files': 7}"
      ]
     },
     "execution_count": 12,
     "metadata": {},
     "output_type": "execute_result"
    }
   ],
   "source": [
    "data[1]"
   ]
  },
  {
   "cell_type": "markdown",
   "id": "c8a28705-cf93-4582-9fa4-d76b779db8a0",
   "metadata": {},
   "source": [
    "The first is the tree structure of depth 2. The label `\"contents\"` is of interest to us. It is a list of subdirectories, those of level 1."
   ]
  },
  {
   "cell_type": "code",
   "execution_count": 16,
   "id": "3412023c-45d1-41bc-9d43-e557c4d94100",
   "metadata": {},
   "outputs": [
    {
     "data": {
      "text/plain": [
       "150"
      ]
     },
     "execution_count": 16,
     "metadata": {},
     "output_type": "execute_result"
    }
   ],
   "source": [
    "len(data[0][\"contents\"])"
   ]
  },
  {
   "cell_type": "markdown",
   "id": "cb459ce9-ae2c-405b-8c88-a6d22a9d9130",
   "metadata": {},
   "source": [
    "I want to extract the names of the directories of level 2, to have a rough idea of what is available. I will use the set data structure in order to quickly deal with duplicates."
   ]
  },
  {
   "cell_type": "code",
   "execution_count": 29,
   "id": "a6b58ceb-91d4-43f3-a6ba-8088c8e7f1ce",
   "metadata": {},
   "outputs": [],
   "source": [
    "level_2_names = set()\n",
    "level_2_files = set()"
   ]
  },
  {
   "cell_type": "code",
   "execution_count": 30,
   "id": "3b600393-1c30-4656-b4d8-a004fc3c2fac",
   "metadata": {},
   "outputs": [],
   "source": [
    "level_1 = data[0][\"contents\"]"
   ]
  },
  {
   "cell_type": "markdown",
   "id": "d46654a5-08a5-4fda-a54f-2a4b232545c9",
   "metadata": {},
   "source": [
    "Here is a sample of a level 1 dir"
   ]
  },
  {
   "cell_type": "code",
   "execution_count": 31,
   "id": "e8e53dc1-d50e-441c-bcdf-164b8b21fee7",
   "metadata": {},
   "outputs": [
    {
     "data": {
      "text/plain": [
       "{'type': 'directory',\n",
       " 'name': 'allen-p',\n",
       " 'contents': [{'type': 'directory', 'name': 'all_documents'},\n",
       "  {'type': 'directory', 'name': 'contacts'},\n",
       "  {'type': 'directory', 'name': 'deleted_items'},\n",
       "  {'type': 'directory', 'name': 'discussion_threads'},\n",
       "  {'type': 'directory', 'name': 'inbox'},\n",
       "  {'type': 'directory', 'name': 'notes_inbox'},\n",
       "  {'type': 'directory', 'name': 'sent'},\n",
       "  {'type': 'directory', 'name': 'sent_items'},\n",
       "  {'type': 'directory', 'name': '_sent_mail'},\n",
       "  {'type': 'directory', 'name': 'straw'}]}"
      ]
     },
     "execution_count": 31,
     "metadata": {},
     "output_type": "execute_result"
    }
   ],
   "source": [
    "level_1[0]"
   ]
  },
  {
   "cell_type": "code",
   "execution_count": 32,
   "id": "e26c29d0-ab51-4b74-8421-05334f3f86fc",
   "metadata": {},
   "outputs": [],
   "source": [
    "for folder in level_1:\n",
    "    sub = folder[\"contents\"]\n",
    "    for subsub in sub:\n",
    "        if subsub[\"type\"] == \"directory\":\n",
    "            level_2_names.add(subsub[\"name\"])\n",
    "        else:\n",
    "            level_2_files.add((folder[\"name\"],subsub[\"name\"]))\n"
   ]
  },
  {
   "cell_type": "markdown",
   "id": "1916f5b3-b257-430c-895d-b47c8c7e2ca6",
   "metadata": {},
   "source": [
    "The files in `level_2_files` are mails that are not classified."
   ]
  },
  {
   "cell_type": "code",
   "execution_count": 34,
   "id": "24864e65-75d5-40fe-b2c3-de61365b14ab",
   "metadata": {},
   "outputs": [
    {
     "data": {
      "text/plain": [
       "{('baughman-d', '1.'),\n",
       " ('corman-s', '1.'),\n",
       " ('lokay-m', '1.'),\n",
       " ('richey-c', '1.'),\n",
       " ('scholtes-d', '1.'),\n",
       " ('shively-h', '1.'),\n",
       " ('shively-h', '2.')}"
      ]
     },
     "execution_count": 34,
     "metadata": {},
     "output_type": "execute_result"
    }
   ],
   "source": [
    "level_2_files"
   ]
  },
  {
   "cell_type": "markdown",
   "id": "a0fd0666-9165-4309-9623-eebf42a2d271",
   "metadata": {},
   "source": [
    "I went trough these emails. Some of them look like spams but others are relevant emails (from enron to enron employees). So we should keep them. I would think that these email weren't processed in time."
   ]
  },
  {
   "cell_type": "markdown",
   "id": "b9986221-9f75-4dfb-a4f3-4cf59c113ed3",
   "metadata": {},
   "source": [
    "The set `level_2_names` contains the names of level 2 folders"
   ]
  },
  {
   "cell_type": "code",
   "execution_count": 36,
   "id": "f2582573-b5d5-4a3d-b3cb-4a04fc06db26",
   "metadata": {},
   "outputs": [
    {
     "data": {
      "text/plain": [
       "1425"
      ]
     },
     "execution_count": 36,
     "metadata": {},
     "output_type": "execute_result"
    }
   ],
   "source": [
    "len(level_2_names)"
   ]
  },
  {
   "cell_type": "markdown",
   "id": "c7f1f9ee-3b76-4c91-9782-c4cf92e49c28",
   "metadata": {},
   "source": [
    "It is quite a long set and I feel that it may be untreatable by hand. Do we need to include it in the data? Or is this info already present in the email files?"
   ]
  },
  {
   "cell_type": "markdown",
   "id": "83e11238-ad05-408f-bdbf-a995540347f7",
   "metadata": {},
   "source": [
    "Yes it is in the header under the field `X-Folder`"
   ]
  },
  {
   "cell_type": "markdown",
   "id": "e097922f-45c7-4376-9cbb-9763e2912d27",
   "metadata": {},
   "source": [
    "NOTE: when you open a mail in some app, you may find the char `^M` at the end of lines. This is the symbol used by windows to indicate the return character."
   ]
  },
  {
   "cell_type": "markdown",
   "id": "47bacbf2-015a-452b-8947-2e9236c4f3e6",
   "metadata": {},
   "source": [
    "Emails are encoded using the [MIME standard](https://en.wikipedia.org/wiki/MIME). This will allow a uniform treatment of the mails."
   ]
  },
  {
   "cell_type": "markdown",
   "id": "265a70f9-fb65-4a92-8ed4-3e26a022a3ad",
   "metadata": {},
   "source": [
    "Python provides a lib [`email`](https://docs.python.org/3/library/email.html#module-email) to deal with emails, in complience with the MIME standard."
   ]
  },
  {
   "cell_type": "code",
   "execution_count": 48,
   "id": "b4d0b677-1a5b-40a4-b93f-0003db94a991",
   "metadata": {},
   "outputs": [],
   "source": [
    "import email\n",
    "with open(\"./maildir/baughman-d/ubsw_energy/enron_to_ubs_trans/4.\", \"r\") as file:\n",
    "    sample = email.message_from_file(file)"
   ]
  },
  {
   "cell_type": "markdown",
   "id": "b88a732b-5fbc-496b-93a0-6c6b0fb96aa1",
   "metadata": {},
   "source": [
    "`sample` is a Message object. A message object is dict generator. We can therefore iterate over it."
   ]
  },
  {
   "cell_type": "code",
   "execution_count": 80,
   "id": "d4b422fa-88ec-4194-84bf-2916a19c9442",
   "metadata": {},
   "outputs": [
    {
     "name": "stdout",
     "output_type": "stream",
     "text": [
      "Message-ID: <13886924.1075840348227.JavaMail.evans@thyme>\n",
      "Date: Tue, 29 Jan 2002 06:55:31 -0800 (PST)\n",
      "From: debra.bailey@enron.com\n",
      "To: debra.bailey@enron.com, l..nicolay@enron.com, d..steffes@enron.com,\n",
      "\tbill.rust@enron.com, lloyd.will@enron.com, don.baughman@enron.com,\n",
      "\tcorry.bentley@enron.com, w..donovan@enron.com, bill.abler@enron.com,\n",
      "\treagan.rorschach@enron.com\n",
      "Subject: Room ECS: 06106,   RE: Transmission Agreements Meeting Tues. Jan.\n",
      " 29 10:00 a.m.\n",
      "Mime-Version: 1.0\n",
      "Content-Type: text/plain; charset=us-ascii\n",
      "Content-Transfer-Encoding: 7bit\n",
      "X-From: Bailey, Debra </O=ENRON/OU=NA/CN=RECIPIENTS/CN=DBAILEY2>\n",
      "X-To: Bailey, Debra </O=ENRON/OU=NA/CN=RECIPIENTS/CN=Dbailey2>, Nicolay, Christi L. </O=ENRON/OU=NA/CN=RECIPIENTS/CN=Cnicola>, Steffes, James D. </O=ENRON/OU=NA/CN=RECIPIENTS/CN=Jsteffe>, Rust, Bill </O=ENRON/OU=NA/CN=RECIPIENTS/CN=Brust>, Will, Lloyd </O=ENRON/OU=NA/CN=RECIPIENTS/CN=Lwill>, Baughman Jr., Don </O=ENRON/OU=NA/CN=RECIPIENTS/CN=Dbaughm>, Bentley, Corry </O=ENRON/OU=NA/CN=RECIPIENTS/CN=Cbentle>, Donovan, Terry W. </O=ENRON/OU=NA/CN=RECIPIENTS/CN=Tdonova>, Abler, Bill </O=ENRON/OU=NA/CN=RECIPIENTS/CN=Wabler>, Rorschach, Reagan </O=ENRON/OU=NA/CN=RECIPIENTS/CN=Rrorscha>\n",
      "X-cc: \n",
      "X-bcc: \n",
      "X-Folder: \\ExMerge - Baughman Jr., Don\\UBSW Energy\\Enron to UBS trans\n",
      "X-Origin: BAUGHMAN-D\n",
      "X-FileName: don baughman 6-25-02.PST\n",
      "\n",
      "Room 6106 at 10:00 is reserved \n",
      "\n",
      " -----Original Message-----\n",
      "From: \tBailey, Debra  \n",
      "Sent:\tTuesday, January 29, 2002 8:42 AM\n",
      "To:\tNicolay, Christi L.; Steffes, James D.\n",
      "Cc:\tRust, Bill; Will, Lloyd; Baughman Jr., Don; Bentley, Corry; Donovan, Terry W.; Abler, Bill; Rorschach, Reagan\n",
      "Subject:\tRE: Transmission Agreements Meeting Tues. Jan. 29 10:00 a.m.\n",
      "\n",
      "Jim, Christi,\n",
      "\n",
      "Are you available to attend this meeting today to discuss the going forward plan for transmission agreements in UBS.  \n",
      "\n",
      "Debra\n",
      "\n",
      "Debra Bailey\n",
      "East Power Trading\n",
      "\n",
      " -----Original Message-----\n",
      "From: \tBaughman Jr., Don  \n",
      "Sent:\tMonday, January 28, 2002 4:39 PM\n",
      "To:\tRust, Bill; Bentley, Corry; Bailey, Debra; Donovan, Terry W.; Abler, Bill; Rorschach, Reagan\n",
      "Cc:\tWill, Lloyd\n",
      "Subject:\tTransmission Agreements Meeting Tues. Jan. 29 10:00 a.m.\n",
      "\n",
      "Hey,\n",
      "\n",
      "After speaking with Reagan in origination, we thought it would be a good idea to evaluate the status of New Transmission Agreements project.\n",
      "\n",
      "If it pleases all, let's all get together from 10:00 to 10:30 on Tuesday Jan. 29.\n",
      "\n",
      "If you have any questions or timing conflicts give me a shout.\n",
      "\n",
      "Don Baughman\n",
      "Wk: 3-0392\n",
      "Cell: 281-787-0029\n"
     ]
    }
   ],
   "source": [
    "for part in sample.walk():\n",
    "    print(part)"
   ]
  },
  {
   "cell_type": "markdown",
   "id": "e96eea14-5c26-4774-ad65-604eaf926e3c",
   "metadata": {},
   "source": [
    "As you can see the field `X-folder` contains the path to the mail. It is however in a weird format and should be cleaned."
   ]
  },
  {
   "cell_type": "code",
   "execution_count": 74,
   "id": "f3a05c31-b501-477f-9af5-395207c8ce4f",
   "metadata": {},
   "outputs": [
    {
     "name": "stdout",
     "output_type": "stream",
     "text": [
      "text/plain\n"
     ]
    }
   ],
   "source": [
    "email.iterators._structure(sample)"
   ]
  },
  {
   "cell_type": "markdown",
   "id": "330b3ee5-8d02-47e3-bfb7-804751e0abb9",
   "metadata": {},
   "source": [
    "The content of a mail is in the attribute `_payload`."
   ]
  },
  {
   "cell_type": "code",
   "execution_count": 59,
   "id": "44360fe7-bd88-4315-8724-39ede55b5219",
   "metadata": {},
   "outputs": [
    {
     "data": {
      "text/plain": [
       "['__bytes__',\n",
       " '__class__',\n",
       " '__contains__',\n",
       " '__delattr__',\n",
       " '__delitem__',\n",
       " '__dict__',\n",
       " '__dir__',\n",
       " '__doc__',\n",
       " '__eq__',\n",
       " '__format__',\n",
       " '__ge__',\n",
       " '__getattribute__',\n",
       " '__getitem__',\n",
       " '__gt__',\n",
       " '__hash__',\n",
       " '__init__',\n",
       " '__init_subclass__',\n",
       " '__iter__',\n",
       " '__le__',\n",
       " '__len__',\n",
       " '__lt__',\n",
       " '__module__',\n",
       " '__ne__',\n",
       " '__new__',\n",
       " '__reduce__',\n",
       " '__reduce_ex__',\n",
       " '__repr__',\n",
       " '__setattr__',\n",
       " '__setitem__',\n",
       " '__sizeof__',\n",
       " '__str__',\n",
       " '__subclasshook__',\n",
       " '__weakref__',\n",
       " '_charset',\n",
       " '_default_type',\n",
       " '_get_params_preserve',\n",
       " '_headers',\n",
       " '_payload',\n",
       " '_unixfrom',\n",
       " 'add_header',\n",
       " 'as_bytes',\n",
       " 'as_string',\n",
       " 'attach',\n",
       " 'defects',\n",
       " 'del_param',\n",
       " 'epilogue',\n",
       " 'get',\n",
       " 'get_all',\n",
       " 'get_boundary',\n",
       " 'get_charset',\n",
       " 'get_charsets',\n",
       " 'get_content_charset',\n",
       " 'get_content_disposition',\n",
       " 'get_content_maintype',\n",
       " 'get_content_subtype',\n",
       " 'get_content_type',\n",
       " 'get_default_type',\n",
       " 'get_filename',\n",
       " 'get_param',\n",
       " 'get_params',\n",
       " 'get_payload',\n",
       " 'get_unixfrom',\n",
       " 'is_multipart',\n",
       " 'items',\n",
       " 'keys',\n",
       " 'policy',\n",
       " 'preamble',\n",
       " 'raw_items',\n",
       " 'replace_header',\n",
       " 'set_boundary',\n",
       " 'set_charset',\n",
       " 'set_default_type',\n",
       " 'set_param',\n",
       " 'set_payload',\n",
       " 'set_raw',\n",
       " 'set_type',\n",
       " 'set_unixfrom',\n",
       " 'values',\n",
       " 'walk']"
      ]
     },
     "execution_count": 59,
     "metadata": {},
     "output_type": "execute_result"
    }
   ],
   "source": [
    "dir(sample)"
   ]
  },
  {
   "cell_type": "code",
   "execution_count": 89,
   "id": "a8c19248-1ddb-4012-820a-8f57ffe55866",
   "metadata": {},
   "outputs": [
    {
     "name": "stdout",
     "output_type": "stream",
     "text": [
      "Room 6106 at 10:00 is reserved \n",
      "\n",
      " -----Original Message-----\n",
      "From: \tBailey, Debra  \n",
      "Sent:\tTuesday, January 29, 2002 8:42 AM\n",
      "To:\tNicolay, Christi L.; Steffes, James D.\n",
      "Cc:\tRust, Bill; Will, Lloyd; Baughman Jr., Don; Bentley, Corry; Donovan, Terry W.; Abler, Bill; Rorschach, Reagan\n",
      "Subject:\tRE: Transmission Agreements Meeting Tues. Jan. 29 10:00 a.m.\n",
      "\n",
      "Jim, Christi,\n",
      "\n",
      "Are you available to attend this meeting today to discuss the going forward plan for transmission agreements in UBS.  \n",
      "\n",
      "Debra\n",
      "\n",
      "Debra Bailey\n",
      "East Power Trading\n",
      "\n",
      " -----Original Message-----\n",
      "From: \tBaughman Jr., Don  \n",
      "Sent:\tMonday, January 28, 2002 4:39 PM\n",
      "To:\tRust, Bill; Bentley, Corry; Bailey, Debra; Donovan, Terry W.; Abler, Bill; Rorschach, Reagan\n",
      "Cc:\tWill, Lloyd\n",
      "Subject:\tTransmission Agreements Meeting Tues. Jan. 29 10:00 a.m.\n",
      "\n",
      "Hey,\n",
      "\n",
      "After speaking with Reagan in origination, we thought it would be a good idea to evaluate the status of New Transmission Agreements project.\n",
      "\n",
      "If it pleases all, let's all get together from 10:00 to 10:30 on Tuesday Jan. 29.\n",
      "\n",
      "If you have any questions or timing conflicts give me a shout.\n",
      "\n",
      "Don Baughman\n",
      "Wk: 3-0392\n",
      "Cell: 281-787-0029\n"
     ]
    }
   ],
   "source": [
    "print(sample._payload)"
   ]
  },
  {
   "cell_type": "markdown",
   "id": "c87c43c5-c8fc-4c7b-b235-d9a9926add94",
   "metadata": {},
   "source": [
    "Likewise, we can isolate the header by reading the `_headers` attribute."
   ]
  },
  {
   "cell_type": "code",
   "execution_count": 93,
   "id": "8df9df2f-4992-4f2e-8b6b-6b2b1ddb1257",
   "metadata": {},
   "outputs": [
    {
     "data": {
      "text/plain": [
       "[('Message-ID', '<13886924.1075840348227.JavaMail.evans@thyme>'),\n",
       " ('Date', 'Tue, 29 Jan 2002 06:55:31 -0800 (PST)'),\n",
       " ('From', 'debra.bailey@enron.com'),\n",
       " ('To',\n",
       "  'debra.bailey@enron.com, l..nicolay@enron.com, d..steffes@enron.com, \\n\\tbill.rust@enron.com, lloyd.will@enron.com, don.baughman@enron.com, \\n\\tcorry.bentley@enron.com, w..donovan@enron.com, bill.abler@enron.com, \\n\\treagan.rorschach@enron.com'),\n",
       " ('Subject',\n",
       "  'Room ECS: 06106,   RE: Transmission Agreements Meeting Tues. Jan.\\n 29 10:00 a.m.'),\n",
       " ('Mime-Version', '1.0'),\n",
       " ('Content-Type', 'text/plain; charset=us-ascii'),\n",
       " ('Content-Transfer-Encoding', '7bit'),\n",
       " ('X-From', 'Bailey, Debra </O=ENRON/OU=NA/CN=RECIPIENTS/CN=DBAILEY2>'),\n",
       " ('X-To',\n",
       "  'Bailey, Debra </O=ENRON/OU=NA/CN=RECIPIENTS/CN=Dbailey2>, Nicolay, Christi L. </O=ENRON/OU=NA/CN=RECIPIENTS/CN=Cnicola>, Steffes, James D. </O=ENRON/OU=NA/CN=RECIPIENTS/CN=Jsteffe>, Rust, Bill </O=ENRON/OU=NA/CN=RECIPIENTS/CN=Brust>, Will, Lloyd </O=ENRON/OU=NA/CN=RECIPIENTS/CN=Lwill>, Baughman Jr., Don </O=ENRON/OU=NA/CN=RECIPIENTS/CN=Dbaughm>, Bentley, Corry </O=ENRON/OU=NA/CN=RECIPIENTS/CN=Cbentle>, Donovan, Terry W. </O=ENRON/OU=NA/CN=RECIPIENTS/CN=Tdonova>, Abler, Bill </O=ENRON/OU=NA/CN=RECIPIENTS/CN=Wabler>, Rorschach, Reagan </O=ENRON/OU=NA/CN=RECIPIENTS/CN=Rrorscha>'),\n",
       " ('X-cc', ''),\n",
       " ('X-bcc', ''),\n",
       " ('X-Folder',\n",
       "  '\\\\ExMerge - Baughman Jr., Don\\\\UBSW Energy\\\\Enron to UBS trans'),\n",
       " ('X-Origin', 'BAUGHMAN-D'),\n",
       " ('X-FileName', 'don baughman 6-25-02.PST')]"
      ]
     },
     "execution_count": 93,
     "metadata": {},
     "output_type": "execute_result"
    }
   ],
   "source": [
    "sample._headers"
   ]
  },
  {
   "cell_type": "markdown",
   "id": "772bc364-ae7c-4725-aafd-d3e21d9116f3",
   "metadata": {},
   "source": [
    "Therefore, it would be relatively easy to agregate the data in a dataframe (or a dataframe generator?). I would include the path to the file in the data frame instead of using `X-Folder`. In any case, this info will be used by the webapp."
   ]
  },
  {
   "cell_type": "code",
   "execution_count": null,
   "id": "7ccb6aea-c5cc-4c0a-bcd5-6913f07adb34",
   "metadata": {},
   "outputs": [],
   "source": []
  },
  {
   "cell_type": "code",
   "execution_count": null,
   "id": "451335cd-f04a-4940-9bc2-ba1c19b6ebe5",
   "metadata": {},
   "outputs": [],
   "source": []
  }
 ],
 "metadata": {
  "kernelspec": {
   "display_name": "Python 3 (ipykernel)",
   "language": "python",
   "name": "python3"
  },
  "language_info": {
   "codemirror_mode": {
    "name": "ipython",
    "version": 3
   },
   "file_extension": ".py",
   "mimetype": "text/x-python",
   "name": "python",
   "nbconvert_exporter": "python",
   "pygments_lexer": "ipython3",
   "version": "3.10.4"
  }
 },
 "nbformat": 4,
 "nbformat_minor": 5
}
