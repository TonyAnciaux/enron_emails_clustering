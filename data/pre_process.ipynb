{
 "cells": [
  {
   "cell_type": "code",
   "execution_count": 2,
   "metadata": {},
   "outputs": [],
   "source": [
    "import pandas as pd\n",
    "import nltk\n",
    "from nltk.tokenize import word_tokenize, sent_tokenize\n",
    "from nltk.corpus import stopwords\n",
    "import re\n",
    "import spacy\n",
    "\n",
    "nlp = spacy.load(\"en_core_web_sm\")\n"
   ]
  },
  {
   "cell_type": "code",
   "execution_count": 3,
   "metadata": {},
   "outputs": [],
   "source": [
    "# Import the data and \n",
    "df = pd.read_csv(\"enron_email.csv\")"
   ]
  },
  {
   "cell_type": "code",
   "execution_count": 4,
   "metadata": {},
   "outputs": [
    {
     "name": "stderr",
     "output_type": "stream",
     "text": [
      "[nltk_data] Downloading package punkt to /home/giods/nltk_data...\n",
      "[nltk_data]   Package punkt is already up-to-date!\n",
      "[nltk_data] Downloading package stopwords to /home/giods/nltk_data...\n",
      "[nltk_data]   Package stopwords is already up-to-date!\n"
     ]
    },
    {
     "data": {
      "text/plain": [
       "True"
      ]
     },
     "execution_count": 4,
     "metadata": {},
     "output_type": "execute_result"
    }
   ],
   "source": [
    "#this needs to run if we are using NLTK for the first time\n",
    "nltk.download('punkt')\n",
    "nltk.download('stopwords')"
   ]
  },
  {
   "cell_type": "code",
   "execution_count": 5,
   "metadata": {},
   "outputs": [
    {
     "data": {
      "text/plain": [
       "11        \\n\\n\\n---------------------- Forwarded by Yola...\n",
       "32        Jim --\\n\\nPlease see attached from EPSA on the...\n",
       "64        Since I am Chairman of the NERC Interchange Su...\n",
       "66        fyi\\n---------------------- Forwarded by Linda...\n",
       "81        This document, although lengthy, contains insi...\n",
       "                                ...                        \n",
       "517386    Please respond to The Motley Fool \\n==========...\n",
       "517389    Please respond to The Motley Fool \\n==========...\n",
       "517391    Please respond to The Motley Fool \\n==========...\n",
       "517392    Please respond to The Motley Fool \\n==========...\n",
       "517398    \\n=3D=3D=3D=3D=3D=3D=3D=3D=3D=3D=3D=3D=3D=3D=3...\n",
       "Name: message, Length: 97360, dtype: object"
      ]
     },
     "execution_count": 5,
     "metadata": {},
     "output_type": "execute_result"
    }
   ],
   "source": [
    "# remove from str in df\n",
    "#https://www.kaggle.com/code/oalvay/enron-emails-complete-preprocessing/notebook\n",
    "\n",
    "df.loc[df[\"message\"].str.contains(\"-------------\"), \"message\"]"
   ]
  },
  {
   "cell_type": "code",
   "execution_count": 6,
   "metadata": {},
   "outputs": [],
   "source": [
    "#save the **message** column in a variable\n",
    "messages = df[\"message\"]\n"
   ]
  },
  {
   "cell_type": "code",
   "execution_count": 7,
   "metadata": {},
   "outputs": [],
   "source": [
    "#df['message'].map(lambda x: re.sub('[\"http\"|\"html\"|\"click\"|\"url\"]','', x))"
   ]
  },
  {
   "cell_type": "code",
   "execution_count": 24,
   "metadata": {},
   "outputs": [],
   "source": [
    "# function to find tokens, lemmatize \n",
    "\n",
    "stop_words = set(stopwords.words('english'))\n",
    "def token_of_email(email):\n",
    "    lemmas = nlp(email)\n",
    "    # add NER\n",
    "    return [w.lemma_ for w in lemmas if not w.lemma_.lower() in stop_words and w.lemma_.isalpha()]\n",
    "\n",
    "\n",
    "\n"
   ]
  },
  {
   "cell_type": "code",
   "execution_count": 25,
   "metadata": {},
   "outputs": [
    {
     "data": {
      "text/plain": [
       "['read',\n",
       " 'page',\n",
       " 'Administration',\n",
       " 'comment',\n",
       " 'Bingaman',\n",
       " 'draft',\n",
       " 'electricity',\n",
       " 'bill',\n",
       " 'release',\n",
       " 'last',\n",
       " 'month',\n",
       " 'main',\n",
       " 'item',\n",
       " 'quick',\n",
       " 'bullet',\n",
       " 'format',\n",
       " 'flavor',\n",
       " 'Delete',\n",
       " 'provision',\n",
       " 'federal',\n",
       " 'jurisdiction',\n",
       " 'bundle',\n",
       " 'unbundled',\n",
       " 'offer',\n",
       " 'reason',\n",
       " 'course',\n",
       " 'agree',\n",
       " 'tactical',\n",
       " 'reason',\n",
       " 'add',\n",
       " 'provision',\n",
       " 'authorize',\n",
       " 'FERC',\n",
       " 'order',\n",
       " 'wheel',\n",
       " 'States',\n",
       " 'open',\n",
       " 'retail',\n",
       " 'market',\n",
       " 'add',\n",
       " 'provision',\n",
       " 'allow',\n",
       " 'FERC',\n",
       " 'issue',\n",
       " 'wheel',\n",
       " 'order',\n",
       " 'motion',\n",
       " 'base',\n",
       " 'informal',\n",
       " 'hearing',\n",
       " 'rather',\n",
       " 'adjudicatory',\n",
       " 'hearing',\n",
       " 'current',\n",
       " 'law',\n",
       " 'make',\n",
       " 'clear',\n",
       " 'Federal',\n",
       " 'Power',\n",
       " 'Act',\n",
       " 'affect',\n",
       " 'authority',\n",
       " 'State',\n",
       " 'require',\n",
       " 'retail',\n",
       " 'competition',\n",
       " 'comment',\n",
       " 'say',\n",
       " 'utility',\n",
       " 'try',\n",
       " 'argue',\n",
       " 'FPA',\n",
       " 'prohibit',\n",
       " 'state',\n",
       " 'provision',\n",
       " 'give',\n",
       " 'FERC',\n",
       " 'power',\n",
       " 'order',\n",
       " 'RTO',\n",
       " 'participation',\n",
       " 'delete',\n",
       " 'comment',\n",
       " 'raise',\n",
       " 'drafting',\n",
       " 'question',\n",
       " 'change',\n",
       " 'FERC',\n",
       " 'merger',\n",
       " 'review',\n",
       " 'section',\n",
       " 'FPA',\n",
       " 'limit',\n",
       " 'FERC',\n",
       " 'lite',\n",
       " 'extend',\n",
       " 'state',\n",
       " 'municipal',\n",
       " 'utility',\n",
       " 'cooperative',\n",
       " 'federal',\n",
       " 'utility',\n",
       " 'FERC',\n",
       " 'authority',\n",
       " 'Federal',\n",
       " 'transmission',\n",
       " 'system',\n",
       " 'equivalent',\n",
       " 'FERC',\n",
       " 'authority',\n",
       " 'public',\n",
       " 'utility',\n",
       " 'special',\n",
       " 'bpa',\n",
       " 'rule',\n",
       " 'need',\n",
       " 'legislate',\n",
       " 'market',\n",
       " 'base',\n",
       " 'rate',\n",
       " 'oppose',\n",
       " 'Bingaman',\n",
       " 'language',\n",
       " 'anyway',\n",
       " 'helpful',\n",
       " 'interconnection',\n",
       " 'language',\n",
       " 'limit',\n",
       " 'transmission',\n",
       " 'facility',\n",
       " 'local',\n",
       " 'distribution',\n",
       " 'objection',\n",
       " 'streamlined',\n",
       " 'reliability',\n",
       " 'provision',\n",
       " 'good',\n",
       " 'remedial',\n",
       " 'measure',\n",
       " 'market',\n",
       " 'power',\n",
       " 'delete',\n",
       " 'Administration',\n",
       " 'provide',\n",
       " 'legislative',\n",
       " 'language',\n",
       " 'federal',\n",
       " 'transmission',\n",
       " 'siting',\n",
       " 'provision',\n",
       " 'want',\n",
       " 'retain',\n",
       " 'convince',\n",
       " 'need',\n",
       " 'market',\n",
       " 'transparency',\n",
       " 'rule',\n",
       " 'FERC',\n",
       " 'DOE',\n",
       " 'already',\n",
       " 'enough',\n",
       " 'authority',\n",
       " 'Administration',\n",
       " 'support',\n",
       " 'even',\n",
       " 'tough',\n",
       " 'criminal',\n",
       " 'penalty',\n",
       " 'recordkeepe',\n",
       " 'PUHCA',\n",
       " 'repeal',\n",
       " 'clarify',\n",
       " 'federal',\n",
       " 'purchase',\n",
       " 'requirement',\n",
       " 'renewable',\n",
       " 'energy',\n",
       " 'delete',\n",
       " 'objection',\n",
       " 'real',\n",
       " 'time',\n",
       " 'pricing',\n",
       " 'standard',\n",
       " 'net',\n",
       " 'metering',\n",
       " 'limit',\n",
       " 'small',\n",
       " 'residential',\n",
       " 'renewable',\n",
       " 'facility',\n",
       " 'support',\n",
       " 'federal',\n",
       " 'renewable',\n",
       " 'portfolio',\n",
       " 'standard',\n",
       " 'could',\n",
       " 'clarify',\n",
       " 'state',\n",
       " 'authority',\n",
       " 'adopt']"
      ]
     },
     "execution_count": 25,
     "metadata": {},
     "output_type": "execute_result"
    }
   ],
   "source": [
    "sample = nlp(df[\"message\"].iloc[0])\n",
    "token_of_email(sample)"
   ]
  },
  {
   "cell_type": "code",
   "execution_count": 26,
   "metadata": {},
   "outputs": [],
   "source": [
    "df[\"token\"] = df['message'].map(token_of_email) "
   ]
  }
 ],
 "metadata": {
  "interpreter": {
   "hash": "0db4365f837a7f3dbe2e1d1aa541185f47ba353260c2b18bc4c83605f5af4b47"
  },
  "kernelspec": {
   "display_name": "Python 3.8.10 ('nlpenv')",
   "language": "python",
   "name": "python3"
  },
  "language_info": {
   "codemirror_mode": {
    "name": "ipython",
    "version": 3
   },
   "file_extension": ".py",
   "mimetype": "text/x-python",
   "name": "python",
   "nbconvert_exporter": "python",
   "pygments_lexer": "ipython3",
   "version": "3.8.10"
  },
  "orig_nbformat": 4
 },
 "nbformat": 4,
 "nbformat_minor": 2
}
