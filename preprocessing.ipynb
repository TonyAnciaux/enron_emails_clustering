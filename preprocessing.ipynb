{
 "cells": [
  {
   "cell_type": "code",
   "execution_count": 1,
   "metadata": {},
   "outputs": [
    {
     "data": {
      "text/html": [
       "<div>\n",
       "<style scoped>\n",
       "    .dataframe tbody tr th:only-of-type {\n",
       "        vertical-align: middle;\n",
       "    }\n",
       "\n",
       "    .dataframe tbody tr th {\n",
       "        vertical-align: top;\n",
       "    }\n",
       "\n",
       "    .dataframe thead th {\n",
       "        text-align: right;\n",
       "    }\n",
       "</style>\n",
       "<table border=\"1\" class=\"dataframe\">\n",
       "  <thead>\n",
       "    <tr style=\"text-align: right;\">\n",
       "      <th></th>\n",
       "      <th>Unnamed: 0</th>\n",
       "      <th>Subject</th>\n",
       "      <th>message</th>\n",
       "      <th>path</th>\n",
       "    </tr>\n",
       "  </thead>\n",
       "  <tbody>\n",
       "    <tr>\n",
       "      <th>0</th>\n",
       "      <td>0</td>\n",
       "      <td>Your News Alert for QCOM</td>\n",
       "      <td>=3D=3D=3D=3D=3D=3D=3D=3D=3D=3D=3D=3D=3D=3D=3D=...</td>\n",
       "      <td>./maildir/lewis-a/all_documents/119.</td>\n",
       "    </tr>\n",
       "    <tr>\n",
       "      <th>1</th>\n",
       "      <td>1</td>\n",
       "      <td>Incredible low fares, wherever you're traveling!</td>\n",
       "      <td>[IMAGE]\\n\\n=09homeflightshotelscarspackagescru...</td>\n",
       "      <td>./maildir/lewis-a/all_documents/186.</td>\n",
       "    </tr>\n",
       "    <tr>\n",
       "      <th>2</th>\n",
       "      <td>2</td>\n",
       "      <td>ClickAtHome Pilot 2 Program - An Invitation</td>\n",
       "      <td>---------------------- Forwarded by Suzanne Br...</td>\n",
       "      <td>./maildir/lewis-a/all_documents/155.</td>\n",
       "    </tr>\n",
       "    <tr>\n",
       "      <th>3</th>\n",
       "      <td>3</td>\n",
       "      <td>Your News Alert for YHOO</td>\n",
       "      <td>=3D=3D=3D=3D=3D=3D=3D=3D=3D=3D=3D=3D=3D=3D=3D=...</td>\n",
       "      <td>./maildir/lewis-a/all_documents/38.</td>\n",
       "    </tr>\n",
       "    <tr>\n",
       "      <th>4</th>\n",
       "      <td>4</td>\n",
       "      <td>Improved Process for Engaging Temporary Workers</td>\n",
       "      <td>As you are aware, Enron utilizes temporary sta...</td>\n",
       "      <td>./maildir/lewis-a/all_documents/54.</td>\n",
       "    </tr>\n",
       "  </tbody>\n",
       "</table>\n",
       "</div>"
      ],
      "text/plain": [
       "   Unnamed: 0                                           Subject  \\\n",
       "0           0                          Your News Alert for QCOM   \n",
       "1           1  Incredible low fares, wherever you're traveling!   \n",
       "2           2       ClickAtHome Pilot 2 Program - An Invitation   \n",
       "3           3                          Your News Alert for YHOO   \n",
       "4           4   Improved Process for Engaging Temporary Workers   \n",
       "\n",
       "                                             message  \\\n",
       "0  =3D=3D=3D=3D=3D=3D=3D=3D=3D=3D=3D=3D=3D=3D=3D=...   \n",
       "1  [IMAGE]\\n\\n=09homeflightshotelscarspackagescru...   \n",
       "2  ---------------------- Forwarded by Suzanne Br...   \n",
       "3  =3D=3D=3D=3D=3D=3D=3D=3D=3D=3D=3D=3D=3D=3D=3D=...   \n",
       "4  As you are aware, Enron utilizes temporary sta...   \n",
       "\n",
       "                                   path  \n",
       "0  ./maildir/lewis-a/all_documents/119.  \n",
       "1  ./maildir/lewis-a/all_documents/186.  \n",
       "2  ./maildir/lewis-a/all_documents/155.  \n",
       "3   ./maildir/lewis-a/all_documents/38.  \n",
       "4   ./maildir/lewis-a/all_documents/54.  "
      ]
     },
     "execution_count": 1,
     "metadata": {},
     "output_type": "execute_result"
    }
   ],
   "source": [
    "import pandas as pd\n",
    "\n",
    "df = pd.read_csv('sample_mails.csv')\n",
    "df.head()"
   ]
  },
  {
   "cell_type": "code",
   "execution_count": 2,
   "metadata": {},
   "outputs": [
    {
     "name": "stdout",
     "output_type": "stream",
     "text": [
      "<class 'pandas.core.frame.DataFrame'>\n",
      "RangeIndex: 100 entries, 0 to 99\n",
      "Data columns (total 4 columns):\n",
      " #   Column      Non-Null Count  Dtype \n",
      "---  ------      --------------  ----- \n",
      " 0   Unnamed: 0  100 non-null    int64 \n",
      " 1   Subject     97 non-null     object\n",
      " 2   message     100 non-null    object\n",
      " 3   path        100 non-null    object\n",
      "dtypes: int64(1), object(3)\n",
      "memory usage: 3.2+ KB\n"
     ]
    }
   ],
   "source": [
    "df.info()"
   ]
  },
  {
   "cell_type": "code",
   "execution_count": 6,
   "metadata": {},
   "outputs": [
    {
     "data": {
      "text/plain": [
       "Unnamed: 0    0\n",
       "Subject       3\n",
       "message       0\n",
       "path          0\n",
       "dtype: int64"
      ]
     },
     "execution_count": 6,
     "metadata": {},
     "output_type": "execute_result"
    }
   ],
   "source": [
    "df.isna().sum()"
   ]
  },
  {
   "cell_type": "code",
   "execution_count": 9,
   "metadata": {},
   "outputs": [],
   "source": [
    "df.dropna(inplace=True)"
   ]
  },
  {
   "cell_type": "code",
   "execution_count": 11,
   "metadata": {},
   "outputs": [
    {
     "data": {
      "text/html": [
       "<div>\n",
       "<style scoped>\n",
       "    .dataframe tbody tr th:only-of-type {\n",
       "        vertical-align: middle;\n",
       "    }\n",
       "\n",
       "    .dataframe tbody tr th {\n",
       "        vertical-align: top;\n",
       "    }\n",
       "\n",
       "    .dataframe thead th {\n",
       "        text-align: right;\n",
       "    }\n",
       "</style>\n",
       "<table border=\"1\" class=\"dataframe\">\n",
       "  <thead>\n",
       "    <tr style=\"text-align: right;\">\n",
       "      <th></th>\n",
       "      <th>Unnamed: 0</th>\n",
       "      <th>Subject</th>\n",
       "      <th>message</th>\n",
       "      <th>path</th>\n",
       "    </tr>\n",
       "  </thead>\n",
       "  <tbody>\n",
       "    <tr>\n",
       "      <th>0</th>\n",
       "      <td>0</td>\n",
       "      <td>Your News Alert for QCOM</td>\n",
       "      <td>=3D=3D=3D=3D=3D=3D=3D=3D=3D=3D=3D=3D=3D=3D=3D=...</td>\n",
       "      <td>./maildir/lewis-a/all_documents/119.</td>\n",
       "    </tr>\n",
       "    <tr>\n",
       "      <th>1</th>\n",
       "      <td>1</td>\n",
       "      <td>Incredible low fares, wherever you're traveling!</td>\n",
       "      <td>[IMAGE]\\n\\n=09homeflightshotelscarspackagescru...</td>\n",
       "      <td>./maildir/lewis-a/all_documents/186.</td>\n",
       "    </tr>\n",
       "    <tr>\n",
       "      <th>2</th>\n",
       "      <td>2</td>\n",
       "      <td>ClickAtHome Pilot 2 Program - An Invitation</td>\n",
       "      <td>---------------------- Forwarded by Suzanne Br...</td>\n",
       "      <td>./maildir/lewis-a/all_documents/155.</td>\n",
       "    </tr>\n",
       "    <tr>\n",
       "      <th>3</th>\n",
       "      <td>3</td>\n",
       "      <td>Your News Alert for YHOO</td>\n",
       "      <td>=3D=3D=3D=3D=3D=3D=3D=3D=3D=3D=3D=3D=3D=3D=3D=...</td>\n",
       "      <td>./maildir/lewis-a/all_documents/38.</td>\n",
       "    </tr>\n",
       "    <tr>\n",
       "      <th>4</th>\n",
       "      <td>4</td>\n",
       "      <td>Improved Process for Engaging Temporary Workers</td>\n",
       "      <td>As you are aware, Enron utilizes temporary sta...</td>\n",
       "      <td>./maildir/lewis-a/all_documents/54.</td>\n",
       "    </tr>\n",
       "    <tr>\n",
       "      <th>...</th>\n",
       "      <td>...</td>\n",
       "      <td>...</td>\n",
       "      <td>...</td>\n",
       "      <td>...</td>\n",
       "    </tr>\n",
       "    <tr>\n",
       "      <th>95</th>\n",
       "      <td>95</td>\n",
       "      <td>HoustonChronicle.com Metropolitan News for Dec...</td>\n",
       "      <td>Hello! The HoustonChronicle.com Metropolitan ...</td>\n",
       "      <td>./maildir/lewis-a/all_documents/48.</td>\n",
       "    </tr>\n",
       "    <tr>\n",
       "      <th>96</th>\n",
       "      <td>96</td>\n",
       "      <td>The SmartMoney.com Banking SmartSaver December...</td>\n",
       "      <td>SmartMoney.com\\t  SmartSaver  for  Banking\\n\\n...</td>\n",
       "      <td>./maildir/lewis-a/all_documents/65.</td>\n",
       "    </tr>\n",
       "    <tr>\n",
       "      <th>97</th>\n",
       "      <td>97</td>\n",
       "      <td>Tuesday NAS -83.23 DOW +42.47 USD +0.02 S&amp;P -9...</td>\n",
       "      <td>T U E S D A Y   E X T R E M E   M A R K E T S\\...</td>\n",
       "      <td>./maildir/lewis-a/all_documents/59.</td>\n",
       "    </tr>\n",
       "    <tr>\n",
       "      <th>98</th>\n",
       "      <td>98</td>\n",
       "      <td>Tony's deals</td>\n",
       "      <td>Andy - can you please forward this email to yo...</td>\n",
       "      <td>./maildir/lewis-a/all_documents/4.</td>\n",
       "    </tr>\n",
       "    <tr>\n",
       "      <th>99</th>\n",
       "      <td>99</td>\n",
       "      <td>Another big name warns</td>\n",
       "      <td>Dear Subscriber, please note that you are rece...</td>\n",
       "      <td>./maildir/lewis-a/all_documents/30.</td>\n",
       "    </tr>\n",
       "  </tbody>\n",
       "</table>\n",
       "<p>97 rows × 4 columns</p>\n",
       "</div>"
      ],
      "text/plain": [
       "    Unnamed: 0                                            Subject  \\\n",
       "0            0                           Your News Alert for QCOM   \n",
       "1            1   Incredible low fares, wherever you're traveling!   \n",
       "2            2        ClickAtHome Pilot 2 Program - An Invitation   \n",
       "3            3                           Your News Alert for YHOO   \n",
       "4            4    Improved Process for Engaging Temporary Workers   \n",
       "..         ...                                                ...   \n",
       "95          95  HoustonChronicle.com Metropolitan News for Dec...   \n",
       "96          96  The SmartMoney.com Banking SmartSaver December...   \n",
       "97          97  Tuesday NAS -83.23 DOW +42.47 USD +0.02 S&P -9...   \n",
       "98          98                                       Tony's deals   \n",
       "99          99                             Another big name warns   \n",
       "\n",
       "                                              message  \\\n",
       "0   =3D=3D=3D=3D=3D=3D=3D=3D=3D=3D=3D=3D=3D=3D=3D=...   \n",
       "1   [IMAGE]\\n\\n=09homeflightshotelscarspackagescru...   \n",
       "2   ---------------------- Forwarded by Suzanne Br...   \n",
       "3   =3D=3D=3D=3D=3D=3D=3D=3D=3D=3D=3D=3D=3D=3D=3D=...   \n",
       "4   As you are aware, Enron utilizes temporary sta...   \n",
       "..                                                ...   \n",
       "95   Hello! The HoustonChronicle.com Metropolitan ...   \n",
       "96  SmartMoney.com\\t  SmartSaver  for  Banking\\n\\n...   \n",
       "97  T U E S D A Y   E X T R E M E   M A R K E T S\\...   \n",
       "98  Andy - can you please forward this email to yo...   \n",
       "99  Dear Subscriber, please note that you are rece...   \n",
       "\n",
       "                                    path  \n",
       "0   ./maildir/lewis-a/all_documents/119.  \n",
       "1   ./maildir/lewis-a/all_documents/186.  \n",
       "2   ./maildir/lewis-a/all_documents/155.  \n",
       "3    ./maildir/lewis-a/all_documents/38.  \n",
       "4    ./maildir/lewis-a/all_documents/54.  \n",
       "..                                   ...  \n",
       "95   ./maildir/lewis-a/all_documents/48.  \n",
       "96   ./maildir/lewis-a/all_documents/65.  \n",
       "97   ./maildir/lewis-a/all_documents/59.  \n",
       "98    ./maildir/lewis-a/all_documents/4.  \n",
       "99   ./maildir/lewis-a/all_documents/30.  \n",
       "\n",
       "[97 rows x 4 columns]"
      ]
     },
     "execution_count": 11,
     "metadata": {},
     "output_type": "execute_result"
    }
   ],
   "source": [
    "df"
   ]
  },
  {
   "cell_type": "code",
   "execution_count": 10,
   "metadata": {},
   "outputs": [
    {
     "data": {
      "text/plain": [
       "Unnamed: 0    0\n",
       "Subject       0\n",
       "message       0\n",
       "path          0\n",
       "dtype: int64"
      ]
     },
     "execution_count": 10,
     "metadata": {},
     "output_type": "execute_result"
    }
   ],
   "source": [
    "df.isna().sum()"
   ]
  },
  {
   "cell_type": "code",
   "execution_count": 3,
   "metadata": {},
   "outputs": [
    {
     "data": {
      "text/html": [
       "<div>\n",
       "<style scoped>\n",
       "    .dataframe tbody tr th:only-of-type {\n",
       "        vertical-align: middle;\n",
       "    }\n",
       "\n",
       "    .dataframe tbody tr th {\n",
       "        vertical-align: top;\n",
       "    }\n",
       "\n",
       "    .dataframe thead th {\n",
       "        text-align: right;\n",
       "    }\n",
       "</style>\n",
       "<table border=\"1\" class=\"dataframe\">\n",
       "  <thead>\n",
       "    <tr style=\"text-align: right;\">\n",
       "      <th></th>\n",
       "      <th>Subject</th>\n",
       "      <th>message</th>\n",
       "      <th>path</th>\n",
       "    </tr>\n",
       "  </thead>\n",
       "  <tbody>\n",
       "    <tr>\n",
       "      <th>0</th>\n",
       "      <td>Your News Alert for QCOM</td>\n",
       "      <td>=3D=3D=3D=3D=3D=3D=3D=3D=3D=3D=3D=3D=3D=3D=3D=...</td>\n",
       "      <td>./maildir/lewis-a/all_documents/119.</td>\n",
       "    </tr>\n",
       "    <tr>\n",
       "      <th>1</th>\n",
       "      <td>Incredible low fares, wherever you're traveling!</td>\n",
       "      <td>[IMAGE]\\n\\n=09homeflightshotelscarspackagescru...</td>\n",
       "      <td>./maildir/lewis-a/all_documents/186.</td>\n",
       "    </tr>\n",
       "    <tr>\n",
       "      <th>2</th>\n",
       "      <td>ClickAtHome Pilot 2 Program - An Invitation</td>\n",
       "      <td>---------------------- Forwarded by Suzanne Br...</td>\n",
       "      <td>./maildir/lewis-a/all_documents/155.</td>\n",
       "    </tr>\n",
       "    <tr>\n",
       "      <th>3</th>\n",
       "      <td>Your News Alert for YHOO</td>\n",
       "      <td>=3D=3D=3D=3D=3D=3D=3D=3D=3D=3D=3D=3D=3D=3D=3D=...</td>\n",
       "      <td>./maildir/lewis-a/all_documents/38.</td>\n",
       "    </tr>\n",
       "    <tr>\n",
       "      <th>4</th>\n",
       "      <td>Improved Process for Engaging Temporary Workers</td>\n",
       "      <td>As you are aware, Enron utilizes temporary sta...</td>\n",
       "      <td>./maildir/lewis-a/all_documents/54.</td>\n",
       "    </tr>\n",
       "    <tr>\n",
       "      <th>...</th>\n",
       "      <td>...</td>\n",
       "      <td>...</td>\n",
       "      <td>...</td>\n",
       "    </tr>\n",
       "    <tr>\n",
       "      <th>95</th>\n",
       "      <td>HoustonChronicle.com Metropolitan News for Dec...</td>\n",
       "      <td>Hello! The HoustonChronicle.com Metropolitan ...</td>\n",
       "      <td>./maildir/lewis-a/all_documents/48.</td>\n",
       "    </tr>\n",
       "    <tr>\n",
       "      <th>96</th>\n",
       "      <td>The SmartMoney.com Banking SmartSaver December...</td>\n",
       "      <td>SmartMoney.com\\t  SmartSaver  for  Banking\\n\\n...</td>\n",
       "      <td>./maildir/lewis-a/all_documents/65.</td>\n",
       "    </tr>\n",
       "    <tr>\n",
       "      <th>97</th>\n",
       "      <td>Tuesday NAS -83.23 DOW +42.47 USD +0.02 S&amp;P -9...</td>\n",
       "      <td>T U E S D A Y   E X T R E M E   M A R K E T S\\...</td>\n",
       "      <td>./maildir/lewis-a/all_documents/59.</td>\n",
       "    </tr>\n",
       "    <tr>\n",
       "      <th>98</th>\n",
       "      <td>Tony's deals</td>\n",
       "      <td>Andy - can you please forward this email to yo...</td>\n",
       "      <td>./maildir/lewis-a/all_documents/4.</td>\n",
       "    </tr>\n",
       "    <tr>\n",
       "      <th>99</th>\n",
       "      <td>Another big name warns</td>\n",
       "      <td>Dear Subscriber, please note that you are rece...</td>\n",
       "      <td>./maildir/lewis-a/all_documents/30.</td>\n",
       "    </tr>\n",
       "  </tbody>\n",
       "</table>\n",
       "<p>100 rows × 3 columns</p>\n",
       "</div>"
      ],
      "text/plain": [
       "                                              Subject  \\\n",
       "0                            Your News Alert for QCOM   \n",
       "1    Incredible low fares, wherever you're traveling!   \n",
       "2         ClickAtHome Pilot 2 Program - An Invitation   \n",
       "3                            Your News Alert for YHOO   \n",
       "4     Improved Process for Engaging Temporary Workers   \n",
       "..                                                ...   \n",
       "95  HoustonChronicle.com Metropolitan News for Dec...   \n",
       "96  The SmartMoney.com Banking SmartSaver December...   \n",
       "97  Tuesday NAS -83.23 DOW +42.47 USD +0.02 S&P -9...   \n",
       "98                                       Tony's deals   \n",
       "99                             Another big name warns   \n",
       "\n",
       "                                              message  \\\n",
       "0   =3D=3D=3D=3D=3D=3D=3D=3D=3D=3D=3D=3D=3D=3D=3D=...   \n",
       "1   [IMAGE]\\n\\n=09homeflightshotelscarspackagescru...   \n",
       "2   ---------------------- Forwarded by Suzanne Br...   \n",
       "3   =3D=3D=3D=3D=3D=3D=3D=3D=3D=3D=3D=3D=3D=3D=3D=...   \n",
       "4   As you are aware, Enron utilizes temporary sta...   \n",
       "..                                                ...   \n",
       "95   Hello! The HoustonChronicle.com Metropolitan ...   \n",
       "96  SmartMoney.com\\t  SmartSaver  for  Banking\\n\\n...   \n",
       "97  T U E S D A Y   E X T R E M E   M A R K E T S\\...   \n",
       "98  Andy - can you please forward this email to yo...   \n",
       "99  Dear Subscriber, please note that you are rece...   \n",
       "\n",
       "                                    path  \n",
       "0   ./maildir/lewis-a/all_documents/119.  \n",
       "1   ./maildir/lewis-a/all_documents/186.  \n",
       "2   ./maildir/lewis-a/all_documents/155.  \n",
       "3    ./maildir/lewis-a/all_documents/38.  \n",
       "4    ./maildir/lewis-a/all_documents/54.  \n",
       "..                                   ...  \n",
       "95   ./maildir/lewis-a/all_documents/48.  \n",
       "96   ./maildir/lewis-a/all_documents/65.  \n",
       "97   ./maildir/lewis-a/all_documents/59.  \n",
       "98    ./maildir/lewis-a/all_documents/4.  \n",
       "99   ./maildir/lewis-a/all_documents/30.  \n",
       "\n",
       "[100 rows x 3 columns]"
      ]
     },
     "execution_count": 3,
     "metadata": {},
     "output_type": "execute_result"
    }
   ],
   "source": [
    "df.drop(['Unnamed: 0'], axis=1)"
   ]
  },
  {
   "cell_type": "code",
   "execution_count": 14,
   "metadata": {},
   "outputs": [
    {
     "data": {
      "text/plain": [
       "'=3D=3D=3D=3D=3D=3D=3D=3D=3D=3D=3D=3D=3D=3D=3D=3D=3D=3D=3D=3D=3D=3D=3D=3D=3D=\\n=3D=3D=3D=3D=3D=3D=3D=3D=3D=3D=3D=3D=3D=3D=3D=3D=3D=3D=3D=3D=3D=3D=3D=3D=3D=\\n=3D=3D=3D=3D=3D=3D=3D=3D=3D=3D=3D=3D=3D=3D\\nAs requested, your News Alert for QCOM\\nfollows from EquityAlert.com.\\nTo edit/discontinue your alerts please refer to end of message.\\nPLEASE REVIEW THE NOTICE AND DISCLAIMER BELOW\\n=3D=3D=3D=3D=3D=3D=3D=3D=3D=3D=3D=3D=3D=3D=3D=3D=3D=3D=3D=3D=3D=3D=3D=3D=3D=\\n=3D=3D=3D=3D=3D=3D=3D=3D=3D=3D=3D=3D=3D=3D=3D=3D=3D=3D=3D=3D=3D=3D=3D=3D=3D=\\n=3D=3D=3D=3D=3D=3D=3D=3D=3D=3D=3D=3D=3D=3D\\n\\n\\n=3D-=3D-=3D-=3D-=3D-=3D-=3D-=3D-=3D-=3D-=3D-=3D-=3D-=3D-=3D-=3D-=3D-=3D-=3D=\\n-=3D-=3D-=3D-=3D-=3D-=3D-=3D-=3D-=3D-=3D-=3D-=3D-=3D-=3D-=3D\\n=3D-=3D-=3D-=3D-=3D-=3D-=3D-=3D=3D-=3D-=3D-=3D-=3D Paid Advertisement -=3D-=\\n=3D-=3D-=3D-=3D-=3D-=3D-=3D-=3D-=3D-=3D-\\n=3D-=3D-=3D-=3D-=3D-=3D-=3D-=3D-=3D-=3D-=3D-=3D-=3D-=3D-=3D-=3D-=3D-=3D-=3D=\\n-=3D-=3D-=3D-=3D-=3D-=3D-=3D-=3D-=3D-=3D-=3D-=3D-=3D-=3D-=3D\\n\\nLooking for an emerging growth company in an exciting, burgeoning\\nindustry.\\n\\nSearch no more. Xraymedia.Com (OTC BB: XRMD) is currently assembling\\npartners to undertake the business of selling conventional\\nadvertising space and online advertising in an industry that broke\\nthe $2billion dollar mark in the second quarter of 2000. For more\\ncompelling information on this exciting investment opportunity,\\n\\nclick here: http://205.210.134.51/a1.asp?ID=3D1249aa\\n\\n\\n\\nAOL USERS: copy & paste the link above into your browser.\\n=3D-=3D-=3D-=3D-=3D-=3D-=3D-=3D-=3D-=3D-=3D-=3D-=3D-=3D-=3D-=3D-=3D-=3D-=3D=\\n-=3D-=3D-=3D-=3D-=3D-=3D-=3D-=3D-=3D-=3D-=3D-=3D-=3D-=3D-=3D\\n=3D-=3D-=3D-=3D-=3D-=3D-=3D-=3D-=3D-=3D-=3D-=3D-=3D-=3D-=3D-=3D-=3D-=3D-=3D=\\n-=3D-=3D-=3D-=3D-=3D-=3D-=3D-=3D-=3D-=3D-=3D-=3D-=3D-=3D-=3D\\n\\n\\nQUALCOMM and Tektronix Expand CDMA License Agreement; 3G Amendment\\nEnables Tektronix to Further Develop and Manufacture Test Solutions for the\\nWireless Industry\\n\\nSAN DIEGO, Dec 11, 2000 (BUSINESS WIRE) -- QUALCOMM Incorporated (Nasdaq:=\\n=20\\nQCOM)\\nand Tektronix, Inc. (NYSE: TEK) today announced that they have entered into=\\n an\\namended license agreement expanding Tektronix\\' existing Code Division Multi=\\nple\\nAccess (CDMA) license agreement with QUALCOMM. Tektronix will use the licen=\\nse=20\\nto\\ndevelop and manufacture third-generation (3G) test solutions for the wirele=\\nss\\nindustry. These next-generation products will operate on higher-capacity\\nwireless networks, deployed to meet the growing demands for high-speed=20\\nwireless\\ndata applications and Internet access.\\n\\n\"This 3G license agreement amendment for QUALCOMM\\'s essential patent portfo=\\nlio\\nat industry-standard royalty rates will allow Tektronix to expand its abili=\\nty=20\\nto\\ndevelop and manufacture advanced next-generation test solutions for the 3G=\\n=20\\nCDMA\\nmarket, including cdma2000, WCDMA and 1xEV,\" said Marvin Blecker, senior vi=\\nce\\npresident of technology transfer for QUALCOMM. \"We are pleased that Tektron=\\nix\\nhas chosen to expand its license to help meet the growing demand for CDMA\\nwireless solutions.\"\\n\\n\"The wireless industry needs measurement tools that are capable of meeting =\\nthe\\nimmediate development needs of 3G applications,\" said Scott Bausback, vice\\npresident, Communications Business Unit, Tektronix. \"Access to QUALCOMM\\'s\\nworld-class technology enables Tektronix to create state-of-the-art 3G test\\nsolutions -- and in turn, enable designers and manufacturers to successfull=\\ny\\ndevelop and install the infrastructure needed to meet the growing demands o=\\nf\\ntoday\\'s wireless customers.\"\\n\\nTektronix, Inc. is a test, measurement and monitoring company providing\\nmeasurement solutions to the telecommunications, computer and semiconductor\\nindustries worldwide. With over 50 years of experience, Tektronix enables i=\\nts\\ncustomers to design, build, deploy and manage next-generation global\\ncommunications networks and Internet technologies. Headquartered in Beavert=\\non,\\nOre., Tektronix has operations in 26 countries worldwide. Tektronix\\' Web=20\\naddress\\nis www.tektronix.com.\\n\\nQUALCOMM Incorporated (www.qualcomm.com) is a leader in developing and\\ndelivering innovative digital wireless communications products and services\\nbased on the Company\\'s CDMA digital technology. The Company\\'s business area=\\ns\\ninclude integrated CDMA chipsets and system software; technology licensing;\\nEudora(R) email software for Windows(R) and Macintosh(R) computing platform=\\ns;\\ndigital cinema systems; and satellite-based systems including portions of t=\\nhe\\nGlobalstar(TM) system and wireless fleet management systems, OmniTRACS(R) a=\\nnd\\nOmniExpress(TM). QUALCOMM owns patents that are essential to all of the CDM=\\nA\\nwireless telecommunications standards that have been adopted or proposed fo=\\nr\\nadoption by standards-setting bodies worldwide. QUALCOMM has licensed its\\nessential CDMA patent portfolio to more than 90 telecommunications equipmen=\\nt\\nmanufacturers worldwide. Headquartered in San Diego, Calif., QUALCOMM is\\nincluded in the S&P 500 Index and is a 2000 FORTUNE 500(R) company traded o=\\nn=20\\nThe\\nNasdaq Stock Market(R) under the ticker symbol QCOM.\\n\\nExcept for the historical information contained herein, this news release\\ncontains forward-looking statements that are subject to risks and=20\\nuncertainties,\\nincluding the Company\\'s ability to successfully design and have manufacture=\\nd\\nsignificant quantities of CDMA components on a timely and profitable basis,=\\n=20\\nthe\\nextent and speed to which CDMA is deployed, change in economic conditions o=\\nf=20\\nthe\\nvarious markets the Company serves, as well as the other risks detailed fro=\\nm\\ntime to time in the Company\\'s SEC reports, including the report on Form 10-=\\nK=20\\nfor\\nthe year ended September 24, 2000, and most recent Form 10-Q.\\n\\n\\n\\nQUALCOMM, OmniTRACS and Eudora are registered trademarks and OmniExpress is=\\n a\\ntrademark of QUALCOMM Incorporated. Globalstar is a trademark of Loral=20\\nQUALCOMM\\nSatellite Services, Incorporated. Windows is a registered trademark of=20\\nMicrosoft\\nCorp. Macintosh is a registered trademark of Apple Computer Inc. All other\\ntrademarks are the property of their respective owners.\\n\\n\\nCONTACT:          QUALCOMM Incorporated\\nChristine Trimble, Corporate Public Relations\\n858/651-3628, Fax 858/651-2590\\nctrimble@qualcomm.com\\nor\\nJulie Cunningham, Investor Relations\\n858/658-4224, Fax 858/651-9303\\njcunningham@qualcomm.com\\nor\\nTektronix\\nSteve Kuyatt, Worldwide Public Relations\\n503/627-2001, Fax 503/627-4873\\nsteven.j.kuyatt@tektronix.com\\nor\\nHeather Wyse, Investor Relations\\n503/627-1121, Fax 503/627-1161\\nheather.l.wyse@tektronix.com\\n\\nURL:              http://www.businesswire.com\\nToday\\'s News On The Net - Business Wire\\'s full file on the Internet\\nwith Hyperlinks to your home page.\\n\\nCopyright (C) 2000 Business Wire.  All rights reserved.\\n\\n-0-\\n\\n\\nKEYWORD:          CALIFORNIA\\nINDUSTRY KEYWORD: COMPUTERS/ELECTRONICS\\nHARDWARE\\nINTERNET\\nSOFTWARE\\nTELECOMMUNICATIONS\\nMARKETING\\nAGREEMENTS\\n\\n\\n\\n****************** TO EDIT YOUR EQUITY ALERTS ********************\\nTo unsubscribe or edit your alerts, visit\\nhttp://www.equityalert.com/alerts.asp?uid=3Dalewis34&xid=3D40352\\n******************************************************************\\n\\n***IMPORTANT NOTICE AND DISCLAIMER REGARDING THIS COURTESY EMAIL**\\nAt your request, as a subscriber to our service, this email alert\\nis being sent to you as a courtesy and is for information purposes\\nonly.  We are a financial news re-distributor.  We are not an\\ninvestment advisory and do not purport to tell or suggest which\\ncompanies you should monitor or which securities you should\\npurchase or sell.\\nIn addition to the information regarding the company you are\\nmonitoring (the =01&Monitored Company=018), this email contains an\\nadvertisement describing a product, service or company for which we\\nreceived a fee, at our normal advertising rates of $55 per 1,000 e-\\nmails (subject to volume and other discounts), from the advertising\\ncompany.  In addition, not withstanding our policy of prohibiting\\nemployees from buying or selling securities of an advertising\\ncompany for a period of 20 days following dissemination of the\\nadvertisement, we may not be able to effectively monitor our\\nemployees to ensure compliance with the same. Consequently, there\\nmay be sales and/or purchases of such securities by our employees\\nprior to, during and immediately following the dissemination of the\\nadvertisement.\\nPlease note that (1) this email may not contain the full text of\\nthe press release issued by, or the research or other reports\\nregarding, the Monitored Company; and (2) the text of the\\nadvertisement, the press release and/or reports were obtained from\\nthird party sources and were not written, generated or edited by\\nus; accordingly, we make no representations or give any assurance\\nas to the accuracy or completeness, nor have we conducted any\\nindependent investigations of, the disclosures regarding the\\nsubject matter of such releases and reports.\\nPlease note that links to the advertising company and/or Monitored\\nCompany are provided for your convenience.  We assume no obligation\\nfor the content of such sites.\\nAll information contained herein should be independently verified\\nby you with the advertising company or with Monitored Company or\\nany other sources you prefer.\\n[THIS IS ONLY A SUMMARY OF, AND IS QUALIFIED IN ITS ENTIRETY BY\\nREFERENCE TO, THE =01&EQUITYALERT SUBSCRIBER AGREEMENT AND\\nDISCLAIMER.=018 PLEASE VISIT\\nhttp://www.equityalert.com/home/disclaim.asp\\nFOR ACCESS TO OUR COMPLETE DISCLAIMER]\\n******************************************************************'"
      ]
     },
     "execution_count": 14,
     "metadata": {},
     "output_type": "execute_result"
    }
   ],
   "source": [
    "df['message'][0]"
   ]
  },
  {
   "cell_type": "code",
   "execution_count": 38,
   "metadata": {},
   "outputs": [
    {
     "name": "stderr",
     "output_type": "stream",
     "text": [
      "<>:6: DeprecationWarning: invalid escape sequence \\.\n",
      "<>:6: DeprecationWarning: invalid escape sequence \\.\n",
      "/tmp/ipykernel_10916/3067216910.py:6: DeprecationWarning: invalid escape sequence \\.\n",
      "  df['message'].map(lambda x: re.sub('[-*http=3D=,\\.!?]', '', x))\n"
     ]
    },
    {
     "data": {
      "text/plain": [
       "0    \\n\\n\\nas requesed your news aler for qcom\\nfol...\n",
       "1    [image]\\n\\n09omefligsoelscarsackagescruisesgui...\n",
       "2     forwarded by suzanne brown/hou/ect on 11/09/2...\n",
       "3    \\n\\n\\nas requesed your news aler for yhoo\\nfol...\n",
       "4    as you are aware enron uilizes emorary saffing...\n",
       "Name: message_text_processed, dtype: object"
      ]
     },
     "execution_count": 38,
     "metadata": {},
     "output_type": "execute_result"
    }
   ],
   "source": [
    "# Load the regular expression library\n",
    "import re\n",
    "\n",
    "# Remove punctuation\n",
    "df['message_text_processed'] = \\\n",
    "df['message'].map(lambda x: re.sub('[-*http=3D=,\\.!?]', '', x))\n",
    "\n",
    "# Convert the titles to lowercase\n",
    "df['message_text_processed'] = \\\n",
    "df['message_text_processed'].map(lambda x: x.lower())\n",
    "\n",
    "# Print out the first rows of papers\n",
    "df['message_text_processed'].head()"
   ]
  },
  {
   "cell_type": "code",
   "execution_count": 39,
   "metadata": {},
   "outputs": [
    {
     "data": {
      "text/plain": [
       "'\\n\\n\\nas requesed your news aler for qcom\\nfollows from equiyalercom\\nto edi/disconinue your alers lease refer o end of message\\nplease review the notice an isclaimer below\\n\\n\\n\\n\\n\\n\\n\\n paid adverisemen \\n\\n\\n\\n\\nlooking for an emerging grow comany in an exciing burgeoning\\nindusry\\n\\nsearc no more xraymediacom (otc bb: xrm) is currenly assembling\\narners o underake e business of selling convenional\\nadverising sace and online adverising in an indusry a broke\\ne $2billion dollar mark in e second quarer of 2000 for more\\ncomelling informaion on is exciing invesmen ooruniy\\n\\nclick ere: ://2052101451/a1asi1249aa\\n\\n\\n\\naol users: coy & ase e link above ino your browser\\n\\n\\n\\n\\n\\n\\nqualcomm and tekronix exand cma license agreemen; g amendmen\\nenables tekronix o furer evelo and manufacure tes soluions for e\\nwireless indusry\\n\\nsan iego ec 11 2000 (business wire)  qualcomm incororaed (nasdaq:\\n20\\nqcom)\\nand tekronix inc (nyse: tek) oday announced a ey ave enered ino\\n an\\namended license agreemen exanding tekronix\\' exising code ivision muli\\nle\\naccess (cma) license agreemen wi qualcomm tekronix will use e licen\\nse20\\no\\ndevelo and manufacure irdgeneraion (g) es soluions for e wirele\\nss\\nindusry tese nexgeneraion roducs will oerae on igercaaciy\\nwireless neworks deloyed o mee e growing demands for igseed20\\nwireless\\ndaa alicaions and inerne access\\n\\n\"tis g license agreemen amendmen for qualcomm\\'s essenial aen orfo\\nlio\\na indusrysandard royaly raes will allow tekronix o exand is abili\\ny20\\no\\ndevelo and manufacure advanced nexgeneraion es soluions for e g\\n20\\ncma\\nmarke including cdma2000 wcma and 1xev\" said marvin blecker senior vi\\nce\\nresiden of ecnology ransfer for qualcomm \"we are leased a tekron\\nix\\nas cosen o exand is license o el mee e growing demand for cma\\nwireless soluions\"\\n\\n\"te wireless indusry needs measuremen ools a are caable of meeing \\ne\\nimmediae develomen needs of g alicaions\" said sco bausback vice\\nresiden communicaions business uni tekronix \"access o qualcomm\\'s\\nworldclass ecnology enables tekronix o creae saeofear g es\\nsoluions  and in urn enable designers and manufacurers o successfull\\ny\\ndevelo and insall e infrasrucure needed o mee e growing demands o\\nf\\noday\\'s wireless cusomers\"\\n\\ntekronix inc is a es measuremen and monioring comany roviding\\nmeasuremen soluions o e elecommunicaions comuer and semiconducor\\nindusries worldwide wi over 50 years of exerience tekronix enables i\\ns\\ncusomers o design build deloy and manage nexgeneraion global\\ncommunicaions neworks and inerne ecnologies headquarered in beaver\\non\\nore tekronix as oeraions in 26 counries worldwide tekronix\\' web20\\naddress\\nis wwwekronixcom\\n\\nqualcomm incororaed (wwwqualcommcom) is a leader in develoing and\\ndelivering innovaive digial wireless communicaions roducs and services\\nbased on e comany\\'s cma digial ecnology te comany\\'s business area\\ns\\ninclude inegraed cma cises and sysem sofware; ecnology licensing;\\neudora(r) email sofware for windows(r) and macinos(r) comuing laform\\ns;\\ndigial cinema sysems; and saelliebased sysems including orions of \\ne\\nglobalsar(tm) sysem and wireless flee managemen sysems omnitracs(r) a\\nnd\\nomniexress(tm) qualcomm owns aens a are essenial o all of e cm\\na\\nwireless elecommunicaions sandards a ave been adoed or roosed fo\\nr\\nadoion by sandardsseing bodies worldwide qualcomm as licensed is\\nessenial cma aen orfolio o more an 90 elecommunicaions equimen\\n\\nmanufacurers worldwide headquarered in san iego calif qualcomm is\\nincluded in e s&p 500 index and is a 2000 fortune 500(r) comany raded o\\nn20\\nte\\nnasdaq sock marke(r) under e icker symbol qcom\\n\\nexce for e isorical informaion conained erein is news release\\nconains forwardlooking saemens a are subjec o risks and20\\nuncerainies\\nincluding e comany\\'s abiliy o successfully design and ave manufacure\\nd\\nsignifican quaniies of cma comonens on a imely and rofiable basis\\n20\\ne\\nexen and seed o wic cma is deloyed cange in economic condiions o\\nf20\\ne\\nvarious markes e comany serves as well as e oer risks deailed fro\\nm\\nime o ime in e comany\\'s sec reors including e reor on form 10\\nk20\\nfor\\ne year ended seember 24 2000 and mos recen form 10q\\n\\n\\n\\nqualcomm omnitracs and eudora are regisered rademarks and omniexress is\\n a\\nrademark of qualcomm incororaed globalsar is a rademark of loral20\\nqualcomm\\nsaellie services incororaed windows is a regisered rademark of20\\nmicrosof\\ncor macinos is a regisered rademark of ale comuer inc all oer\\nrademarks are e roery of eir resecive owners\\n\\n\\ncontact:          qualcomm incororaed\\ncrisine trimble cororae public relaions\\n858/651628 fax 858/6512590\\ncrimble@qualcommcom\\nor\\njulie cunningam invesor relaions\\n858/6584224 fax 858/65190\\njcunningam@qualcommcom\\nor\\ntekronix\\nseve kuya worldwide public relaions\\n50/6272001 fax 50/627487\\nsevenjkuya@ekronixcom\\nor\\nheaer wyse invesor relaions\\n50/6271121 fax 50/6271161\\neaerlwyse@ekronixcom\\n\\nurl:              ://wwwbusinesswirecom\\ntoday\\'s news on te ne  business wire\\'s full file on e inerne\\nwi hyerlinks o your ome age\\n\\ncoyrig (c) 2000 business wire  all rigs reserved\\n\\n0\\n\\n\\nkeywor:          california\\ninustry keywor: computers/electronics\\nharware\\ninternet\\nsoftware\\ntelecommunications\\nmarketing\\nagreements\\n\\n\\n\\n to eit your equity alerts \\nto unsubscribe or edi your alers visi\\n://wwwequiyalercom/alersasuidalewis4&xid4052\\n\\n\\nimportant notice an isclaimer regaring this courtesy email\\na your reques as a subscriber o our service is email aler\\nis being sen o you as a couresy and is for informaion uroses\\nonly  we are a financial news redisribuor  we are no an\\ninvesmen advisory and do no uror o ell or sugges wic\\ncomanies you sould monior or wic securiies you sould\\nurcase or sell\\nin addiion o e informaion regarding e comany you are\\nmonioring (e 01&moniored comany018) is email conains an\\nadverisemen describing a roduc service or comany for wic we\\nreceived a fee a our normal adverising raes of $55 er 1000 e\\nmails (subjec o volume and oer discouns) from e adverising\\ncomany  in addiion no wisanding our olicy of roibiing\\nemloyees from buying or selling securiies of an adverising\\ncomany for a eriod of 20 days following disseminaion of e\\nadverisemen we may no be able o effecively monior our\\nemloyees o ensure comliance wi e same consequenly ere\\nmay be sales and/or urcases of suc securiies by our emloyees\\nrior o during and immediaely following e disseminaion of e\\nadverisemen\\nplease noe a (1) is email may no conain e full ex of\\ne ress release issued by or e researc or oer reors\\nregarding e moniored comany; and (2) e ex of e\\nadverisemen e ress release and/or reors were obained from\\nird ary sources and were no wrien generaed or edied by\\nus; accordingly we make no reresenaions or give any assurance\\nas o e accuracy or comleeness nor ave we conduced any\\nindeenden invesigaions of e disclosures regarding e\\nsubjec maer of suc releases and reors\\nplease noe a links o e adverising comany and/or moniored\\ncomany are rovided for your convenience  we assume no obligaion\\nfor e conen of suc sies\\nall informaion conained erein sould be indeendenly verified\\nby you wi e adverising comany or wi moniored comany or\\nany oer sources you refer\\n[this is only a summary of an is qualifie in its entirety by\\nreference to the 01&equityalert subscriber agreement an\\nisclaimer018 please visit\\n://wwwequiyalercom/ome/disclaimas\\nfor access to our complete isclaimer]\\n'"
      ]
     },
     "execution_count": 39,
     "metadata": {},
     "output_type": "execute_result"
    }
   ],
   "source": [
    "df['message_text_processed'][0]"
   ]
  },
  {
   "cell_type": "markdown",
   "metadata": {},
   "source": [
    "Next, let’s work to transform the textual data in a format that will serve as an input for training LDA model. We start by tokenizing the text and removing stopwords. Next, we convert the tokenized object into a corpus and dictionary."
   ]
  },
  {
   "cell_type": "code",
   "execution_count": 13,
   "metadata": {},
   "outputs": [
    {
     "name": "stderr",
     "output_type": "stream",
     "text": [
      "[nltk_data] Downloading package stopwords to /home/biniam/nltk_data...\n",
      "[nltk_data]   Package stopwords is already up-to-date!\n"
     ]
    },
    {
     "name": "stdout",
     "output_type": "stream",
     "text": [
      "['requesed', 'news', 'aler', 'qcom', 'follows', 'equiyalercom', 'edi', 'disconinue', 'alers', 'lease', 'refer', 'end', 'message', 'please', 'review', 'notice', 'disclaimer', 'paid', 'adverisemen', 'looking', 'emerging', 'grow', 'comany', 'exciing', 'burgeoning', 'indusry', 'searc', 'xraymediacom', 'otc', 'bb', 'xrmd', 'currenly', 'assembling', 'arners', 'underake', 'business', 'selling', 'convenional', 'adverising', 'sace', 'online', 'adverising', 'indusry', 'broke', 'billion', 'dollar', 'mark', 'second', 'quarer', 'comelling', 'informaion', 'exciing', 'invesmen', 'ooruniy', 'click', 'ere', 'asid', 'aa', 'aol', 'users', 'coy', 'ase', 'link', 'ino', 'browser', 'qualcomm', 'tekronix', 'exand', 'cdma', 'license', 'agreemen', 'amendmen', 'enables', 'tekronix', 'furer', 'develo', 'manufacure', 'tes', 'soluions', 'wireless', 'indusry', 'san', 'diego', 'dec', 'business', 'wire', 'qualcomm', 'incororaed', 'nasdaq', 'qcom', 'tekronix', 'inc', 'nyse', 'tek', 'oday', 'announced', 'ey', 'ave', 'enered', 'ino']\n"
     ]
    }
   ],
   "source": [
    "import gensim\n",
    "from gensim.utils import simple_preprocess\n",
    "import nltk\n",
    "nltk.download('stopwords')\n",
    "from nltk.corpus import stopwords\n",
    "\n",
    "stop_words = stopwords.words('english')\n",
    "stop_words.extend(['from', 'subject', 're', 'edu', 'use'])\n",
    "\n",
    "# tokenize - break down each sentence into a list of words\n",
    "\n",
    "def sent_to_words(sentences):\n",
    "    for sentence in sentences:\n",
    "        # deacc=True removes punctuations\n",
    "        yield(gensim.utils.simple_preprocess(str(sentence), deacc=True))\n",
    "\n",
    "def remove_stopwords(texts):\n",
    "    return [[word for word in simple_preprocess(str(doc)) \n",
    "             if word not in stop_words] for doc in texts]\n",
    "\n",
    "#Lemmatization\n",
    "\n",
    "def lemmatization(texts, allowed_postags=['NOUN', 'ADJ', 'VERB', 'ADV']):\n",
    "    \"\"\"https://spacy.io/api/annotation\"\"\"\n",
    "    texts_out = []\n",
    "    for sent in texts:\n",
    "        doc = nlp(\" \".join(sent))\n",
    "        texts_out.append([token.lemma_ for token in doc if token.pos_ in allowed_postags])\n",
    "    return texts_out\n",
    "\n",
    "\n",
    "data = df.message_text_processed.values.tolist()\n",
    "data_words = list(sent_to_words(data))\n",
    "\n",
    "# remove stop words\n",
    "data_words = remove_stopwords(data_words)\n",
    "data_lemmatized = lemmatization(data_words, allowed_postags=['NOUN', 'ADJ', 'VERB', 'ADV'])\n",
    "\n",
    "print(data_words[:1][0][:100])"
   ]
  },
  {
   "cell_type": "code",
   "execution_count": 14,
   "metadata": {},
   "outputs": [
    {
     "data": {
      "text/plain": [
       "list"
      ]
     },
     "execution_count": 14,
     "metadata": {},
     "output_type": "execute_result"
    }
   ],
   "source": [
    "type(data_words)"
   ]
  },
  {
   "cell_type": "code",
   "execution_count": 16,
   "metadata": {},
   "outputs": [
    {
     "data": {
      "text/plain": [
       "100"
      ]
     },
     "execution_count": 16,
     "metadata": {},
     "output_type": "execute_result"
    }
   ],
   "source": [
    "len(data_words)"
   ]
  },
  {
   "cell_type": "markdown",
   "metadata": {},
   "source": [
    "index to word mapping. This allows us to use a look-up table of sorts to map tokens to numbers/index.\n",
    "\n",
    "Gensim corpora dictionary API to accomplish this"
   ]
  },
  {
   "cell_type": "code",
   "execution_count": 17,
   "metadata": {},
   "outputs": [
    {
     "name": "stdout",
     "output_type": "stream",
     "text": [
      "[(0, 1), (1, 1), (2, 1), (3, 1), (4, 4), (5, 1), (6, 1), (7, 2), (8, 1), (9, 1), (10, 1), (11, 1), (12, 5), (13, 7), (14, 1), (15, 2), (16, 1), (17, 1), (18, 4), (19, 1), (20, 1), (21, 1), (22, 2), (23, 2), (24, 1), (25, 1), (26, 2), (27, 1), (28, 1), (29, 2)]\n"
     ]
    }
   ],
   "source": [
    "import gensim.corpora as corpora\n",
    "\n",
    "# Create Dictionary\n",
    "id2word = corpora.Dictionary(data_words)\n",
    "\n",
    "# Create Corpus\n",
    "texts = data_words\n",
    "\n",
    "# Term Document Frequency\n",
    "corpus = [id2word.doc2bow(text) for text in texts]\n",
    "\n",
    "# View\n",
    "print(corpus[:1][0][:30])"
   ]
  },
  {
   "cell_type": "code",
   "execution_count": 18,
   "metadata": {},
   "outputs": [
    {
     "data": {
      "text/plain": [
       "8577"
      ]
     },
     "execution_count": 18,
     "metadata": {},
     "output_type": "execute_result"
    }
   ],
   "source": [
    "len([i for i in id2word])"
   ]
  },
  {
   "cell_type": "markdown",
   "metadata": {},
   "source": [
    "Topic Modeling — Gensim LDA \n",
    "\n",
    "Per the documentation, here’s what you need to know\n",
    "\n",
    "    corpus — Stream of document vectors or sparse matrix of shape (num_terms, num_documents)\n",
    "\n",
    "    id2word – Mapping from word IDs to words. It is used to determine the vocabulary size, as well as for debugging and topic printing.\n",
    "\n",
    "    num_topics — The number of requested latent topics to be extracted from the training corpus.\n",
    "\n",
    "    random_state — Either a randomState object or a seed to generate one. Useful for reproducibility.\n",
    "\n",
    "    update_every — Number of documents to be iterated through for each update. Set to 0 for batch learning, > 1 for online iterative learning.\n",
    "\n",
    "    chunksize — Number of documents to be used in each training chunk.\n",
    "\n",
    "    passes — Number of passes through the corpus during training.\n",
    "\n",
    "    alpha — auto: Learns an asymmetric prior from the corpus\n",
    "\n",
    "    per_word_topics — If True, the model also computes a list of topics, sorted in descending order of most likely topics for each word, along with their phi values multiplied by the feature-length (i.e. word count)\n",
    "\n",
    "Let’s see what keywords look like in our generated topics."
   ]
  },
  {
   "cell_type": "code",
   "execution_count": 29,
   "metadata": {},
   "outputs": [
    {
     "name": "stdout",
     "output_type": "stream",
     "text": [
      "[(0, '0.007*\"te\" + 0.006*\"wi\" + 0.006*\"enron\" + 0.005*\"comany\" + 0.004*\"new\" + 0.003*\"click\" + 0.003*\"free\" + 0.003*\"ave\" + 0.003*\"marke\" + 0.003*\"go\"'), (1, '0.007*\"comany\" + 0.007*\"te\" + 0.006*\"enron\" + 0.006*\"wi\" + 0.004*\"inerne\" + 0.004*\"informaion\" + 0.004*\"yaoo\" + 0.003*\"oer\" + 0.003*\"news\" + 0.003*\"ave\"'), (2, '0.007*\"wi\" + 0.006*\"te\" + 0.006*\"comany\" + 0.005*\"yaoo\" + 0.004*\"new\" + 0.004*\"free\" + 0.004*\"informaion\" + 0.004*\"url\" + 0.003*\"us\" + 0.003*\"enron\"'), (3, '0.010*\"enron\" + 0.008*\"te\" + 0.007*\"wi\" + 0.007*\"comany\" + 0.004*\"hou\" + 0.003*\"new\" + 0.003*\"yaoo\" + 0.003*\"ave\" + 0.003*\"ect\" + 0.003*\"us\"'), (4, '0.013*\"enron\" + 0.006*\"wi\" + 0.006*\"te\" + 0.006*\"comany\" + 0.005*\"yaoo\" + 0.004*\"hou\" + 0.004*\"informaion\" + 0.004*\"inerne\" + 0.003*\"ect\" + 0.003*\"new\"')]\n"
     ]
    }
   ],
   "source": [
    "# number of topics\n",
    "num_topics = 5\n",
    "\n",
    "# Build LDA model\n",
    "lda_model = gensim.models.LdaMulticore(corpus=corpus,\n",
    "                                       id2word=id2word,\n",
    "                                       num_topics=num_topics)\n",
    "\n",
    "# Print the Keyword in the 10 topics\n",
    "print(lda_model.show_topics())\n",
    "doc_lda = lda_model[corpus]"
   ]
  },
  {
   "cell_type": "code",
   "execution_count": 30,
   "metadata": {},
   "outputs": [
    {
     "name": "stdout",
     "output_type": "stream",
     "text": [
      "\n",
      "Perplexity:  -8.677827567012057\n"
     ]
    }
   ],
   "source": [
    "# Compute Perplexity\n",
    "print('\\nPerplexity: ', lda_model.log_perplexity(corpus))"
   ]
  },
  {
   "cell_type": "code",
   "execution_count": 31,
   "metadata": {},
   "outputs": [
    {
     "name": "stdout",
     "output_type": "stream",
     "text": [
      "\n",
      "Coherence Score:  0.30124229676039393\n"
     ]
    }
   ],
   "source": [
    "from gensim.models import CoherenceModel\n",
    "# Compute Coherence Score\n",
    "coherence_model_lda = CoherenceModel(model=lda_model, texts=texts, dictionary=id2word, coherence='c_v')\n",
    "coherence_lda = coherence_model_lda.get_coherence()\n",
    "print('\\nCoherence Score: ', coherence_lda)"
   ]
  },
  {
   "cell_type": "markdown",
   "metadata": {},
   "source": [
    "This score is trying to quantify the semantic similarities of the high scoring words within each topic. A high score means the result is more human-interpretable.\n",
    "\n",
    "So, naturally higher coherence score means a better model."
   ]
  },
  {
   "cell_type": "code",
   "execution_count": 40,
   "metadata": {},
   "outputs": [
    {
     "name": "stderr",
     "output_type": "stream",
     "text": [
      "/home/biniam/anaconda3/envs/pyemail/lib/python3.8/site-packages/pyLDAvis/_prepare.py:247: FutureWarning: In a future version of pandas all arguments of DataFrame.drop except for the argument 'labels' will be keyword-only.\n",
      "  default_term_info = default_term_info.sort_values(\n",
      "/home/biniam/anaconda3/envs/pyemail/lib/python3.8/site-packages/past/builtins/misc.py:45: DeprecationWarning: the imp module is deprecated in favour of importlib; see the module's documentation for alternative uses\n",
      "  from imp import reload\n",
      "/home/biniam/anaconda3/envs/pyemail/lib/python3.8/site-packages/past/builtins/misc.py:45: DeprecationWarning: the imp module is deprecated in favour of importlib; see the module's documentation for alternative uses\n",
      "  from imp import reload\n",
      "/home/biniam/anaconda3/envs/pyemail/lib/python3.8/site-packages/past/builtins/misc.py:45: DeprecationWarning: the imp module is deprecated in favour of importlib; see the module's documentation for alternative uses\n",
      "  from imp import reload\n",
      "/home/biniam/anaconda3/envs/pyemail/lib/python3.8/site-packages/past/builtins/misc.py:45: DeprecationWarning: the imp module is deprecated in favour of importlib; see the module's documentation for alternative uses\n",
      "  from imp import reload\n"
     ]
    },
    {
     "data": {
      "text/html": [
       "\n",
       "<link rel=\"stylesheet\" type=\"text/css\" href=\"https://cdn.jsdelivr.net/gh/bmabey/pyLDAvis/pyLDAvis/js/ldavis.v1.0.0.css\">\n",
       "\n",
       "\n",
       "<div id=\"ldavis_el10916140459881400352598035571\"></div>\n",
       "<script type=\"text/javascript\">\n",
       "\n",
       "var ldavis_el10916140459881400352598035571_data = {\"mdsDat\": {\"x\": [-0.015487360961445065, 0.007700174063869069, -0.0013843847442888328, 0.0030051731192810797, 0.006166398522583743], \"y\": [0.004130463119986617, 0.0003137621760976719, -0.012266528435462935, 0.0011587542738714048, 0.006663548865507243], \"topics\": [1, 2, 3, 4, 5], \"cluster\": [1, 1, 1, 1, 1], \"Freq\": [23.164776343247272, 22.79159361302241, 19.6636522765958, 17.646072785353113, 16.733904981781404]}, \"tinfo\": {\"Term\": [\"enron\", \"hou\", \"ect\", \"cor\", \"cf\", \"sr\", \"ref\", \"lfmncom\", \"acv\", \"ww\", \"asu\", \"inernecom\", \"wwwsmarmoneycom\", \"ees\", \"url\", \"te\", \"qwxb\", \"efmbvp\", \"sn\", \"websie\", \"communicaions\", \"casc\", \"yaoo\", \"na\", \"ds\", \"click\", \"go\", \"et\", \"bin\", \"gif\", \"enronne\", \"brian_hoskins\", \"cf\", \"broadband\", \"lfmncom\", \"accounminder\", \"riding\", \"sr\", \"etrade\", \"acv\", \"stuff\", \"asu\", \"ww\", \"swea\", \"mobile\", \"messaging\", \"donaldson\", \"swing\", \"ds\", \"hoskins\", \"indexasuid\", \"lessons\", \"lifeminder\", \"rsvp\", \"wwwlfmncom\", \"lifeminderscom\", \"url\", \"last\", \"clues\", \"unlimied\", \"lifeminders\", \"sleu\", \"revised\", \"goldii\", \"oliday\", \"cts\", \"mail\", \"radeworld\", \"yaoo\", \"msg\", \"nov\", \"new\", \"free\", \"link\", \"wi\", \"informaion\", \"online\", \"comany\", \"te\", \"credi\", \"ge\", \"ino\", \"world\", \"us\", \"financial\", \"marke\", \"inc\", \"click\", \"may\", \"ave\", \"news\", \"ere\", \"inerne\", \"com\", \"enron\", \"business\", \"garage\", \"f_\", \"aarmen\", \"chx\", \"coninenal\", \"direcors\", \"founder\", \"arrival\", \"otel\", \"wizard\", \"peras\", \"nasource\", \"secions\", \"inernecom\", \"rickes\", \"arry\", \"reurcase\", \"acievemen\", \"needless\", \"arryorderage\", \"tulsa\", \"anyime\", \"lifeime\", \"boxer\", \"asros\", \"converged\", \"tradein\", \"scan\", \"dm\", \"busy\", \"cicago\", \"reailer\", \"dollars\", \"esandard\", \"sbccgis\", \"monday\", \"conained\", \"wwwequiyalercom\", \"cdma\", \"sun\", \"harry\", \"abou\", \"oer\", \"inerne\", \"soluions\", \"tekronix\", \"comany\", \"board\", \"sock\", \"news\", \"please\", \"wic\", \"business\", \"ad\", \"may\", \"reor\", \"te\", \"com\", \"informaion\", \"wi\", \"enron\", \"adverising\", \"cor\", \"us\", \"comanies\", \"services\", \"ave\", \"yaoo\", \"adverisemen\", \"email\", \"ect\", \"free\", \"new\", \"marke\", \"web\", \"go\", \"dell\", \"inramon\", \"regina\", \"posiion\", \"bloer\", \"nothing\", \"yue\", \"riddle\", \"exra\", \"edaily\", \"terefore\", \"migraion\", \"ugrade\", \"cx\", \"websie\", \"ic\", \"clickz\", \"trust\", \"rey\", \"boyfriend\", \"virawan\", \"signer\", \"wwwaor\", \"tourism\", \"ariclemlaricle\", \"clickzcom\", \"buon\", \"ublic\", \"williamscom\", \"yawaongsiri\", \"bin\", \"cgi\", \"ri\", \"bizreor\", \"oscards\", \"moved\", \"tailand\", \"click\", \"se\", \"go\", \"te\", \"marke\", \"cc\", \"bu\", \"tis\", \"com\", \"wi\", \"new\", \"ml\", \"free\", \"wa\", \"lease\", \"comany\", \"enron\", \"ave\", \"ere\", \"year\", \"ect\", \"visi\", \"email\", \"eir\", \"us\", \"indusry\", \"oer\", \"hou\", \"inerne\", \"informaion\", \"one\", \"business\", \"yaoo\", \"news\", \"may\", \"web\", \"meled\", \"selled\", \"incorrecly\", \"idio\", \"clue\", \"laundry\", \"esource\", \"deergen\", \"arying\", \"esearc\", \"pilo\", \"savings\", \"wries\", \"dejoun\", \"greene\", \"daed\", \"ricky\", \"easern\", \"quoeassymbol\", \"efmbvp\", \"gos\", \"casc\", \"qwxb\", \"hanukka\", \"goscalk\", \"researcers\", \"cloes\", \"sinnercom\", \"tomson\", \"nicole\", \"sn\", \"clickaomeilo\", \"ef\", \"enron\", \"ref\", \"hou\", \"ees\", \"ilo\", \"condiions\", \"clickahome\", \"ect\", \"yaoocom\", \"na\", \"yaoo\", \"inerne\", \"communicaions\", \"informaion\", \"go\", \"gif\", \"researc\", \"noe\", \"sie\", \"wi\", \"cor\", \"web\", \"comany\", \"service\", \"te\", \"one\", \"news\", \"ave\", \"business\", \"marke\", \"new\", \"email\", \"please\", \"oer\", \"free\", \"us\", \"may\", \"inc\", \"ml\", \"com\", \"click\", \"abou\", \"urcased\", \"nbpl\", \"booked\", \"ven\", \"transcanada\", \"arer\", \"mmbu\", \"duns\", \"sk\", \"energi\", \"denmark\", \"prosec\", \"skpowcom\", \"aologies\", \"cpid\", \"pls\", \"verify\", \"wwwsmarmoneycom\", \"cp\", \"saus\", \"sockwac\", \"imer\", \"dmaileradmin\", \"indexcfmsory\", \"inquiring\", \"smarmoneycom\", \"ena\", \"mailinglis\", \"journeyed\", \"officially\", \"abslicgislifile\", \"ecf\", \"joe\", \"power\", \"hou\", \"cor\", \"ref\", \"newsinocom\", \"enron\", \"et\", \"te\", \"communicaions\", \"fool\", \"wi\", \"ect\", \"comany\", \"ere\", \"qualcomm\", \"oday\", \"wan\", \"ees\", \"click\", \"emloyees\", \"sould\", \"image\", \"wwwfoolcom\", \"day\", \"us\", \"dec\", \"gif\", \"digial\", \"one\", \"ave\", \"new\", \"suc\", \"esandard\", \"free\", \"adverising\", \"yaoo\", \"wic\", \"email\", \"business\", \"com\", \"ge\", \"informaion\", \"abou\", \"go\", \"please\", \"oer\", \"inerne\", \"news\"], \"Freq\": [324.0, 113.0, 104.0, 80.0, 52.0, 53.0, 38.0, 52.0, 51.0, 53.0, 51.0, 57.0, 23.0, 52.0, 78.0, 298.0, 21.0, 21.0, 21.0, 19.0, 70.0, 21.0, 176.0, 37.0, 40.0, 117.0, 105.0, 65.0, 19.0, 35.0, 1.1450823636286065, 1.1126297916560117, 28.79587131606611, 1.4694567433749774, 27.87581811314463, 2.323242441660359, 1.397248016260296, 27.623078542001917, 4.701878023718486, 26.25652726812014, 3.5113122796073295, 26.086626929377264, 26.942940426546187, 1.3207880799180989, 1.3165654537881175, 1.2750306025739289, 1.2618409322166244, 2.0926678591568244, 19.54164398244709, 1.2475767630480552, 3.2623932155434954, 1.242658815461208, 4.373152845215294, 1.623542656001425, 6.793929089717986, 3.166032673636277, 36.190353549712974, 1.206771608226452, 1.976858625500341, 1.5907217381640233, 8.842238990248344, 16.243731002909517, 5.2760047400404995, 3.354705187340982, 17.081153178731096, 13.390150999912672, 27.964292127130005, 9.254708733156438, 55.7101299581726, 9.199348388102157, 8.024645661373238, 45.78810037224433, 41.67091638644373, 22.478585536341875, 73.44897599892705, 40.915552372272515, 26.72198525986186, 63.11348197829649, 66.1310772106912, 12.409757975471686, 23.446294886470596, 19.118550353497483, 16.24541229079397, 32.78155379722642, 20.020180396121766, 29.681535743031738, 22.64960753600695, 29.103716692257688, 26.83535725792278, 32.17748402967666, 26.650068982966165, 24.917882725422803, 25.553830770340745, 23.503937667081686, 32.36190819246361, 22.043364249545725, 1.2010258871142587, 9.393688297270566, 1.572086028499222, 1.4138833796258474, 1.8252103851076782, 1.7351453068818978, 1.274848224602147, 1.2950416022482667, 0.8894200115348221, 3.468323806104415, 0.8728921961768241, 0.834845095360189, 12.32614582448663, 26.93758005590495, 1.1984184756356577, 1.2335998068483571, 1.222472423779655, 1.9962240742687085, 0.8230653413734614, 1.211558846676032, 1.22427493609723, 0.8113013508587179, 2.375507419531773, 1.1936040300654687, 1.2468669517268003, 0.7964120485041323, 1.1898096217457779, 1.2449253064170656, 0.7867075963079055, 0.7872777455481174, 3.4221642157481207, 1.9137837800409212, 2.279513499674133, 24.923327454142598, 24.41028786679772, 8.472175558935168, 8.750845917014713, 9.488018097733685, 6.782032374325853, 6.839050850678746, 2.2321182899364036, 28.424659526540147, 32.52745109088298, 38.72726695416216, 7.912834287965409, 4.640429568673892, 73.61695942980212, 5.017253516279802, 18.088271792532336, 31.965417744528747, 24.55300871398926, 24.306443737892025, 30.56585825445956, 10.50087490172598, 29.44194075968312, 22.91013107901009, 66.21463428489014, 29.82414323353275, 36.28504126851664, 61.41868807416066, 65.8823444398534, 22.52620690838939, 21.935184167021944, 31.089045669402804, 19.223951057616194, 19.269954937432328, 31.18696924545064, 36.1317699961324, 19.24002417451471, 25.047431714927885, 24.82000196566725, 27.6755153958873, 28.786594763846757, 24.566128659122274, 21.455219156162208, 20.855753706419456, 1.7781633505471557, 0.9888985157721195, 0.9887414444584256, 0.9883947382660037, 0.9884308774381787, 0.9882197250664772, 0.9880907478088911, 0.9879025176329684, 1.9607205703400976, 0.9651100653131733, 0.9634649667776757, 3.3652273558415198, 2.8035045820006035, 3.189962076011627, 10.574277849548954, 3.5287638780474015, 4.598782448427901, 1.2704952007610735, 1.2733662855950414, 1.6392300702774754, 4.358718228185234, 1.2314336082494728, 1.6102550101101258, 1.5998170466640163, 6.986109089861487, 9.049181286912459, 4.262588796400976, 5.385432365080571, 3.08035694711447, 2.218293134049437, 8.870361087382882, 8.495627753786687, 5.166564343969752, 3.3066116617775747, 3.650379471331178, 4.223897406928724, 4.846102597161697, 30.64210322547346, 12.802461368350908, 26.90606574327095, 58.043431421854535, 27.90210730050875, 6.423474536199616, 17.81897280464349, 15.831925166624464, 26.233751483762983, 53.13772702925951, 32.74282350091304, 20.29404075890906, 29.727397536275053, 17.422321510073985, 17.006677611973526, 46.67014431416954, 51.79671089505802, 28.457503292914176, 22.25240487644298, 17.623889722234605, 22.045877807978815, 14.337225351094629, 21.27625799733771, 16.879740493661902, 24.384780512702857, 14.111569806028152, 19.26760449776868, 19.728430789304856, 20.9503097367723, 22.34939781735179, 17.445609950184338, 18.671669293200633, 22.169078927629116, 18.655192895494906, 18.032172977634804, 17.1355762062025, 1.300444879166264, 0.8364635322074244, 0.8364427900359616, 0.836410989192973, 0.8362753628950376, 1.238371008824002, 2.0518905479586023, 1.202807467173405, 0.7382885427210168, 1.5307056727353252, 4.621351676412485, 2.4295310018363954, 0.7071160958495829, 1.0696398614409752, 0.7010836191816758, 0.6956959260924199, 0.6961365539889653, 0.690955079339198, 3.9882080084787455, 9.20570023571627, 0.6820922130476685, 9.04670014628777, 8.943675957986716, 0.9916292421549187, 0.665910225170556, 1.0222189027668254, 0.6623833684360738, 5.783417049525152, 0.6503065542453074, 0.9560708000989632, 8.602844263633086, 1.5877515719564084, 3.6846397970546088, 99.09157160405012, 13.114190922369753, 31.6345389045264, 15.963871911429054, 3.9944673311599717, 5.932460438260944, 3.673257960205481, 27.142500571676123, 2.9360060103682617, 10.730291551775345, 38.509912787619726, 28.85801979432904, 17.449585293113504, 31.408464362468603, 23.682482677091116, 9.819049683802284, 11.562253860878878, 10.341063902091179, 15.616795104500614, 47.77731880608302, 18.070312078382354, 19.44578070414402, 44.09122086875386, 14.474551913057978, 45.34837339814814, 18.49680412777707, 21.837999862850054, 24.55005276253135, 20.739270767598075, 21.58917264846671, 25.453905375167807, 19.746296034641247, 17.100517237724628, 19.524974085593993, 22.290759523151035, 20.71402261722957, 18.20888170190809, 16.164032720069418, 16.32082245036435, 18.031394722422185, 18.098776296706294, 16.54351040318971, 0.8256782031020173, 0.8255969150950853, 0.8254039647524276, 0.8254002155061186, 0.8251360294835893, 0.8249999155415005, 0.8248044113644005, 0.7899512546649207, 0.7860369328444842, 0.7810639108054216, 0.7805097287314241, 0.7806317694156283, 0.7765922010337089, 0.7732956354638143, 0.7724616726761181, 0.7587255209378817, 1.088443369953953, 10.274097261780035, 1.047063210125671, 1.2678481747291699, 1.4042234773215485, 0.5399524888428545, 1.0564520836001319, 6.1887406931109625, 0.5152145270006305, 2.550132360507596, 1.6042079494239507, 0.7694267392943104, 0.509826588370035, 0.9933282513079674, 1.0098730775637967, 3.9119040455993153, 2.2945415666471556, 1.7611277090303514, 31.264459420480428, 22.349474161062627, 10.942174266174758, 9.142578637970892, 75.2909585736456, 17.034403490905685, 63.132178440469794, 17.3052360034135, 7.857841249694492, 54.787598515513196, 23.08014293079505, 50.190929515860745, 21.258580414129657, 7.291104308230615, 15.22442125501393, 8.173744701831966, 11.949024038453997, 22.205124048560226, 12.825654770580288, 14.116309230248984, 10.405313492777378, 9.284448379523804, 14.12724268452896, 22.775640664998832, 9.81146765304449, 8.54738611243332, 6.528916657179308, 16.94315922455771, 23.508295122515563, 25.08681432296808, 13.428663116249616, 13.60088067018732, 21.91614214105012, 15.37700797262515, 24.31394186330506, 15.30238645165195, 17.453343621434197, 17.35495296559979, 17.36149947567678, 14.933344116523008, 19.22140906624335, 15.016697795160654, 15.862602530057067, 14.538718228666896, 15.357832696893663, 15.971105935588096, 14.915589424784324], \"Total\": [324.0, 113.0, 104.0, 80.0, 52.0, 53.0, 38.0, 52.0, 51.0, 53.0, 51.0, 57.0, 23.0, 52.0, 78.0, 298.0, 21.0, 21.0, 21.0, 19.0, 70.0, 21.0, 176.0, 37.0, 40.0, 117.0, 105.0, 65.0, 19.0, 35.0, 1.8289738431803413, 1.8190323035881797, 52.4416617157699, 2.7273074599640803, 52.36375712244303, 4.427725857149445, 2.6663375631670303, 53.332960322996556, 9.158537856199343, 51.70617092536081, 6.937589580442014, 51.6710453724775, 53.41733505711463, 2.637558709578172, 2.679286869560268, 2.6421601341250573, 2.6176680102138072, 4.382831902613183, 40.991283025936184, 2.621404792872112, 6.868646330544378, 2.616475820523169, 9.351313189336823, 3.475004157965199, 14.565659731785939, 6.821139927827506, 78.11927973307198, 2.6049551824196087, 4.3044002445734115, 3.4728128871671866, 19.526728825411595, 40.841457192573586, 12.398001222521843, 7.628356359083904, 44.932477650457464, 34.48495423546403, 79.90711798940819, 23.442016921166527, 176.8348335328589, 24.14033996950113, 20.689643854271726, 157.85823833514002, 143.28073098280723, 70.41688791722386, 290.57030842394346, 150.1798648868529, 89.79544136892268, 277.68273610688277, 298.8696947560538, 36.434266905870224, 83.71912780152402, 64.18745073929261, 51.90672848854177, 131.7450432615605, 68.7542011380156, 118.289622784196, 81.87743781843182, 117.72668177560999, 106.9332740729056, 139.8803044530884, 114.0242689106242, 103.89218798255044, 130.06053319119232, 114.9547265824764, 324.4234937050707, 109.37511553040379, 1.8483591137975333, 16.286691551400846, 2.8466155728794775, 2.629188191292969, 3.5891389851323052, 3.5043068211640973, 2.5850506058182616, 2.6773869292299484, 1.8450319731809297, 7.3017523164117755, 1.8438218772522859, 1.7672361913179957, 26.125653670640133, 57.347750663805954, 2.5598749879194074, 2.6432983676941997, 2.634779448362466, 4.310600562041702, 1.778802316468581, 2.63168480126776, 2.6630781818839484, 1.772470676119422, 5.1994642461146405, 2.620768388981066, 2.7394002005744387, 1.7537074630596112, 2.627529461519851, 2.7564393700739815, 1.7687265553344753, 1.7806073727675076, 7.798716797489234, 4.348653670096489, 5.254289493214018, 68.07356009365407, 68.28276362233697, 22.14864411931784, 22.94757147259746, 25.079622322892806, 17.588750578012238, 17.987283613773588, 5.216314228696805, 89.87291156956364, 105.68121862932672, 130.06053319119232, 21.64567957275868, 11.882885076067465, 277.68273610688277, 13.060982777764139, 57.701261331804545, 114.0242689106242, 84.20790773472928, 83.33886769474006, 109.37511553040379, 31.19288337238969, 106.9332740729056, 81.48738036728395, 298.8696947560538, 114.9547265824764, 150.1798648868529, 290.57030842394346, 324.4234937050707, 83.59640404418116, 80.94953530965103, 131.7450432615605, 69.64725337961958, 71.02046698277793, 139.8803044530884, 176.8348335328589, 71.59198669602748, 105.19267265428327, 104.27679079691568, 143.28073098280723, 157.85823833514002, 118.289622784196, 90.18999347924563, 105.96897030597194, 2.5021040688829594, 1.6696462921307675, 1.6696323925471142, 1.6693943726593585, 1.6694783608527966, 1.6697993115333105, 1.6696421327176685, 1.6696567916267324, 3.352514024595765, 1.668854824910311, 1.6751409081152162, 5.866149672100476, 4.978231954510085, 5.698209128555475, 19.183352810842784, 6.483442208843884, 9.091196885014957, 2.516624554965052, 2.543218086653954, 3.303601699612642, 8.809435860245232, 2.5122828451028534, 3.318682638681929, 3.328272263004648, 14.700894502036737, 19.116451531404525, 9.183882536260025, 11.674483796981974, 6.6868015988801295, 4.843420067384838, 19.45544803013523, 20.27948905849698, 12.025418543346788, 7.382257565819546, 8.254672154756808, 9.797671138867802, 11.47217226460657, 117.72668177560999, 40.809162000398146, 105.96897030597194, 298.8696947560538, 118.289622784196, 18.037491769716688, 68.15884140859096, 58.958617297875335, 114.9547265824764, 290.57030842394346, 157.85823833514002, 84.24898516502108, 143.28073098280723, 69.31141125130935, 67.12199709298513, 277.68273610688277, 324.4234937050707, 139.8803044530884, 103.89218798255044, 73.95496466491652, 104.27679079691568, 56.6233779223911, 105.19267265428327, 73.17821977725373, 131.7450432615605, 56.81074458971072, 105.68121862932672, 113.07150367049292, 130.06053319119232, 150.1798648868529, 89.75207596771537, 109.37511553040379, 176.8348335328589, 114.0242689106242, 106.9332740729056, 90.18999347924563, 2.315333305208034, 1.543140831003693, 1.5432538081522615, 1.5432219775494542, 1.5431481850783748, 2.3386623803607063, 4.0038204134678015, 2.3521668505769995, 1.5436662163345163, 3.2238407848581874, 10.113141691114805, 5.3597421051772525, 1.5828499397270268, 2.394736501956164, 1.5868426655414258, 1.5877616795821559, 1.588987142950036, 1.5899199672409265, 9.230711444540905, 21.32534466248825, 1.5937132988421574, 21.244364554616283, 21.13802431331886, 2.368391639869562, 1.5978472819728473, 2.456554887276333, 1.603110197389725, 14.220930947013205, 1.606276319503532, 2.3637607329304533, 21.382714325144406, 3.956799143560011, 9.39847881833125, 324.4234937050707, 38.70521350748058, 113.07150367049292, 52.578579781150005, 11.179292011455734, 17.72974084274549, 10.37828991032089, 104.27679079691568, 8.119766870904675, 37.02289503329777, 176.8348335328589, 130.06053319119232, 70.7035812147899, 150.1798648868529, 105.96897030597194, 35.515418678262485, 43.95354611069406, 38.3997295199361, 66.25864197942899, 290.57030842394346, 80.94953530965103, 90.18999347924563, 277.68273610688277, 61.511548798434916, 298.8696947560538, 89.75207596771537, 114.0242689106242, 139.8803044530884, 109.37511553040379, 118.289622784196, 157.85823833514002, 105.19267265428327, 84.20790773472928, 105.68121862932672, 143.28073098280723, 131.7450432615605, 106.9332740729056, 81.87743781843182, 84.24898516502108, 114.9547265824764, 117.72668177560999, 89.87291156956364, 1.5334152331738595, 1.5334674099863752, 1.5333033131922937, 1.533402393916913, 1.5332744572246546, 1.5331583394564157, 1.5330357311906, 1.5380468413394177, 1.5391745823087701, 1.539709152190479, 1.5393762830845374, 1.5397297264672711, 1.5397012050321055, 1.5409183590688378, 1.5410771576981506, 1.5426171824043957, 2.337902671883473, 23.529696152929855, 2.4060700383058755, 3.191332330807931, 3.913877168053248, 1.5641352265067696, 3.1365309543315854, 18.614976068795297, 1.5659700559213723, 7.767774109605821, 4.89192170378724, 2.372904550374505, 1.582144997326777, 3.092356695932314, 3.1502309226119296, 12.569332668703591, 7.347444877587289, 5.618226605587084, 113.07150367049292, 80.94953530965103, 38.70521350748058, 32.67520714181246, 324.4234937050707, 65.81373253110311, 298.8696947560538, 70.7035812147899, 28.37737380618501, 290.57030842394346, 104.27679079691568, 277.68273610688277, 103.89218798255044, 26.751454068785417, 69.02945172436344, 31.857651453328685, 52.578579781150005, 117.72668177560999, 57.78271160315869, 65.57369876908315, 44.44617226997056, 38.482271627485375, 67.4900289372725, 131.7450432615605, 42.652163069876885, 35.515418678262485, 24.69718622907098, 89.75207596771537, 139.8803044530884, 157.85823833514002, 66.76690852649182, 68.07356009365407, 143.28073098280723, 83.59640404418116, 176.8348335328589, 83.33886769474006, 105.19267265428327, 109.37511553040379, 114.9547265824764, 83.71912780152402, 150.1798648868529, 89.87291156956364, 105.96897030597194, 84.20790773472928, 105.68121862932672, 130.06053319119232, 114.0242689106242], \"Category\": [\"Default\", \"Default\", \"Default\", \"Default\", \"Default\", \"Default\", \"Default\", \"Default\", \"Default\", \"Default\", \"Default\", \"Default\", \"Default\", \"Default\", \"Default\", \"Default\", \"Default\", \"Default\", \"Default\", \"Default\", \"Default\", \"Default\", \"Default\", \"Default\", \"Default\", \"Default\", \"Default\", \"Default\", \"Default\", \"Default\", \"Topic1\", \"Topic1\", \"Topic1\", \"Topic1\", \"Topic1\", \"Topic1\", \"Topic1\", \"Topic1\", \"Topic1\", \"Topic1\", \"Topic1\", \"Topic1\", \"Topic1\", \"Topic1\", \"Topic1\", \"Topic1\", \"Topic1\", \"Topic1\", \"Topic1\", \"Topic1\", \"Topic1\", \"Topic1\", \"Topic1\", \"Topic1\", \"Topic1\", \"Topic1\", \"Topic1\", \"Topic1\", \"Topic1\", \"Topic1\", \"Topic1\", \"Topic1\", \"Topic1\", \"Topic1\", \"Topic1\", \"Topic1\", \"Topic1\", \"Topic1\", \"Topic1\", \"Topic1\", \"Topic1\", \"Topic1\", \"Topic1\", \"Topic1\", \"Topic1\", \"Topic1\", \"Topic1\", \"Topic1\", \"Topic1\", \"Topic1\", \"Topic1\", \"Topic1\", \"Topic1\", \"Topic1\", \"Topic1\", \"Topic1\", \"Topic1\", \"Topic1\", \"Topic1\", \"Topic1\", \"Topic1\", \"Topic1\", \"Topic1\", \"Topic1\", \"Topic1\", \"Topic1\", \"Topic2\", \"Topic2\", \"Topic2\", \"Topic2\", \"Topic2\", \"Topic2\", \"Topic2\", \"Topic2\", \"Topic2\", \"Topic2\", \"Topic2\", \"Topic2\", \"Topic2\", \"Topic2\", \"Topic2\", \"Topic2\", \"Topic2\", \"Topic2\", \"Topic2\", \"Topic2\", \"Topic2\", \"Topic2\", \"Topic2\", \"Topic2\", \"Topic2\", \"Topic2\", \"Topic2\", \"Topic2\", \"Topic2\", \"Topic2\", \"Topic2\", \"Topic2\", \"Topic2\", \"Topic2\", \"Topic2\", \"Topic2\", \"Topic2\", \"Topic2\", \"Topic2\", \"Topic2\", \"Topic2\", \"Topic2\", \"Topic2\", \"Topic2\", \"Topic2\", \"Topic2\", \"Topic2\", \"Topic2\", \"Topic2\", \"Topic2\", \"Topic2\", \"Topic2\", \"Topic2\", \"Topic2\", \"Topic2\", \"Topic2\", \"Topic2\", \"Topic2\", \"Topic2\", \"Topic2\", \"Topic2\", \"Topic2\", \"Topic2\", \"Topic2\", \"Topic2\", \"Topic2\", \"Topic2\", \"Topic2\", \"Topic2\", \"Topic2\", \"Topic2\", \"Topic2\", \"Topic2\", \"Topic2\", \"Topic2\", \"Topic2\", \"Topic3\", \"Topic3\", \"Topic3\", \"Topic3\", \"Topic3\", \"Topic3\", \"Topic3\", \"Topic3\", \"Topic3\", \"Topic3\", \"Topic3\", \"Topic3\", \"Topic3\", \"Topic3\", \"Topic3\", \"Topic3\", \"Topic3\", \"Topic3\", \"Topic3\", \"Topic3\", \"Topic3\", \"Topic3\", \"Topic3\", \"Topic3\", \"Topic3\", \"Topic3\", \"Topic3\", \"Topic3\", \"Topic3\", \"Topic3\", \"Topic3\", \"Topic3\", \"Topic3\", \"Topic3\", \"Topic3\", \"Topic3\", \"Topic3\", \"Topic3\", \"Topic3\", \"Topic3\", \"Topic3\", \"Topic3\", \"Topic3\", \"Topic3\", \"Topic3\", \"Topic3\", \"Topic3\", \"Topic3\", \"Topic3\", \"Topic3\", \"Topic3\", \"Topic3\", \"Topic3\", \"Topic3\", \"Topic3\", \"Topic3\", \"Topic3\", \"Topic3\", \"Topic3\", \"Topic3\", \"Topic3\", \"Topic3\", \"Topic3\", \"Topic3\", \"Topic3\", \"Topic3\", \"Topic3\", \"Topic3\", \"Topic3\", \"Topic3\", \"Topic3\", \"Topic3\", \"Topic3\", \"Topic4\", \"Topic4\", \"Topic4\", \"Topic4\", \"Topic4\", \"Topic4\", \"Topic4\", \"Topic4\", \"Topic4\", \"Topic4\", \"Topic4\", \"Topic4\", \"Topic4\", \"Topic4\", \"Topic4\", \"Topic4\", \"Topic4\", \"Topic4\", \"Topic4\", \"Topic4\", \"Topic4\", \"Topic4\", \"Topic4\", \"Topic4\", \"Topic4\", \"Topic4\", \"Topic4\", \"Topic4\", \"Topic4\", \"Topic4\", \"Topic4\", \"Topic4\", \"Topic4\", \"Topic4\", \"Topic4\", \"Topic4\", \"Topic4\", \"Topic4\", \"Topic4\", \"Topic4\", \"Topic4\", \"Topic4\", \"Topic4\", \"Topic4\", \"Topic4\", \"Topic4\", \"Topic4\", \"Topic4\", \"Topic4\", \"Topic4\", \"Topic4\", \"Topic4\", \"Topic4\", \"Topic4\", \"Topic4\", \"Topic4\", \"Topic4\", \"Topic4\", \"Topic4\", \"Topic4\", \"Topic4\", \"Topic4\", \"Topic4\", \"Topic4\", \"Topic4\", \"Topic4\", \"Topic4\", \"Topic4\", \"Topic4\", \"Topic4\", \"Topic4\", \"Topic4\", \"Topic4\", \"Topic4\", \"Topic4\", \"Topic5\", \"Topic5\", \"Topic5\", \"Topic5\", \"Topic5\", \"Topic5\", \"Topic5\", \"Topic5\", \"Topic5\", \"Topic5\", \"Topic5\", \"Topic5\", \"Topic5\", \"Topic5\", \"Topic5\", \"Topic5\", \"Topic5\", \"Topic5\", \"Topic5\", \"Topic5\", \"Topic5\", \"Topic5\", \"Topic5\", \"Topic5\", \"Topic5\", \"Topic5\", \"Topic5\", \"Topic5\", \"Topic5\", \"Topic5\", \"Topic5\", \"Topic5\", \"Topic5\", \"Topic5\", \"Topic5\", \"Topic5\", \"Topic5\", \"Topic5\", \"Topic5\", \"Topic5\", \"Topic5\", \"Topic5\", \"Topic5\", \"Topic5\", \"Topic5\", \"Topic5\", \"Topic5\", \"Topic5\", \"Topic5\", \"Topic5\", \"Topic5\", \"Topic5\", \"Topic5\", \"Topic5\", \"Topic5\", \"Topic5\", \"Topic5\", \"Topic5\", \"Topic5\", \"Topic5\", \"Topic5\", \"Topic5\", \"Topic5\", \"Topic5\", \"Topic5\", \"Topic5\", \"Topic5\", \"Topic5\", \"Topic5\", \"Topic5\", \"Topic5\", \"Topic5\", \"Topic5\", \"Topic5\", \"Topic5\", \"Topic5\", \"Topic5\", \"Topic5\", \"Topic5\", \"Topic5\", \"Topic5\"], \"logprob\": [30.0, 29.0, 28.0, 27.0, 26.0, 25.0, 24.0, 23.0, 22.0, 21.0, 20.0, 19.0, 18.0, 17.0, 16.0, 15.0, 14.0, 13.0, 12.0, 11.0, 10.0, 9.0, 8.0, 7.0, 6.0, 5.0, 4.0, 3.0, 2.0, 1.0, -9.1081, -9.1369, -5.8833, -8.8587, -5.9158, -8.4006, -8.9091, -5.9249, -7.6956, -5.9757, -7.9876, -5.9822, -5.9499, -8.9654, -8.9686, -9.0006, -9.011, -8.5051, -6.271, -9.0224, -8.0611, -9.0263, -7.7681, -8.759, -7.3275, -8.0911, -5.6548, -9.0556, -8.5621, -8.7794, -7.064, -6.4559, -7.5804, -8.0332, -6.4056, -6.6491, -5.9127, -7.0184, -5.2234, -7.0244, -7.1611, -5.4196, -5.5138, -6.131, -4.947, -5.5321, -5.9581, -5.0986, -5.0519, -6.7251, -6.0889, -6.2929, -6.4558, -5.7537, -6.2468, -5.8531, -6.1234, -5.8727, -5.9539, -5.7723, -5.9608, -6.028, -6.0028, -6.0864, -5.7666, -6.1506, -9.0442, -6.9873, -8.7749, -8.881, -8.6256, -8.6762, -8.9845, -8.9688, -9.3445, -7.9837, -9.3633, -9.4078, -6.7156, -5.9338, -9.0463, -9.0174, -9.0265, -8.5361, -9.4221, -9.0354, -9.025, -9.4365, -8.3621, -9.0504, -9.0067, -9.455, -9.0535, -9.0083, -9.4672, -9.4665, -7.9971, -8.5783, -8.4034, -6.0115, -6.0323, -7.0906, -7.0582, -6.9773, -7.3131, -7.3047, -8.4244, -5.8801, -5.7453, -5.5708, -7.1589, -7.6925, -4.9285, -7.6145, -6.3321, -5.7627, -6.0265, -6.0366, -5.8075, -6.8759, -5.8449, -6.0958, -5.0344, -5.832, -5.6359, -5.1096, -5.0395, -6.1127, -6.1392, -5.7905, -6.2712, -6.2688, -5.7873, -5.6402, -6.2703, -6.0066, -6.0157, -5.9068, -5.8674, -6.026, -6.1614, -6.1897, -8.5041, -9.0909, -9.091, -9.0914, -9.0914, -9.0916, -9.0917, -9.0919, -8.4064, -9.1152, -9.1169, -7.8662, -8.0488, -7.9197, -6.7213, -7.8188, -7.5539, -8.8403, -8.8381, -8.5855, -7.6075, -8.8715, -8.6033, -8.6098, -7.1358, -6.877, -7.6298, -7.396, -7.9547, -8.283, -6.897, -6.9402, -7.4375, -7.8838, -7.7849, -7.639, -7.5015, -5.6573, -6.5301, -5.7874, -5.0185, -5.751, -7.2198, -6.1995, -6.3177, -5.8127, -5.1068, -5.591, -6.0694, -5.6876, -6.222, -6.2461, -5.2366, -5.1324, -5.7313, -5.9773, -6.2105, -5.9866, -6.4169, -6.0221, -6.2536, -5.8858, -6.4327, -6.1213, -6.0977, -6.0376, -5.9729, -6.2206, -6.1527, -5.981, -6.1536, -6.1876, -6.2386, -8.7088, -9.15, -9.1501, -9.1501, -9.1503, -8.7577, -8.2527, -8.7868, -9.2749, -8.5457, -7.4408, -8.0838, -9.318, -8.9041, -9.3266, -9.3343, -9.3337, -9.3411, -7.5881, -6.7516, -9.3541, -6.7691, -6.7805, -8.9799, -9.3781, -8.9495, -9.3834, -7.2165, -9.4018, -9.0164, -6.8194, -8.5091, -7.6673, -4.3754, -6.3978, -5.5172, -6.2011, -7.5865, -7.191, -7.6704, -5.6704, -7.8944, -6.5984, -5.3205, -5.6091, -6.1121, -5.5244, -5.8067, -6.6871, -6.5237, -6.6353, -6.2231, -5.1049, -6.0772, -6.0038, -5.1852, -6.2991, -5.1571, -6.0539, -5.8878, -5.7707, -5.9394, -5.8993, -5.7346, -5.9885, -6.1324, -5.9998, -5.8673, -5.9406, -6.0696, -6.1887, -6.179, -6.0793, -6.0756, -6.1655, -9.1099, -9.11, -9.1103, -9.1103, -9.1106, -9.1108, -9.111, -9.1542, -9.1591, -9.1655, -9.1662, -9.166, -9.1712, -9.1755, -9.1766, -9.1945, -8.8336, -6.5888, -8.8724, -8.6811, -8.5789, -9.5347, -8.8635, -7.0957, -9.5816, -7.9822, -8.4458, -9.1805, -9.5921, -8.9251, -8.9086, -7.5544, -8.0879, -8.3524, -5.4759, -5.8116, -6.5258, -6.7054, -4.597, -6.0831, -4.7732, -6.0674, -6.8569, -4.9149, -5.7794, -5.0025, -5.8616, -6.9317, -6.1955, -6.8175, -6.4377, -5.8181, -6.3669, -6.2711, -6.5761, -6.69, -6.2703, -5.7927, -6.6348, -6.7728, -7.0421, -6.0885, -5.761, -5.696, -6.321, -6.3082, -5.8312, -6.1855, -5.7273, -6.1904, -6.0589, -6.0645, -6.0641, -6.2148, -5.9624, -6.2092, -6.1544, -6.2416, -6.1868, -6.1476, -6.216], \"loglift\": [30.0, 29.0, 28.0, 27.0, 26.0, 25.0, 24.0, 23.0, 22.0, 21.0, 20.0, 19.0, 18.0, 17.0, 16.0, 15.0, 14.0, 13.0, 12.0, 11.0, 10.0, 9.0, 8.0, 7.0, 6.0, 5.0, 4.0, 3.0, 2.0, 1.0, 0.9943, 0.971, 0.8631, 0.8441, 0.8321, 0.8176, 0.8163, 0.8046, 0.7958, 0.7849, 0.7816, 0.7791, 0.7781, 0.7709, 0.752, 0.7339, 0.7328, 0.7233, 0.7217, 0.72, 0.718, 0.718, 0.7025, 0.7016, 0.6999, 0.695, 0.6931, 0.6931, 0.6844, 0.6818, 0.6703, 0.5405, 0.6082, 0.641, 0.4954, 0.5165, 0.4126, 0.5331, 0.3075, 0.4978, 0.5154, 0.2249, 0.2275, 0.3207, 0.0873, 0.1622, 0.2505, -0.019, -0.0458, 0.3855, 0.1898, 0.2514, 0.3009, 0.0715, 0.2287, 0.0799, 0.1775, 0.065, 0.0801, -0.007, 0.0089, 0.0348, -0.1647, -0.1248, -0.8425, -0.1392, 1.0477, 0.9285, 0.8851, 0.8584, 0.8026, 0.7759, 0.7719, 0.7525, 0.7491, 0.7343, 0.731, 0.7289, 0.7276, 0.7232, 0.7198, 0.7167, 0.7109, 0.709, 0.7081, 0.7031, 0.7016, 0.6973, 0.6954, 0.6923, 0.6917, 0.6894, 0.6865, 0.6839, 0.6686, 0.6626, 0.6551, 0.658, 0.6437, 0.474, 0.4501, 0.5178, 0.5147, 0.5068, 0.5258, 0.5118, 0.6299, 0.3276, 0.3004, 0.2673, 0.4725, 0.5385, 0.1512, 0.522, 0.3188, 0.207, 0.2463, 0.2466, 0.2039, 0.39, 0.189, 0.2099, -0.0283, 0.1296, 0.0584, -0.0754, -0.1154, 0.1675, 0.173, 0.0348, 0.1915, 0.1744, -0.022, -0.1093, 0.1648, 0.0438, 0.0434, -0.1655, -0.223, -0.093, 0.0428, -0.1467, 1.2848, 1.1026, 1.1025, 1.1023, 1.1023, 1.1018, 1.1018, 1.1016, 1.09, 1.0787, 1.0733, 1.0707, 1.0522, 1.0463, 1.0308, 1.0181, 0.9449, 0.9429, 0.9346, 0.9256, 0.9228, 0.9134, 0.9032, 0.8938, 0.8824, 0.8785, 0.8588, 0.8527, 0.8513, 0.8455, 0.841, 0.7563, 0.7816, 0.8232, 0.8105, 0.785, 0.7646, 0.2804, 0.4671, 0.2556, -0.0124, 0.182, 0.5939, 0.2848, 0.3116, 0.1489, -0.0726, 0.0534, 0.2029, 0.0537, 0.2455, 0.2535, -0.157, -0.2083, 0.034, 0.0855, 0.1922, 0.0725, 0.2528, 0.0282, 0.1596, -0.0605, 0.2337, -0.0756, -0.1196, -0.1994, -0.2786, -0.0116, -0.1414, -0.4501, -0.1839, -0.1536, -0.0344, 1.1578, 1.1223, 1.1222, 1.1221, 1.122, 1.0989, 1.0662, 1.064, 0.9971, 0.9898, 0.9515, 0.9434, 0.9289, 0.9287, 0.9178, 0.9095, 0.9094, 0.9013, 0.8955, 0.8946, 0.886, 0.881, 0.8745, 0.864, 0.8594, 0.8579, 0.8508, 0.8349, 0.8304, 0.8295, 0.8242, 0.8215, 0.7983, 0.5487, 0.6524, 0.4609, 0.5427, 0.7055, 0.6399, 0.696, 0.3887, 0.7174, 0.4962, 0.2104, 0.229, 0.3355, 0.1699, 0.2362, 0.449, 0.3993, 0.4227, 0.2894, -0.0706, 0.2351, 0.2004, -0.1056, 0.2878, -0.151, 0.1552, 0.0819, -0.0054, 0.0719, 0.0337, -0.0902, 0.0618, 0.1405, 0.0459, -0.126, -0.1154, -0.0356, 0.1122, 0.0933, -0.1178, -0.1379, 0.0423, 1.1687, 1.1686, 1.1684, 1.1684, 1.1681, 1.168, 1.1679, 1.1214, 1.1157, 1.109, 1.1085, 1.1085, 1.1033, 1.0983, 1.0971, 1.0781, 1.0232, 0.9591, 0.9557, 0.8646, 0.7627, 0.7241, 0.6995, 0.6865, 0.6761, 0.6739, 0.6728, 0.6615, 0.6553, 0.6521, 0.6501, 0.6205, 0.6239, 0.6277, 0.5022, 0.5007, 0.5244, 0.5141, 0.327, 0.4361, 0.233, 0.3802, 0.5037, 0.1194, 0.2797, 0.0771, 0.2011, 0.4878, 0.2761, 0.4274, 0.3061, 0.1197, 0.2825, 0.2519, 0.3358, 0.3659, 0.2239, 0.0326, 0.3182, 0.3634, 0.4573, 0.1205, 0.0043, -0.0516, 0.1839, 0.1773, -0.0898, 0.0946, -0.1964, 0.0928, -0.0085, -0.0532, -0.1026, 0.0639, -0.2681, -0.0015, -0.1114, 0.0313, -0.1411, -0.3095, -0.2463]}, \"token.table\": {\"Topic\": [1, 2, 1, 2, 3, 4, 5, 3, 4, 5, 1, 3, 4, 2, 3, 5, 1, 2, 3, 4, 5, 1, 2, 3, 4, 5, 1, 2, 3, 4, 5, 1, 2, 3, 4, 5, 2, 5, 5, 1, 2, 3, 4, 5, 2, 3, 2, 3, 2, 3, 4, 1, 2, 1, 2, 3, 4, 5, 1, 2, 3, 4, 5, 1, 2, 3, 4, 5, 1, 2, 3, 4, 5, 3, 1, 2, 3, 4, 5, 5, 2, 3, 2, 3, 4, 1, 1, 1, 2, 3, 4, 5, 1, 2, 3, 4, 1, 2, 3, 4, 5, 2, 1, 2, 3, 4, 5, 1, 2, 3, 4, 5, 1, 2, 3, 4, 5, 1, 2, 3, 4, 5, 1, 2, 3, 4, 5, 2, 5, 1, 2, 3, 4, 5, 1, 2, 3, 4, 5, 1, 2, 3, 4, 5, 2, 3, 4, 5, 1, 2, 3, 4, 5, 1, 2, 3, 4, 5, 4, 4, 1, 3, 4, 1, 2, 3, 4, 5, 1, 2, 3, 4, 5, 1, 2, 3, 4, 5, 1, 2, 3, 4, 5, 1, 2, 3, 4, 5, 1, 2, 3, 4, 5, 2, 3, 2, 1, 2, 3, 4, 5, 2, 5, 5, 1, 2, 3, 4, 5, 1, 2, 3, 4, 5, 2, 3, 4, 4, 1, 2, 3, 4, 5, 1, 2, 3, 4, 5, 4, 2, 4, 3, 5, 1, 2, 3, 4, 5, 2, 5, 2, 3, 5, 1, 2, 3, 4, 5, 1, 1, 2, 3, 4, 5, 5, 4, 1, 2, 3, 4, 5, 1, 2, 3, 4, 5, 3, 1, 2, 3, 4, 5, 1, 2, 3, 4, 5, 1, 2, 3, 4, 5, 1, 2, 3, 4, 5, 1, 2, 3, 4, 5, 1, 2, 3, 4, 5, 1, 2, 3, 5, 5, 1, 2, 3, 4, 5, 1, 1, 2, 3, 4, 5, 1, 2, 3, 4, 5, 1, 4, 1, 2, 4, 1, 2, 3, 4, 5, 1, 4, 5, 3, 1, 2, 3, 4, 5, 1, 2, 3, 4, 5, 1, 2, 3, 4, 5, 2, 5, 1, 2, 3, 4, 5, 2, 1, 2, 3, 4, 5, 1, 2, 3, 4, 5, 1, 2, 3, 4, 5, 1, 2, 3, 4, 5, 4, 4, 4, 1, 4, 1, 2, 3, 4, 5, 1, 1, 2, 3, 4, 5, 2, 3, 4, 4, 1, 2, 3, 4, 5, 1, 2, 3, 4, 5, 5, 1, 2, 3, 4, 5, 4, 1, 2, 3, 4, 5, 1, 2, 3, 4, 5, 1, 2, 3, 4, 5, 1, 2, 3, 4, 5, 1, 2, 3, 4, 5, 1, 2, 3, 4, 5, 1, 2, 3, 4, 5, 5, 3, 1, 2, 3, 4, 5, 5, 1, 4, 1, 2, 3, 4, 5, 1, 1, 2, 3, 4, 5, 1, 2, 3, 5, 1, 2, 3, 4, 5, 1, 2, 3, 4, 5, 1, 2, 3, 4, 5, 1, 2, 3, 4, 5, 1, 2, 3, 4, 5, 3, 5, 1, 2, 3, 4, 5, 1, 2, 3, 4, 5, 4, 1, 1, 3, 4, 1, 2, 3, 4, 5, 5, 1, 1, 2, 3, 4, 5, 1, 2, 3, 4, 5, 1, 2, 3, 4, 5, 1, 2, 3, 4, 5, 2, 5, 2, 1, 2, 3, 4, 5, 1, 2, 3, 4, 5, 1, 2, 3, 4, 5, 4, 1, 2, 3, 4, 5, 3, 1, 2, 3, 4, 5, 1, 2, 3, 4, 5, 1, 2, 3, 4, 5, 3, 4, 5, 1, 2, 3, 4, 5, 1, 2, 3, 4, 5, 1, 2, 3, 4, 5, 1, 2, 3, 4, 5, 1, 2, 1, 2, 1, 2, 3, 4, 5, 1, 2, 3, 4, 5, 5, 3, 1, 2, 3, 4, 5, 5, 1, 2, 3, 4, 5, 2, 3, 4, 5, 1, 2, 3, 4, 5, 1, 2, 3, 4, 5, 2, 3, 1, 2, 3, 4, 5, 3, 1, 2, 3, 4, 5, 1, 2, 3, 4, 5, 1, 4, 2, 1, 2, 3, 4, 5, 3, 1, 2, 3, 4, 5, 2, 5, 4, 3, 1, 1, 3, 4, 1, 2, 5, 1, 3, 4, 5, 1, 2, 3, 4, 5, 1, 2, 1, 2, 3, 4, 5, 1, 2, 3, 4, 5, 4, 1, 2, 3, 4, 5, 1, 2, 3, 4, 5, 1, 2, 3, 4, 5, 1, 3, 1, 2, 3, 4, 5, 5, 5, 1, 2, 3, 4, 5, 1, 2, 3, 4, 5, 1, 2, 3, 4, 5, 1, 2, 3, 4, 5, 1, 3, 4, 5, 1, 2, 3, 4, 5, 1, 2, 3, 4, 5, 1, 2, 3, 4, 5, 1, 2, 3, 4, 5, 1, 2, 3, 4, 5, 1, 2, 3, 4, 5, 1, 1, 2, 3, 4, 1, 2, 3, 4, 1, 2, 3, 4, 5, 1, 2, 3, 4, 5, 3, 1, 2, 3, 4, 5, 4, 2, 3, 4, 2, 3, 5, 1, 3, 2, 3, 1, 2, 3, 4, 5, 1, 2, 3, 5, 1, 3, 4, 5, 1, 2, 3, 4, 5, 1, 2, 3, 4, 5, 5, 5, 2, 3, 4, 1, 2, 3, 4, 5, 1, 2, 3, 4, 5, 1, 2, 3, 4, 5, 1, 2, 3, 4, 5, 1, 2, 3, 4, 5, 1, 2, 3, 4, 5, 1, 2, 3, 4, 5, 2, 3, 4, 5, 1, 2, 5, 1, 2, 3, 4, 5, 4, 1, 2, 3, 4, 5, 2, 3, 4, 1, 2, 3, 4, 5, 1, 2, 3, 4, 5, 1, 2, 3, 4, 5, 1, 2, 3, 4, 5, 1, 2, 3, 4, 5, 1, 2, 3, 4, 5, 2, 3, 4, 1, 2, 3, 4, 5, 3], \"Freq\": [0.3512943614611283, 0.7025887229222566, 0.15577552518885168, 0.31155105037770336, 0.1780291716444019, 0.18915599487217705, 0.1669023484166268, 0.3174370465422506, 0.3174370465422506, 0.3174370465422506, 0.4516991486206405, 0.22584957431032024, 0.22584957431032024, 0.4639724723305623, 0.23198623616528116, 0.23198623616528116, 0.5028413346935257, 0.058020154003099116, 0.11604030800619823, 0.15472041067493097, 0.1353803593405646, 0.1282343780870412, 0.35264453973936327, 0.22441016165232208, 0.09617578356528089, 0.19235156713056178, 0.2095206557640106, 0.26539283063441343, 0.1815845683288092, 0.15364848089360778, 0.1815845683288092, 0.19139579247384747, 0.2751314516811557, 0.179433555444232, 0.179433555444232, 0.179433555444232, 0.5641842279666713, 0.6489636482780895, 0.6522483518268256, 0.06802307164788203, 0.13604614329576406, 0.4761615015351742, 0.13604614329576406, 0.13604614329576406, 0.3734984992578615, 0.3734984992578615, 0.37831521867594514, 0.37831521867594514, 0.3799847153117541, 0.3799847153117541, 0.6478084377427986, 0.36504341344149166, 0.36504341344149166, 0.5031831621089837, 0.07741279417061288, 0.11611919125591932, 0.17417878688387897, 0.13547238979857254, 0.2287670170944747, 0.22161804781027236, 0.20017113995766536, 0.17872423210505836, 0.17157526282085603, 0.05139948452747347, 0.15419845358242043, 0.46259536074726126, 0.15419845358242043, 0.15419845358242043, 0.13545991738761345, 0.13545991738761345, 0.40637975216284034, 0.13545991738761345, 0.13545991738761345, 0.598989494831897, 0.1531278337955494, 0.3828195844888735, 0.1531278337955494, 0.0765639168977747, 0.1531278337955494, 0.6521866817844596, 0.38156748387399164, 0.38156748387399164, 0.3026999290251162, 0.6053998580502324, 0.3026999290251162, 0.5497428484515772, 0.366661997108742, 0.19073094159668974, 0.22007416338079586, 0.264088996056955, 0.17605933070463667, 0.16138771981258362, 0.21777282016658553, 0.10888641008329276, 0.43554564033317106, 0.21777282016658553, 0.20114264468031123, 0.2834282720495295, 0.17371410222390515, 0.19199979719484253, 0.15542840725296778, 0.5616061211999537, 0.094142613437944, 0.047071306718972, 0.23535653359486, 0.423641760470748, 0.188285226875888, 0.11088016147332738, 0.22176032294665476, 0.3326404844199821, 0.22176032294665476, 0.11088016147332738, 0.11370904323927405, 0.39798165133745916, 0.11370904323927405, 0.17056356485891108, 0.2274180864785481, 0.5529954439120932, 0.05720642523228551, 0.11441285046457102, 0.13348165887533286, 0.13348165887533286, 0.0986218141014757, 0.14793272115221356, 0.3944872564059028, 0.14793272115221356, 0.1972436282029514, 0.3803455390951779, 0.3803455390951779, 0.12822622310402987, 0.38467866931208966, 0.12822622310402987, 0.12822622310402987, 0.12822622310402987, 0.2463332828430069, 0.15289652038531462, 0.26332178510804183, 0.15289652038531462, 0.18687352491538453, 0.09635498802221075, 0.28906496406663224, 0.09635498802221075, 0.385419952088843, 0.1927099760444215, 0.25272953306906554, 0.25272953306906554, 0.5054590661381311, 0.25272953306906554, 0.1099965178015562, 0.2199930356031124, 0.549982589007781, 0.1099965178015562, 0.1099965178015562, 0.10462192717693439, 0.20924385435386877, 0.4707986722962047, 0.15693289076540157, 0.10462192717693439, 0.6237874362150878, 0.6480259055284513, 0.46464080623576176, 0.23232040311788088, 0.23232040311788088, 0.20877784423053503, 0.2609723052881688, 0.22617599791641294, 0.15658338317290127, 0.1478843063299623, 0.25844522399022873, 0.2728032919896859, 0.17229681599348584, 0.15793874799402868, 0.12922261199511437, 0.22687762618325213, 0.2664911799612803, 0.16925791159702938, 0.1584542151121126, 0.18006160808194613, 0.15557910661672394, 0.21215332720462357, 0.12729199632277416, 0.24044043749857338, 0.24044043749857338, 0.13073278815505207, 0.3921983644651562, 0.13073278815505207, 0.17431038420673609, 0.17431038420673609, 0.1692072110138889, 0.22560961468518517, 0.1692072110138889, 0.3384144220277778, 0.1692072110138889, 0.5572367100535325, 0.27861835502676624, 0.5702205305412493, 0.09882700338424572, 0.2717742593066757, 0.12353375423030714, 0.22236075761455287, 0.2717742593066757, 0.4156154991664766, 0.4156154991664766, 0.648896776520692, 0.3293602704015593, 0.16468013520077965, 0.16468013520077965, 0.1372334460006497, 0.19212682440090958, 0.3769759968720188, 0.11599261442215963, 0.23198522884431927, 0.17398892163323945, 0.05799630721107982, 0.17549373451190006, 0.5264812035357003, 0.17549373451190006, 0.6298174422896801, 0.22225505361601644, 0.17780404289281315, 0.22225505361601644, 0.17780404289281315, 0.20743805004161534, 0.21100922795534033, 0.21100922795534033, 0.16411828840970916, 0.18756375818252474, 0.23445469772815591, 0.42513990865686013, 0.4175824768959508, 0.4175824768959508, 0.7993272641504799, 0.6496137500548222, 0.16196177017492028, 0.32392354034984056, 0.12147132763119022, 0.16196177017492028, 0.2834330978061105, 0.5707262811352857, 0.28536314056764284, 0.5653785187902575, 0.3188235711874574, 0.3188235711874574, 0.19032068965585408, 0.38064137931170816, 0.19032068965585408, 0.19032068965585408, 0.19032068965585408, 0.3820194142641952, 0.48790861187110224, 0.09758172237422046, 0.1707680141548858, 0.14637258356133068, 0.09758172237422046, 0.6501752567751082, 0.6289624764794631, 0.07955871853800975, 0.23867615561402925, 0.1591174370760195, 0.23867615561402925, 0.318234874152039, 0.06712903174813707, 0.2397465419576324, 0.2109769569227165, 0.258926265314243, 0.2205668186010218, 0.5992132958921353, 0.11411491190850054, 0.2662681277865012, 0.11411491190850054, 0.3043064317560014, 0.22822982381700108, 0.10640019723719027, 0.10640019723719027, 0.21280039447438054, 0.4256007889487611, 0.10640019723719027, 0.09378511961487986, 0.04689255980743993, 0.23446279903719963, 0.4220330382669593, 0.1875702392297597, 0.20497902307077587, 0.21864429127549426, 0.23230955948021267, 0.19131375486605748, 0.1503179502519023, 0.20914004221856033, 0.23765913888472764, 0.19963367666317122, 0.1901273111077821, 0.1616082144416148, 0.17306214475842202, 0.259593217137633, 0.17306214475842202, 0.17306214475842202, 0.2249807881859486, 0.20441864374603902, 0.20441864374603902, 0.20441864374603902, 0.40883728749207804, 0.6494733103179534, 0.09863650635946482, 0.20343779436639617, 0.16028432283413033, 0.30515669154959424, 0.23117931177999565, 0.5467546754310786, 0.24063406965881745, 0.19250725572705396, 0.21175798129975937, 0.15400580458164317, 0.20213261851340666, 0.14689991218679066, 0.36724978046697665, 0.1762798946241488, 0.11751992974943254, 0.20565987706150693, 0.3101890157531426, 0.6203780315062852, 0.24976145199626396, 0.24976145199626396, 0.4995229039925279, 0.16713837032114046, 0.22791595952882787, 0.16713837032114046, 0.1823327676230623, 0.2583047541326716, 0.5459386725814033, 0.2183754690325613, 0.2183754690325613, 0.5965672284521325, 0.06139982431938353, 0.5525984188744518, 0.1841994729581506, 0.06139982431938353, 0.06139982431938353, 0.29089131527908324, 0.20362392069535826, 0.1890793549314041, 0.17453478916744994, 0.14544565763954162, 0.21143605609805463, 0.17619671341504553, 0.17619671341504553, 0.14095737073203643, 0.28191474146407286, 0.38683962230730257, 0.38683962230730257, 0.2931308328196604, 0.19542055521310692, 0.20937916629975742, 0.15354472195315544, 0.15354472195315544, 0.541020406984364, 0.27472813685454217, 0.2150046288426852, 0.16722582243319958, 0.1552811208308282, 0.179170524035571, 0.16894070866387817, 0.11262713910925212, 0.1970974934411912, 0.2815678477731303, 0.2534110629958173, 0.17929776938607514, 0.19817121879513566, 0.2547915670223173, 0.2264813929087265, 0.15098759527248432, 0.3932695142679822, 0.1310898380893274, 0.1310898380893274, 0.1310898380893274, 0.1310898380893274, 0.62746542977743, 0.6258420383988821, 0.6301821987240324, 0.42222746574763054, 0.42222746574763054, 0.19170624240745376, 0.38341248481490753, 0.19170624240745376, 0.19170624240745376, 0.19170624240745376, 0.3814748499427139, 0.0884396127705304, 0.1768792255410608, 0.1768792255410608, 0.28300676086569726, 0.27416279958864426, 0.1542390550864983, 0.6169562203459932, 0.1542390550864983, 0.6479949187789181, 0.08945110289410742, 0.26835330868232227, 0.08945110289410742, 0.35780441157642967, 0.17890220578821484, 0.22499125322331437, 0.20249212790098295, 0.13499475193398863, 0.1799930025786515, 0.22499125322331437, 0.6393309114540756, 0.2809076665418365, 0.17098727528633528, 0.19541402889866888, 0.19541402889866888, 0.15877389848016848, 0.6479815534667628, 0.43676728362897577, 0.14558909454299193, 0.14558909454299193, 0.14558909454299193, 0.14558909454299193, 0.16116056173872645, 0.053720187246242154, 0.2686009362312108, 0.21488074898496862, 0.3223211234774529, 0.1760230405748132, 0.21122764868977584, 0.2464322568047385, 0.15842073651733188, 0.21122764868977584, 0.19990691535747693, 0.2998603730362154, 0.16146327778873135, 0.22297309789872424, 0.12301964021998579, 0.20924970659003708, 0.47081183982758346, 0.10462485329501854, 0.17437475549169756, 0.03487495109833951, 0.27300597207814664, 0.2397125608491044, 0.146491009407786, 0.2064191496200621, 0.12651496267036064, 0.29600801685007677, 0.21811117031058289, 0.2025318010026841, 0.15579369307898777, 0.140214323771089, 0.6385818146513845, 0.5989292490949212, 0.13610173559115887, 0.27220347118231775, 0.13610173559115887, 0.13610173559115887, 0.27220347118231775, 0.6320533210860063, 0.38388376381629397, 0.4275948543909805, 0.2085754388476491, 0.17877894758369922, 0.2532701757435739, 0.19367719321567417, 0.14898245631974935, 0.3821934803127851, 0.5347209890712605, 0.07638871272446579, 0.09548589090558224, 0.17187460363004803, 0.11458306908669867, 0.19232750773260177, 0.38465501546520353, 0.19232750773260177, 0.19232750773260177, 0.4277474103381701, 0.10693685258454252, 0.10693685258454252, 0.21387370516908505, 0.21387370516908505, 0.4609066925888593, 0.10242370946419095, 0.10242370946419095, 0.2048474189283819, 0.15363556419628643, 0.4398091861099649, 0.14660306203665496, 0.14660306203665496, 0.14660306203665496, 0.14660306203665496, 0.3124250538572699, 0.12781024930524676, 0.21301708217541127, 0.15621252692863494, 0.170413665740329, 0.3504068311375145, 0.20023247493572255, 0.1501743562017919, 0.1501743562017919, 0.1501743562017919, 0.4214244520885488, 0.4214244520885488, 0.25361480824679855, 0.21134567353899877, 0.23670715436367865, 0.18598419271431893, 0.12680740412339928, 0.2524939055133744, 0.2711971577736244, 0.16832927034224962, 0.16832927034224962, 0.13092276582174972, 0.43190325891768294, 0.3784781955811118, 0.17046956792732715, 0.5114087037819814, 0.17046956792732715, 0.24926116271746956, 0.1780436876553354, 0.2373915835404472, 0.18991326683235776, 0.14243495012426832, 0.6523005169771033, 0.37323364338516046, 0.22574745312012337, 0.3611959249921974, 0.1805979624960987, 0.09029898124804935, 0.135448471872074, 0.10206507095680677, 0.20413014191361353, 0.40826028382722707, 0.20413014191361353, 0.10206507095680677, 0.37281993589860735, 0.1656977492882699, 0.12427331196620245, 0.12427331196620245, 0.1656977492882699, 0.08103094037626853, 0.2160825076700494, 0.2160825076700494, 0.29711344804631795, 0.2160825076700494, 0.5658553196866148, 0.652116891097728, 0.5621760162676643, 0.2914006927046783, 0.1837091323572972, 0.2090483230272692, 0.15836994168732516, 0.15836994168732516, 0.23679169582015427, 0.2806420098609236, 0.16663119335492338, 0.19294138177938497, 0.13155094212230795, 0.2448339490329624, 0.1530212181456015, 0.1836254617747218, 0.1530212181456015, 0.2754381926620827, 0.4230546628804761, 0.2083348007919331, 0.23437665089092471, 0.13020925049495818, 0.26041850098991637, 0.18229295069294144, 0.5988743635795009, 0.3866668781902819, 0.14500007932135572, 0.19333343909514095, 0.14500007932135572, 0.09666671954757047, 0.23178512360040834, 0.23178512360040834, 0.17383884270030625, 0.15935227247528072, 0.2172985533753828, 0.17978596619558157, 0.31225983602390484, 0.17978596619558157, 0.18924838546903325, 0.14193628910177494, 0.3233779600249221, 0.3233779600249221, 0.3233779600249221, 0.378345483911389, 0.13353370020401964, 0.15578931690468958, 0.17804493360535953, 0.15578931690468958, 0.20055246417336087, 0.21169426773854758, 0.18941066060817416, 0.20055246417336087, 0.18941066060817416, 0.3006834154205119, 0.22272845586704587, 0.18931918748698898, 0.1447734963135798, 0.1447734963135798, 0.12114351500001652, 0.12114351500001652, 0.4845740600000661, 0.12114351500001652, 0.12114351500001652, 0.541996027459594, 0.541996027459594, 0.5423517381680206, 0.5423517381680206, 0.09888124091829734, 0.19776248183659467, 0.09888124091829734, 0.4944062045914867, 0.09888124091829734, 0.16625516981258612, 0.2968842318081895, 0.16625516981258612, 0.20188127762956887, 0.1781305390849137, 0.6482489702606274, 0.5990196303387509, 0.17799210857845127, 0.17799210857845127, 0.17799210857845127, 0.17799210857845127, 0.35598421715690254, 0.6494646318834036, 0.11214343684968177, 0.29904916493248473, 0.14952458246624237, 0.18690572808280295, 0.26166801931592415, 0.10833401152317525, 0.32500203456952576, 0.433336046092701, 0.10833401152317525, 0.0473081109746813, 0.0473081109746813, 0.2365405548734065, 0.4257729987721317, 0.1892324438987252, 0.3839260090232944, 0.12797533634109814, 0.2559506726821963, 0.17063378178813085, 0.08531689089406543, 0.45991245836682676, 0.22995622918341338, 0.10334525087239003, 0.07750893815429252, 0.20669050174478007, 0.33587206533526764, 0.2841994398990726, 0.5989342351428905, 0.257708615804653, 0.2822522935003342, 0.17180574386976866, 0.1349902273262468, 0.15953390502192802, 0.20476163578096981, 0.227512928645522, 0.15925905005186541, 0.2730155143746264, 0.1365077571873132, 0.40707415298533567, 0.40707415298533567, 0.3795384090389452, 0.4032908135964003, 0.2419744881578402, 0.16131632543856012, 0.08065816271928006, 0.16131632543856012, 0.3932026141398176, 0.08315718878269417, 0.16631437756538833, 0.41578594391347085, 0.33262875513077667, 0.08315718878269417, 0.3906440762612284, 0.3906440762612284, 0.6293317126175413, 0.5989254827788342, 0.37504628589195477, 0.5755388796919043, 0.28776943984595216, 0.28776943984595216, 0.3133487510361655, 0.3133487510361655, 0.3133487510361655, 0.18657614123523747, 0.18657614123523747, 0.37315228247047494, 0.18657614123523747, 0.16109482710511777, 0.35147962277480244, 0.17573981138740122, 0.14644984282283435, 0.16109482710511777, 0.36278686585918285, 0.36278686585918285, 0.1960344101141295, 0.1960344101141295, 0.31855591643546044, 0.17153010884986333, 0.14702580758559713, 0.1913827712421593, 0.4593186509811823, 0.15310621699372745, 0.11482966274529557, 0.03827655424843186, 0.6480289937954515, 0.21134242681157736, 0.22759953656631407, 0.17882820730210391, 0.22759953656631407, 0.14631398779263047, 0.2675285140635219, 0.2675285140635219, 0.14080448108606416, 0.168965377303277, 0.1548849291946706, 0.24147793437975149, 0.21129319258228255, 0.21129319258228255, 0.24147793437975149, 0.10564659629114127, 0.39804435314649445, 0.39804435314649445, 0.21095665334273242, 0.14063776889515495, 0.14063776889515495, 0.42191330668546484, 0.14063776889515495, 0.6496988785378685, 0.6494766625704812, 0.3917587936335769, 0.24484924602098557, 0.12242462301049278, 0.09793969840839423, 0.12242462301049278, 0.12873700829731588, 0.12873700829731588, 0.25747401659463176, 0.25747401659463176, 0.38621102489194764, 0.09353349484018293, 0.046766747420091466, 0.2806004845205488, 0.4209007267808232, 0.18706698968036586, 0.19063708047464942, 0.3119515862312445, 0.15597579311562226, 0.15597579311562226, 0.17330643679513583, 0.25550112000510156, 0.25550112000510156, 0.25550112000510156, 0.25550112000510156, 0.18479438294162143, 0.36958876588324285, 0.18479438294162143, 0.13859578720621607, 0.13859578720621607, 0.22875025020050016, 0.25925028356056684, 0.15250016680033343, 0.1372501501203001, 0.21350023352046682, 0.5250036718461834, 0.05625039341209107, 0.09375065568681845, 0.1875013113736369, 0.15000104909890952, 0.5765691316298864, 0.1441422829074716, 0.1441422829074716, 0.1441422829074716, 0.1441422829074716, 0.1947072327729814, 0.2246621916611324, 0.17972975332890592, 0.1947072327729814, 0.1947072327729814, 0.1667844942247299, 0.38916381985770315, 0.1667844942247299, 0.11118966281648661, 0.1667844942247299, 0.37913847997716466, 0.4563259655948787, 0.22816298279743935, 0.22816298279743935, 0.22816298279743935, 0.08716744980243672, 0.17433489960487344, 0.4358372490121836, 0.26150234940731015, 0.22083202532083804, 0.22083202532083804, 0.1940645071001304, 0.15056728999148047, 0.21079420598807266, 0.08415464709105316, 0.42077323545526585, 0.16830929418210633, 0.16830929418210633, 0.16830929418210633, 0.5969647061662111, 0.2035325886184315, 0.2374546867215034, 0.27137678482457533, 0.15264944146382362, 0.15264944146382362, 0.6225578923488582, 0.3004561889709212, 0.6009123779418424, 0.3004561889709212, 0.3805856469527716, 0.3805856469527716, 0.6521989558282196, 0.39735764241316757, 0.39735764241316757, 0.3755053106599249, 0.3755053106599249, 0.17131378438479905, 0.08565689219239953, 0.4282844609619976, 0.08565689219239953, 0.08565689219239953, 0.20087452917778142, 0.20087452917778142, 0.6026235875333443, 0.20087452917778142, 0.5759020324390189, 0.28795101621950947, 0.28795101621950947, 0.6521390803782496, 0.4608337419777735, 0.11520843549444337, 0.12800937277160374, 0.14081031004876413, 0.14081031004876413, 0.2504838070794309, 0.2353029702867381, 0.18217004151231336, 0.1593987863232742, 0.17457962311596698, 0.6521445407722408, 0.42773380261992466, 0.11351464677922776, 0.45405858711691105, 0.3405439403376833, 0.19426605058915372, 0.21192660064271315, 0.24724770074983202, 0.19426605058915372, 0.14128440042847545, 0.21641458064694416, 0.20198694193714786, 0.2452698580665367, 0.20198694193714786, 0.12984874838816649, 0.18833780038023118, 0.21972743377693638, 0.18833780038023118, 0.15694816698352598, 0.2511170671736416, 0.232841795302186, 0.232841795302186, 0.18849097714938867, 0.21066638622578732, 0.12196474992019266, 0.10425706182443578, 0.15638559273665367, 0.5734138400343968, 0.15638559273665367, 0.05212853091221789, 0.2512300736986955, 0.20993197939206062, 0.1823999165209707, 0.1651923772265395, 0.18928293223874318, 0.20398645278297867, 0.2879808745171464, 0.13199123415369207, 0.1799880465732165, 0.1799880465732165, 0.29909665636482313, 0.4486449845472347, 0.14954832818241157, 0.14954832818241157, 0.27390685322271235, 0.41086027983406853, 0.13695342661135618, 0.30824520184376375, 0.17338792603711708, 0.21191857626758756, 0.15412260092188187, 0.15412260092188187, 0.6317718280814774, 0.5054538937805713, 0.0748820583378624, 0.11232308750679361, 0.1684846312601904, 0.1497641166757248, 0.30132438345992824, 0.6026487669198565, 0.30132438345992824, 0.19936504368472785, 0.3588570786325101, 0.11961902621083671, 0.15949203494778227, 0.15949203494778227, 0.2078879354483357, 0.25985991931041963, 0.18190194351729375, 0.12992995965520981, 0.23387392737937765, 0.4805824198078881, 0.06865463140112686, 0.13730926280225372, 0.2059638942033806, 0.13730926280225372, 0.12749845898993675, 0.04249948632997892, 0.2549969179798735, 0.1699979453199157, 0.4249948632997892, 0.3166796885048909, 0.20357979975314416, 0.12440987762692143, 0.2205447830659062, 0.1357198665020961, 0.2463124904689742, 0.1231562452344871, 0.2463124904689742, 0.3694687357034613, 0.1231562452344871, 0.2064656763376589, 0.4129313526753178, 0.2064656763376589, 0.2028261397725452, 0.24339136772705425, 0.24339136772705425, 0.14873916916653315, 0.1757826544695392, 0.5989307411476882], \"Term\": [\"aarmen\", \"aarmen\", \"abou\", \"abou\", \"abou\", \"abou\", \"abou\", \"abslicgislifile\", \"abslicgislifile\", \"abslicgislifile\", \"accounminder\", \"accounminder\", \"accounminder\", \"acievemen\", \"acievemen\", \"acievemen\", \"acv\", \"acv\", \"acv\", \"acv\", \"acv\", \"ad\", \"ad\", \"ad\", \"ad\", \"ad\", \"adverisemen\", \"adverisemen\", \"adverisemen\", \"adverisemen\", \"adverisemen\", \"adverising\", \"adverising\", \"adverising\", \"adverising\", \"adverising\", \"anyime\", \"aologies\", \"arer\", \"ariclemlaricle\", \"ariclemlaricle\", \"ariclemlaricle\", \"ariclemlaricle\", \"ariclemlaricle\", \"arrival\", \"arrival\", \"arry\", \"arry\", \"arryorderage\", \"arryorderage\", \"arying\", \"asros\", \"asros\", \"asu\", \"asu\", \"asu\", \"asu\", \"asu\", \"ave\", \"ave\", \"ave\", \"ave\", \"ave\", \"bin\", \"bin\", \"bin\", \"bin\", \"bin\", \"bizreor\", \"bizreor\", \"bizreor\", \"bizreor\", \"bizreor\", \"bloer\", \"board\", \"board\", \"board\", \"board\", \"board\", \"booked\", \"boxer\", \"boxer\", \"boyfriend\", \"boyfriend\", \"boyfriend\", \"brian_hoskins\", \"broadband\", \"bu\", \"bu\", \"bu\", \"bu\", \"bu\", \"buon\", \"buon\", \"buon\", \"buon\", \"business\", \"business\", \"business\", \"business\", \"business\", \"busy\", \"casc\", \"casc\", \"casc\", \"casc\", \"casc\", \"cc\", \"cc\", \"cc\", \"cc\", \"cc\", \"cdma\", \"cdma\", \"cdma\", \"cdma\", \"cdma\", \"cf\", \"cf\", \"cf\", \"cf\", \"cf\", \"cgi\", \"cgi\", \"cgi\", \"cgi\", \"cgi\", \"chx\", \"chx\", \"cicago\", \"cicago\", \"cicago\", \"cicago\", \"cicago\", \"click\", \"click\", \"click\", \"click\", \"click\", \"clickahome\", \"clickahome\", \"clickahome\", \"clickahome\", \"clickahome\", \"clickaomeilo\", \"clickaomeilo\", \"clickaomeilo\", \"clickaomeilo\", \"clickz\", \"clickz\", \"clickz\", \"clickz\", \"clickz\", \"clickzcom\", \"clickzcom\", \"clickzcom\", \"clickzcom\", \"clickzcom\", \"cloes\", \"clue\", \"clues\", \"clues\", \"clues\", \"com\", \"com\", \"com\", \"com\", \"com\", \"comanies\", \"comanies\", \"comanies\", \"comanies\", \"comanies\", \"comany\", \"comany\", \"comany\", \"comany\", \"comany\", \"communicaions\", \"communicaions\", \"communicaions\", \"communicaions\", \"communicaions\", \"conained\", \"conained\", \"conained\", \"conained\", \"conained\", \"condiions\", \"condiions\", \"condiions\", \"condiions\", \"condiions\", \"coninenal\", \"coninenal\", \"converged\", \"cor\", \"cor\", \"cor\", \"cor\", \"cor\", \"cp\", \"cp\", \"cpid\", \"credi\", \"credi\", \"credi\", \"credi\", \"credi\", \"cts\", \"cts\", \"cts\", \"cts\", \"cts\", \"cx\", \"cx\", \"cx\", \"daed\", \"day\", \"day\", \"day\", \"day\", \"day\", \"dec\", \"dec\", \"dec\", \"dec\", \"dec\", \"deergen\", \"dejoun\", \"dejoun\", \"dell\", \"denmark\", \"digial\", \"digial\", \"digial\", \"digial\", \"digial\", \"direcors\", \"direcors\", \"dm\", \"dmaileradmin\", \"dmaileradmin\", \"dollars\", \"dollars\", \"dollars\", \"dollars\", \"dollars\", \"donaldson\", \"ds\", \"ds\", \"ds\", \"ds\", \"ds\", \"duns\", \"easern\", \"ecf\", \"ecf\", \"ecf\", \"ecf\", \"ecf\", \"ect\", \"ect\", \"ect\", \"ect\", \"ect\", \"edaily\", \"ees\", \"ees\", \"ees\", \"ees\", \"ees\", \"ef\", \"ef\", \"ef\", \"ef\", \"ef\", \"efmbvp\", \"efmbvp\", \"efmbvp\", \"efmbvp\", \"efmbvp\", \"eir\", \"eir\", \"eir\", \"eir\", \"eir\", \"email\", \"email\", \"email\", \"email\", \"email\", \"emloyees\", \"emloyees\", \"emloyees\", \"emloyees\", \"emloyees\", \"ena\", \"ena\", \"ena\", \"ena\", \"energi\", \"enron\", \"enron\", \"enron\", \"enron\", \"enron\", \"enronne\", \"ere\", \"ere\", \"ere\", \"ere\", \"ere\", \"esandard\", \"esandard\", \"esandard\", \"esandard\", \"esandard\", \"esearc\", \"esearc\", \"esource\", \"esource\", \"esource\", \"et\", \"et\", \"et\", \"et\", \"et\", \"etrade\", \"etrade\", \"etrade\", \"exra\", \"f_\", \"f_\", \"f_\", \"f_\", \"f_\", \"financial\", \"financial\", \"financial\", \"financial\", \"financial\", \"fool\", \"fool\", \"fool\", \"fool\", \"fool\", \"founder\", \"founder\", \"free\", \"free\", \"free\", \"free\", \"free\", \"garage\", \"ge\", \"ge\", \"ge\", \"ge\", \"ge\", \"gif\", \"gif\", \"gif\", \"gif\", \"gif\", \"go\", \"go\", \"go\", \"go\", \"go\", \"goldii\", \"goldii\", \"goldii\", \"goldii\", \"goldii\", \"gos\", \"goscalk\", \"greene\", \"hanukka\", \"hanukka\", \"harry\", \"harry\", \"harry\", \"harry\", \"harry\", \"hoskins\", \"hou\", \"hou\", \"hou\", \"hou\", \"hou\", \"ic\", \"ic\", \"ic\", \"idio\", \"ilo\", \"ilo\", \"ilo\", \"ilo\", \"ilo\", \"image\", \"image\", \"image\", \"image\", \"image\", \"imer\", \"inc\", \"inc\", \"inc\", \"inc\", \"inc\", \"incorrecly\", \"indexasuid\", \"indexasuid\", \"indexasuid\", \"indexasuid\", \"indexasuid\", \"indexcfmsory\", \"indexcfmsory\", \"indexcfmsory\", \"indexcfmsory\", \"indexcfmsory\", \"indusry\", \"indusry\", \"indusry\", \"indusry\", \"indusry\", \"inerne\", \"inerne\", \"inerne\", \"inerne\", \"inerne\", \"inernecom\", \"inernecom\", \"inernecom\", \"inernecom\", \"inernecom\", \"informaion\", \"informaion\", \"informaion\", \"informaion\", \"informaion\", \"ino\", \"ino\", \"ino\", \"ino\", \"ino\", \"inquiring\", \"inramon\", \"joe\", \"joe\", \"joe\", \"joe\", \"joe\", \"journeyed\", \"last\", \"laundry\", \"lease\", \"lease\", \"lease\", \"lease\", \"lease\", \"lessons\", \"lfmncom\", \"lfmncom\", \"lfmncom\", \"lfmncom\", \"lfmncom\", \"lifeime\", \"lifeime\", \"lifeime\", \"lifeime\", \"lifeminder\", \"lifeminder\", \"lifeminder\", \"lifeminder\", \"lifeminder\", \"lifeminders\", \"lifeminders\", \"lifeminders\", \"lifeminders\", \"lifeminders\", \"lifeminderscom\", \"lifeminderscom\", \"lifeminderscom\", \"lifeminderscom\", \"lifeminderscom\", \"link\", \"link\", \"link\", \"link\", \"link\", \"mail\", \"mail\", \"mail\", \"mail\", \"mail\", \"mailinglis\", \"mailinglis\", \"marke\", \"marke\", \"marke\", \"marke\", \"marke\", \"may\", \"may\", \"may\", \"may\", \"may\", \"meled\", \"messaging\", \"migraion\", \"migraion\", \"migraion\", \"ml\", \"ml\", \"ml\", \"ml\", \"ml\", \"mmbu\", \"mobile\", \"monday\", \"monday\", \"monday\", \"monday\", \"monday\", \"moved\", \"moved\", \"moved\", \"moved\", \"moved\", \"msg\", \"msg\", \"msg\", \"msg\", \"msg\", \"na\", \"na\", \"na\", \"na\", \"na\", \"nasource\", \"nbpl\", \"needless\", \"new\", \"new\", \"new\", \"new\", \"new\", \"news\", \"news\", \"news\", \"news\", \"news\", \"newsinocom\", \"newsinocom\", \"newsinocom\", \"newsinocom\", \"newsinocom\", \"nicole\", \"noe\", \"noe\", \"noe\", \"noe\", \"noe\", \"nothing\", \"nov\", \"nov\", \"nov\", \"nov\", \"nov\", \"oday\", \"oday\", \"oday\", \"oday\", \"oday\", \"oer\", \"oer\", \"oer\", \"oer\", \"oer\", \"officially\", \"officially\", \"officially\", \"oliday\", \"oliday\", \"oliday\", \"oliday\", \"oliday\", \"one\", \"one\", \"one\", \"one\", \"one\", \"online\", \"online\", \"online\", \"online\", \"online\", \"oscards\", \"oscards\", \"oscards\", \"oscards\", \"oscards\", \"otel\", \"otel\", \"peras\", \"peras\", \"pilo\", \"pilo\", \"pilo\", \"pilo\", \"pilo\", \"please\", \"please\", \"please\", \"please\", \"please\", \"pls\", \"posiion\", \"power\", \"power\", \"power\", \"power\", \"power\", \"prosec\", \"qualcomm\", \"qualcomm\", \"qualcomm\", \"qualcomm\", \"qualcomm\", \"quoeassymbol\", \"quoeassymbol\", \"quoeassymbol\", \"quoeassymbol\", \"qwxb\", \"qwxb\", \"qwxb\", \"qwxb\", \"qwxb\", \"radeworld\", \"radeworld\", \"radeworld\", \"radeworld\", \"radeworld\", \"reailer\", \"reailer\", \"ref\", \"ref\", \"ref\", \"ref\", \"ref\", \"regina\", \"reor\", \"reor\", \"reor\", \"reor\", \"reor\", \"researc\", \"researc\", \"researc\", \"researc\", \"researc\", \"researcers\", \"researcers\", \"reurcase\", \"revised\", \"revised\", \"revised\", \"revised\", \"revised\", \"rey\", \"ri\", \"ri\", \"ri\", \"ri\", \"ri\", \"rickes\", \"rickes\", \"ricky\", \"riddle\", \"riding\", \"rsvp\", \"rsvp\", \"rsvp\", \"saus\", \"saus\", \"saus\", \"savings\", \"savings\", \"savings\", \"savings\", \"sbccgis\", \"sbccgis\", \"sbccgis\", \"sbccgis\", \"sbccgis\", \"scan\", \"scan\", \"se\", \"se\", \"se\", \"se\", \"se\", \"secions\", \"secions\", \"secions\", \"secions\", \"secions\", \"selled\", \"service\", \"service\", \"service\", \"service\", \"service\", \"services\", \"services\", \"services\", \"services\", \"services\", \"sie\", \"sie\", \"sie\", \"sie\", \"sie\", \"signer\", \"signer\", \"sinnercom\", \"sinnercom\", \"sinnercom\", \"sinnercom\", \"sinnercom\", \"sk\", \"skpowcom\", \"sleu\", \"sleu\", \"sleu\", \"sleu\", \"sleu\", \"smarmoneycom\", \"smarmoneycom\", \"smarmoneycom\", \"smarmoneycom\", \"smarmoneycom\", \"sn\", \"sn\", \"sn\", \"sn\", \"sn\", \"sock\", \"sock\", \"sock\", \"sock\", \"sock\", \"sockwac\", \"sockwac\", \"sockwac\", \"sockwac\", \"soluions\", \"soluions\", \"soluions\", \"soluions\", \"soluions\", \"sould\", \"sould\", \"sould\", \"sould\", \"sould\", \"sr\", \"sr\", \"sr\", \"sr\", \"sr\", \"stuff\", \"stuff\", \"stuff\", \"stuff\", \"stuff\", \"suc\", \"suc\", \"suc\", \"suc\", \"suc\", \"sun\", \"sun\", \"sun\", \"sun\", \"sun\", \"swea\", \"swing\", \"swing\", \"swing\", \"swing\", \"tailand\", \"tailand\", \"tailand\", \"tailand\", \"te\", \"te\", \"te\", \"te\", \"te\", \"tekronix\", \"tekronix\", \"tekronix\", \"tekronix\", \"tekronix\", \"terefore\", \"tis\", \"tis\", \"tis\", \"tis\", \"tis\", \"tomson\", \"tourism\", \"tourism\", \"tourism\", \"tradein\", \"tradein\", \"transcanada\", \"trust\", \"trust\", \"tulsa\", \"tulsa\", \"ublic\", \"ublic\", \"ublic\", \"ublic\", \"ublic\", \"ugrade\", \"ugrade\", \"ugrade\", \"ugrade\", \"unlimied\", \"unlimied\", \"unlimied\", \"urcased\", \"url\", \"url\", \"url\", \"url\", \"url\", \"us\", \"us\", \"us\", \"us\", \"us\", \"ven\", \"verify\", \"virawan\", \"virawan\", \"virawan\", \"visi\", \"visi\", \"visi\", \"visi\", \"visi\", \"wa\", \"wa\", \"wa\", \"wa\", \"wa\", \"wan\", \"wan\", \"wan\", \"wan\", \"wan\", \"web\", \"web\", \"web\", \"web\", \"web\", \"websie\", \"websie\", \"websie\", \"websie\", \"websie\", \"wi\", \"wi\", \"wi\", \"wi\", \"wi\", \"wic\", \"wic\", \"wic\", \"wic\", \"wic\", \"williamscom\", \"williamscom\", \"williamscom\", \"williamscom\", \"wizard\", \"wizard\", \"wizard\", \"world\", \"world\", \"world\", \"world\", \"world\", \"wries\", \"ww\", \"ww\", \"ww\", \"ww\", \"ww\", \"wwwaor\", \"wwwaor\", \"wwwaor\", \"wwwequiyalercom\", \"wwwequiyalercom\", \"wwwequiyalercom\", \"wwwequiyalercom\", \"wwwequiyalercom\", \"wwwfoolcom\", \"wwwfoolcom\", \"wwwfoolcom\", \"wwwfoolcom\", \"wwwfoolcom\", \"wwwlfmncom\", \"wwwlfmncom\", \"wwwlfmncom\", \"wwwlfmncom\", \"wwwlfmncom\", \"wwwsmarmoneycom\", \"wwwsmarmoneycom\", \"wwwsmarmoneycom\", \"wwwsmarmoneycom\", \"wwwsmarmoneycom\", \"yaoo\", \"yaoo\", \"yaoo\", \"yaoo\", \"yaoo\", \"yaoocom\", \"yaoocom\", \"yaoocom\", \"yaoocom\", \"yaoocom\", \"yawaongsiri\", \"yawaongsiri\", \"yawaongsiri\", \"year\", \"year\", \"year\", \"year\", \"year\", \"yue\"]}, \"R\": 30, \"lambda.step\": 0.01, \"plot.opts\": {\"xlab\": \"PC1\", \"ylab\": \"PC2\"}, \"topic.order\": [3, 2, 1, 5, 4]};\n",
       "\n",
       "function LDAvis_load_lib(url, callback){\n",
       "  var s = document.createElement('script');\n",
       "  s.src = url;\n",
       "  s.async = true;\n",
       "  s.onreadystatechange = s.onload = callback;\n",
       "  s.onerror = function(){console.warn(\"failed to load library \" + url);};\n",
       "  document.getElementsByTagName(\"head\")[0].appendChild(s);\n",
       "}\n",
       "\n",
       "if(typeof(LDAvis) !== \"undefined\"){\n",
       "   // already loaded: just create the visualization\n",
       "   !function(LDAvis){\n",
       "       new LDAvis(\"#\" + \"ldavis_el10916140459881400352598035571\", ldavis_el10916140459881400352598035571_data);\n",
       "   }(LDAvis);\n",
       "}else if(typeof define === \"function\" && define.amd){\n",
       "   // require.js is available: use it to load d3/LDAvis\n",
       "   require.config({paths: {d3: \"https://d3js.org/d3.v5\"}});\n",
       "   require([\"d3\"], function(d3){\n",
       "      window.d3 = d3;\n",
       "      LDAvis_load_lib(\"https://cdn.jsdelivr.net/gh/bmabey/pyLDAvis/pyLDAvis/js/ldavis.v3.0.0.js\", function(){\n",
       "        new LDAvis(\"#\" + \"ldavis_el10916140459881400352598035571\", ldavis_el10916140459881400352598035571_data);\n",
       "      });\n",
       "    });\n",
       "}else{\n",
       "    // require.js not available: dynamically load d3 & LDAvis\n",
       "    LDAvis_load_lib(\"https://d3js.org/d3.v5.js\", function(){\n",
       "         LDAvis_load_lib(\"https://cdn.jsdelivr.net/gh/bmabey/pyLDAvis/pyLDAvis/js/ldavis.v3.0.0.js\", function(){\n",
       "                 new LDAvis(\"#\" + \"ldavis_el10916140459881400352598035571\", ldavis_el10916140459881400352598035571_data);\n",
       "            })\n",
       "         });\n",
       "}\n",
       "</script>"
      ],
      "text/plain": [
       "<IPython.core.display.HTML object>"
      ]
     },
     "execution_count": 40,
     "metadata": {},
     "output_type": "execute_result"
    }
   ],
   "source": [
    "# Visualize the topics\n",
    "# instal the library with \"pip install pyLDAvis==3.2.1\" specific version\n",
    "import pyLDAvis\n",
    "import pyLDAvis.gensim\n",
    "#import matplotlib.pyplot as plt\n",
    "\n",
    "pyLDAvis.enable_notebook(sort=True)\n",
    "vis = pyLDAvis.gensim.prepare(lda_model, corpus, id2word)\n",
    "pyLDAvis.display(vis)"
   ]
  },
  {
   "cell_type": "code",
   "execution_count": null,
   "metadata": {},
   "outputs": [],
   "source": []
  }
 ],
 "metadata": {
  "interpreter": {
   "hash": "7afe6587465c127536604ab39b2963850471c155ac58017c5528bd927abd31c3"
  },
  "kernelspec": {
   "display_name": "Python 3.8.13 ('py_api')",
   "language": "python",
   "name": "python3"
  },
  "language_info": {
   "codemirror_mode": {
    "name": "ipython",
    "version": 3
   },
   "file_extension": ".py",
   "mimetype": "text/x-python",
   "name": "python",
   "nbconvert_exporter": "python",
   "pygments_lexer": "ipython3",
   "version": "3.8.13"
  },
  "orig_nbformat": 4
 },
 "nbformat": 4,
 "nbformat_minor": 2
}
